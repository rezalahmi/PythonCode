{
 "cells": [
  {
   "cell_type": "code",
   "execution_count": 2,
   "id": "06594f35",
   "metadata": {},
   "outputs": [],
   "source": [
    "import pandas as pd\n",
    "X_full = pd.read_csv(r'train.csv')\n",
    "X_test_full = pd.read_csv(r'test.csv')\n",
    "y = X_full.SalePrice\n",
    "features = ['LotArea', 'YearBuilt', '1stFlrSF', '2ndFlrSF', 'FullBath', 'BedroomAbvGr', 'TotRmsAbvGrd']\n",
    "X = X_full[features].copy()\n",
    "X_test = X_test_full[features].copy()\n",
    "\n",
    "from sklearn.model_selection import train_test_split\n",
    "X_train, X_valid, y_train, y_valid = \\\n",
    "train_test_split(X,y,train_size=0.8,test_size=0.2,random_state=1)"
   ]
  },
  {
   "cell_type": "code",
   "execution_count": 36,
   "id": "7fb119de",
   "metadata": {},
   "outputs": [],
   "source": [
    "from sklearn.ensemble import RandomForestRegressor\n",
    "myModel1 = RandomForestRegressor(n_estimators=50,random_state=0)\n",
    "myModel2 = RandomForestRegressor(n_estimators=100,random_state=0)\n",
    "myModel3 = RandomForestRegressor(n_estimators=100,criterion='mae',random_state=0)\n",
    "myModel4 = RandomForestRegressor(n_estimators=200,min_samples_split=20,random_state=0)\n",
    "myModel5 = RandomForestRegressor(n_estimators=100,max_depth=7,random_state=0)\n",
    "myModel6 = RandomForestRegressor(n_estimators=300,random_state=0,criterion='mae',max_depth=13)\n",
    "models = [myModel1,myModel2,myModel3,myModel4,myModel5,myModel6]"
   ]
  },
  {
   "cell_type": "code",
   "execution_count": 37,
   "id": "35be9421",
   "metadata": {},
   "outputs": [
    {
     "name": "stdout",
     "output_type": "stream",
     "text": [
      "Model 1 MAE: 22074\n",
      "Model 2 MAE: 21979\n",
      "Model 3 MAE: 22457\n",
      "Model 4 MAE: 22508\n",
      "Model 5 MAE: 22439\n",
      "Model 6 MAE: 21863\n"
     ]
    }
   ],
   "source": [
    "from sklearn.metrics import mean_absolute_error\n",
    "def score_model(model, X_t=X_train, X_v=X_valid, y_t=y_train, y_v=y_valid):\n",
    "    model.fit(X_t, y_t)\n",
    "    preds = model.predict(X_v)\n",
    "    return mean_absolute_error(y_v, preds)\n",
    "for i in range(0, len(models)):\n",
    "    mae = score_model(models[i])\n",
    "    print(\"Model %d MAE: %d\" % (i+1, mae))"
   ]
  },
  {
   "cell_type": "code",
   "execution_count": 41,
   "id": "670697e7",
   "metadata": {},
   "outputs": [
    {
     "name": "stdout",
     "output_type": "stream",
     "text": [
      "Model MAE is : 21863\n"
     ]
    }
   ],
   "source": [
    "myModel6 = RandomForestRegressor(n_estimators=300,random_state=0,criterion='mae',max_depth=13)\n",
    "myModel6.fit(X_train,y_train)\n",
    "preds = myModel6.predict(X_valid)\n",
    "print(\"Model MAE is : %d\"%mean_absolute_error(y_valid,preds))"
   ]
  }
 ],
 "metadata": {
  "kernelspec": {
   "display_name": "Python 3",
   "language": "python",
   "name": "python3"
  },
  "language_info": {
   "codemirror_mode": {
    "name": "ipython",
    "version": 3
   },
   "file_extension": ".py",
   "mimetype": "text/x-python",
   "name": "python",
   "nbconvert_exporter": "python",
   "pygments_lexer": "ipython3",
   "version": "3.8.8"
  }
 },
 "nbformat": 4,
 "nbformat_minor": 5
}
