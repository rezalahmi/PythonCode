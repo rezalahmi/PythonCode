{
 "cells": [
  {
   "cell_type": "code",
   "execution_count": 1,
   "id": "e364ef41",
   "metadata": {},
   "outputs": [
    {
     "name": "stdout",
     "output_type": "stream",
     "text": [
      "reza _ 38\n"
     ]
    }
   ],
   "source": [
    "#Python is an object oriented programming language.\n",
    "\n",
    "#Almost everything in Python is an object, with its properties and methods.\n",
    "\n",
    "#A Class is like an object constructor, or a \"blueprint\" for creating objects.\n",
    "#All classes have a function called __init__(), \n",
    "#which is always executed when the class is being initiated.\n",
    "class person:\n",
    "    def __init__(self,name,age):\n",
    "        self.name = name\n",
    "        self.age = age\n",
    "\n",
    "p1 = person(\"reza\",38)\n",
    "#The __init__() function is called automatically every time the class \n",
    "#is being used to create a new object.\n",
    "print(p1.name,\"_\",p1.age)"
   ]
  },
  {
   "cell_type": "code",
   "execution_count": 2,
   "id": "9264a60d",
   "metadata": {},
   "outputs": [
    {
     "name": "stdout",
     "output_type": "stream",
     "text": [
      "<__main__.person object at 0x000001D29C908D00>\n"
     ]
    }
   ],
   "source": [
    "p2 = person(\"raheleh\",38)\n",
    "print(p2)"
   ]
  },
  {
   "cell_type": "code",
   "execution_count": 3,
   "id": "dceb76fc",
   "metadata": {},
   "outputs": [
    {
     "data": {
      "text/plain": [
       "__main__.person"
      ]
     },
     "execution_count": 3,
     "metadata": {},
     "output_type": "execute_result"
    }
   ],
   "source": [
    "type(p2)"
   ]
  },
  {
   "cell_type": "code",
   "execution_count": 4,
   "id": "416adc52",
   "metadata": {},
   "outputs": [],
   "source": [
    "class person:\n",
    "    def __init__(self,name,age):\n",
    "        self.name = name\n",
    "        self.age = age\n",
    "    def show(self):\n",
    "        print(\"my name is \",self.name,\" and I'm \",self.age,\" year's old\")\n",
    "#The self parameter is a reference to the current instance of the class, \n",
    "#and is used to access variables that belong to the class."
   ]
  },
  {
   "cell_type": "code",
   "execution_count": 5,
   "id": "bf657d15",
   "metadata": {},
   "outputs": [
    {
     "name": "stdout",
     "output_type": "stream",
     "text": [
      "my name is  reza  and I'm  38  year's old\n"
     ]
    }
   ],
   "source": [
    "p3 = person(\"reza\",38)\n",
    "p3.show()"
   ]
  },
  {
   "cell_type": "code",
   "execution_count": 6,
   "id": "4163a5d9",
   "metadata": {},
   "outputs": [],
   "source": [
    "#It does not have to be named self , you can call it whatever you like, \n",
    "#but it has to be the first parameter of any function in the class\n",
    "class person:\n",
    "    def __init__(reza,name,age):\n",
    "        reza.name = name\n",
    "        reza.age = age\n",
    "    def show(sadra):\n",
    "        print(\"my name is \",sadra.name,\" and I'm \",sadra.age,\" year's old\")"
   ]
  },
  {
   "cell_type": "code",
   "execution_count": 8,
   "id": "db028683",
   "metadata": {},
   "outputs": [
    {
     "name": "stdout",
     "output_type": "stream",
     "text": [
      "my name is  raheleh  and I'm  38  year's old\n"
     ]
    }
   ],
   "source": [
    "p4=person(\"raheleh\",38)\n",
    "p4.show()"
   ]
  },
  {
   "cell_type": "code",
   "execution_count": 9,
   "id": "3366fbec",
   "metadata": {},
   "outputs": [],
   "source": [
    "del p4.age"
   ]
  },
  {
   "cell_type": "code",
   "execution_count": 10,
   "id": "a6b917de",
   "metadata": {},
   "outputs": [
    {
     "ename": "AttributeError",
     "evalue": "'person' object has no attribute 'age'",
     "output_type": "error",
     "traceback": [
      "\u001b[1;31m---------------------------------------------------------------------------\u001b[0m",
      "\u001b[1;31mAttributeError\u001b[0m                            Traceback (most recent call last)",
      "\u001b[1;32m<ipython-input-10-c92c0430240c>\u001b[0m in \u001b[0;36m<module>\u001b[1;34m\u001b[0m\n\u001b[1;32m----> 1\u001b[1;33m \u001b[0mp4\u001b[0m\u001b[1;33m.\u001b[0m\u001b[0mshow\u001b[0m\u001b[1;33m(\u001b[0m\u001b[1;33m)\u001b[0m\u001b[1;33m\u001b[0m\u001b[1;33m\u001b[0m\u001b[0m\n\u001b[0m",
      "\u001b[1;32m<ipython-input-6-fa0d4d9f5975>\u001b[0m in \u001b[0;36mshow\u001b[1;34m(sadra)\u001b[0m\n\u001b[0;32m      6\u001b[0m         \u001b[0mreza\u001b[0m\u001b[1;33m.\u001b[0m\u001b[0mage\u001b[0m \u001b[1;33m=\u001b[0m \u001b[0mage\u001b[0m\u001b[1;33m\u001b[0m\u001b[1;33m\u001b[0m\u001b[0m\n\u001b[0;32m      7\u001b[0m     \u001b[1;32mdef\u001b[0m \u001b[0mshow\u001b[0m\u001b[1;33m(\u001b[0m\u001b[0msadra\u001b[0m\u001b[1;33m)\u001b[0m\u001b[1;33m:\u001b[0m\u001b[1;33m\u001b[0m\u001b[1;33m\u001b[0m\u001b[0m\n\u001b[1;32m----> 8\u001b[1;33m         \u001b[0mprint\u001b[0m\u001b[1;33m(\u001b[0m\u001b[1;34m\"my name is \"\u001b[0m\u001b[1;33m,\u001b[0m\u001b[0msadra\u001b[0m\u001b[1;33m.\u001b[0m\u001b[0mname\u001b[0m\u001b[1;33m,\u001b[0m\u001b[1;34m\" and I'm \"\u001b[0m\u001b[1;33m,\u001b[0m\u001b[0msadra\u001b[0m\u001b[1;33m.\u001b[0m\u001b[0mage\u001b[0m\u001b[1;33m,\u001b[0m\u001b[1;34m\" year's old\"\u001b[0m\u001b[1;33m)\u001b[0m\u001b[1;33m\u001b[0m\u001b[1;33m\u001b[0m\u001b[0m\n\u001b[0m",
      "\u001b[1;31mAttributeError\u001b[0m: 'person' object has no attribute 'age'"
     ]
    }
   ],
   "source": [
    "p4.show()"
   ]
  },
  {
   "cell_type": "code",
   "execution_count": 11,
   "id": "a74cc2af",
   "metadata": {},
   "outputs": [],
   "source": [
    "del p4"
   ]
  },
  {
   "cell_type": "code",
   "execution_count": 34,
   "id": "7bb1ba79",
   "metadata": {},
   "outputs": [],
   "source": [
    "#To create a class that inherits the functionality from another class, \n",
    "#send the parent class as a parameter when creating the child class\n",
    "class student(person):\n",
    "    def __init__(self,fname,age,major):\n",
    "        person.__init__(self,fname,age)\n",
    "        self.major = major"
   ]
  },
  {
   "cell_type": "code",
   "execution_count": 35,
   "id": "5234d1b6",
   "metadata": {},
   "outputs": [],
   "source": [
    "s1 = student(\"reza\",34,\"math\")"
   ]
  },
  {
   "cell_type": "code",
   "execution_count": 23,
   "id": "c9b9a982",
   "metadata": {},
   "outputs": [
    {
     "name": "stdout",
     "output_type": "stream",
     "text": [
      "my name is  reza  and I'm  34  year's old\n",
      "math\n"
     ]
    }
   ],
   "source": [
    "s1.show()\n",
    "print(s1.major)"
   ]
  },
  {
   "cell_type": "code",
   "execution_count": 30,
   "id": "bf44fdc1",
   "metadata": {},
   "outputs": [],
   "source": [
    "#Python also has a super() function that will make the child class \n",
    "#inherit all the methods and properties from its parent\n",
    "class teacher(person):\n",
    "    def __init__(self,fname,age,department):\n",
    "        super().__init__(fname,age)\n",
    "        self.department = department\n",
    "    def show(self):\n",
    "        super().show()\n",
    "        print(\"I'm working in \",self.department)\n",
    "#By using the super() function, you do not have to use the name of the parent element, \n",
    "#it will automatically inherit the methods and properties from its parent.\n"
   ]
  },
  {
   "cell_type": "code",
   "execution_count": 31,
   "id": "49611782",
   "metadata": {},
   "outputs": [
    {
     "name": "stdout",
     "output_type": "stream",
     "text": [
      "my name is  reza  and I'm  38  year's old\n",
      "I'm working in  computer\n"
     ]
    }
   ],
   "source": [
    "t1 = teacher(\"reza\",38,\"computer\")\n",
    "t1.show()"
   ]
  },
  {
   "cell_type": "code",
   "execution_count": null,
   "id": "52665855",
   "metadata": {},
   "outputs": [],
   "source": []
  }
 ],
 "metadata": {
  "kernelspec": {
   "display_name": "Python 3",
   "language": "python",
   "name": "python3"
  },
  "language_info": {
   "codemirror_mode": {
    "name": "ipython",
    "version": 3
   },
   "file_extension": ".py",
   "mimetype": "text/x-python",
   "name": "python",
   "nbconvert_exporter": "python",
   "pygments_lexer": "ipython3",
   "version": "3.8.8"
  }
 },
 "nbformat": 4,
 "nbformat_minor": 5
}
