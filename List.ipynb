{
 "cells": [
  {
   "cell_type": "code",
   "execution_count": 1,
   "id": "7845ddb8",
   "metadata": {},
   "outputs": [],
   "source": [
    "my_list = [\"reza\",62,\"sadra\",86,\"raheleh\",62,\"reza\"]\n",
    "#List items are ordered, changeable, and allow duplicate values"
   ]
  },
  {
   "cell_type": "code",
   "execution_count": 2,
   "id": "7c457df7",
   "metadata": {},
   "outputs": [
    {
     "data": {
      "text/plain": [
       "'reza'"
      ]
     },
     "execution_count": 2,
     "metadata": {},
     "output_type": "execute_result"
    }
   ],
   "source": [
    "my_list[0]\n",
    "#return first elemnt(string)"
   ]
  },
  {
   "cell_type": "code",
   "execution_count": 3,
   "id": "2ea7edbc",
   "metadata": {},
   "outputs": [
    {
     "data": {
      "text/plain": [
       "'r'"
      ]
     },
     "execution_count": 3,
     "metadata": {},
     "output_type": "execute_result"
    }
   ],
   "source": [
    "my_list[0][0]\n",
    "#you can manipulate elemnt"
   ]
  },
  {
   "cell_type": "code",
   "execution_count": 4,
   "id": "207441c2",
   "metadata": {},
   "outputs": [
    {
     "data": {
      "text/plain": [
       "62"
      ]
     },
     "execution_count": 4,
     "metadata": {},
     "output_type": "execute_result"
    }
   ],
   "source": [
    "my_list[1]\n",
    "#retrun second elemnt"
   ]
  },
  {
   "cell_type": "code",
   "execution_count": 5,
   "id": "c7e3c36a",
   "metadata": {},
   "outputs": [
    {
     "data": {
      "text/plain": [
       "[]"
      ]
     },
     "execution_count": 5,
     "metadata": {},
     "output_type": "execute_result"
    }
   ],
   "source": [
    "my_list[0:0]\n",
    "#retrun empthy list"
   ]
  },
  {
   "cell_type": "code",
   "execution_count": 6,
   "id": "ff152d32",
   "metadata": {},
   "outputs": [
    {
     "data": {
      "text/plain": [
       "['reza']"
      ]
     },
     "execution_count": 6,
     "metadata": {},
     "output_type": "execute_result"
    }
   ],
   "source": [
    "my_list[0:1]\n",
    "#retrun list from zero to one"
   ]
  },
  {
   "cell_type": "code",
   "execution_count": 7,
   "id": "80cf29c6",
   "metadata": {},
   "outputs": [
    {
     "data": {
      "text/plain": [
       "[62]"
      ]
     },
     "execution_count": 7,
     "metadata": {},
     "output_type": "execute_result"
    }
   ],
   "source": [
    "my_list[1:2]"
   ]
  },
  {
   "cell_type": "code",
   "execution_count": 8,
   "id": "214f4692",
   "metadata": {},
   "outputs": [
    {
     "data": {
      "text/plain": [
       "[62, 'sadra']"
      ]
     },
     "execution_count": 8,
     "metadata": {},
     "output_type": "execute_result"
    }
   ],
   "source": [
    "my_list[1:3]"
   ]
  },
  {
   "cell_type": "code",
   "execution_count": 9,
   "id": "9e2b1b3b",
   "metadata": {},
   "outputs": [
    {
     "data": {
      "text/plain": [
       "['sadra', 86]"
      ]
     },
     "execution_count": 9,
     "metadata": {},
     "output_type": "execute_result"
    }
   ],
   "source": [
    "my_list[2:4]"
   ]
  },
  {
   "cell_type": "code",
   "execution_count": 10,
   "id": "5ff60cd9",
   "metadata": {},
   "outputs": [
    {
     "data": {
      "text/plain": [
       "['reza', 62]"
      ]
     },
     "execution_count": 10,
     "metadata": {},
     "output_type": "execute_result"
    }
   ],
   "source": [
    "my_list[:2]"
   ]
  },
  {
   "cell_type": "code",
   "execution_count": 11,
   "id": "881a08a3",
   "metadata": {},
   "outputs": [
    {
     "data": {
      "text/plain": [
       "['sadra', 86, 'raheleh', 62]"
      ]
     },
     "execution_count": 11,
     "metadata": {},
     "output_type": "execute_result"
    }
   ],
   "source": [
    "my_list[2:]"
   ]
  },
  {
   "cell_type": "code",
   "execution_count": 12,
   "id": "634e37a8",
   "metadata": {},
   "outputs": [
    {
     "data": {
      "text/plain": [
       "['reza', 'sadra', 'raheleh']"
      ]
     },
     "execution_count": 12,
     "metadata": {},
     "output_type": "execute_result"
    }
   ],
   "source": [
    "my_list[::2]"
   ]
  },
  {
   "cell_type": "code",
   "execution_count": 13,
   "id": "4eb02414",
   "metadata": {},
   "outputs": [
    {
     "data": {
      "text/plain": [
       "[62, 86, 62]"
      ]
     },
     "execution_count": 13,
     "metadata": {},
     "output_type": "execute_result"
    }
   ],
   "source": [
    "my_list[1::2]"
   ]
  },
  {
   "cell_type": "code",
   "execution_count": 14,
   "id": "d8cc5ff7",
   "metadata": {},
   "outputs": [
    {
     "data": {
      "text/plain": [
       "[62, 'raheleh', 86, 'sadra', 62, 'reza']"
      ]
     },
     "execution_count": 14,
     "metadata": {},
     "output_type": "execute_result"
    }
   ],
   "source": [
    "my_list[::-1]"
   ]
  },
  {
   "cell_type": "code",
   "execution_count": 2,
   "id": "16790f6a",
   "metadata": {},
   "outputs": [
    {
     "data": {
      "text/plain": [
       "'reza'"
      ]
     },
     "execution_count": 2,
     "metadata": {},
     "output_type": "execute_result"
    }
   ],
   "source": [
    "my_list[-1]\n",
    "#Negative indexing means start from the end"
   ]
  },
  {
   "cell_type": "code",
   "execution_count": 3,
   "id": "37fd1b00",
   "metadata": {},
   "outputs": [
    {
     "data": {
      "text/plain": [
       "'raheleh'"
      ]
     },
     "execution_count": 3,
     "metadata": {},
     "output_type": "execute_result"
    }
   ],
   "source": [
    "my_list[-3]"
   ]
  },
  {
   "cell_type": "code",
   "execution_count": 15,
   "id": "5553f14b",
   "metadata": {},
   "outputs": [],
   "source": [
    "my_list.append(1389)\n",
    "#add elemnt to rear of a list"
   ]
  },
  {
   "cell_type": "code",
   "execution_count": 16,
   "id": "1ff82914",
   "metadata": {},
   "outputs": [
    {
     "data": {
      "text/plain": [
       "['reza', 62, 'sadra', 86, 'raheleh', 62, 1389]"
      ]
     },
     "execution_count": 16,
     "metadata": {},
     "output_type": "execute_result"
    }
   ],
   "source": [
    "my_list"
   ]
  },
  {
   "cell_type": "code",
   "execution_count": 17,
   "id": "4f5a2330",
   "metadata": {},
   "outputs": [
    {
     "data": {
      "text/plain": [
       "6"
      ]
     },
     "execution_count": 17,
     "metadata": {},
     "output_type": "execute_result"
    }
   ],
   "source": [
    "my_list.index(1389)\n",
    "#find the position of elemnt"
   ]
  },
  {
   "cell_type": "code",
   "execution_count": 18,
   "id": "6740f3af",
   "metadata": {},
   "outputs": [
    {
     "data": {
      "text/plain": [
       "1389"
      ]
     },
     "execution_count": 18,
     "metadata": {},
     "output_type": "execute_result"
    }
   ],
   "source": [
    "my_list.pop(6)\n",
    "#remove the elemnt in the specific position and return elemnt\n",
    "#this method get index of elemnt and then return that"
   ]
  },
  {
   "cell_type": "code",
   "execution_count": 19,
   "id": "d8668279",
   "metadata": {},
   "outputs": [
    {
     "data": {
      "text/plain": [
       "['reza', 62, 'sadra', 86, 'raheleh', 62]"
      ]
     },
     "execution_count": 19,
     "metadata": {},
     "output_type": "execute_result"
    }
   ],
   "source": [
    "my_list"
   ]
  },
  {
   "cell_type": "code",
   "execution_count": 25,
   "id": "373ac1cb",
   "metadata": {},
   "outputs": [],
   "source": [
    "my_list.insert(1,1389)\n",
    "#add one elemnt to the specific position"
   ]
  },
  {
   "cell_type": "code",
   "execution_count": 26,
   "id": "be746da8",
   "metadata": {},
   "outputs": [
    {
     "data": {
      "text/plain": [
       "['reza', 1389, 62, 'sadra', 86, 'raheleh', 62]"
      ]
     },
     "execution_count": 26,
     "metadata": {},
     "output_type": "execute_result"
    }
   ],
   "source": [
    "my_list"
   ]
  },
  {
   "cell_type": "code",
   "execution_count": 27,
   "id": "534f0320",
   "metadata": {},
   "outputs": [],
   "source": [
    "my_list.remove(1389)\n",
    "#this method get the elemnt from list and remove it"
   ]
  },
  {
   "cell_type": "code",
   "execution_count": 28,
   "id": "562ae566",
   "metadata": {},
   "outputs": [
    {
     "data": {
      "text/plain": [
       "['reza', 62, 'sadra', 86, 'raheleh', 62]"
      ]
     },
     "execution_count": 28,
     "metadata": {},
     "output_type": "execute_result"
    }
   ],
   "source": [
    "my_list"
   ]
  },
  {
   "cell_type": "code",
   "execution_count": 7,
   "id": "4508d4b7",
   "metadata": {},
   "outputs": [],
   "source": [
    "eli_list = my_list.copy()\n",
    "#this method copy one list to another"
   ]
  },
  {
   "cell_type": "code",
   "execution_count": 8,
   "id": "a32e8654",
   "metadata": {},
   "outputs": [
    {
     "data": {
      "text/plain": [
       "['reza', 62, 'sadra', 86, 'raheleh', 62, 'reza']"
      ]
     },
     "execution_count": 8,
     "metadata": {},
     "output_type": "execute_result"
    }
   ],
   "source": [
    "eli_list"
   ]
  },
  {
   "cell_type": "code",
   "execution_count": 9,
   "id": "cf324345",
   "metadata": {},
   "outputs": [],
   "source": [
    "eli_list[0] = \"eli\"\n",
    "eli_list[1] = 59"
   ]
  },
  {
   "cell_type": "code",
   "execution_count": 10,
   "id": "91e8e499",
   "metadata": {},
   "outputs": [
    {
     "data": {
      "text/plain": [
       "['eli', 59, 'sadra', 86, 'raheleh', 62, 'reza']"
      ]
     },
     "execution_count": 10,
     "metadata": {},
     "output_type": "execute_result"
    }
   ],
   "source": [
    "eli_list"
   ]
  },
  {
   "cell_type": "code",
   "execution_count": 11,
   "id": "782b2feb",
   "metadata": {},
   "outputs": [],
   "source": [
    "eli_list[eli_list.index(\"raheleh\")] = \"taha\""
   ]
  },
  {
   "cell_type": "code",
   "execution_count": 12,
   "id": "eb1560c0",
   "metadata": {},
   "outputs": [
    {
     "data": {
      "text/plain": [
       "['eli', 59, 'sadra', 86, 'taha', 62, 'reza']"
      ]
     },
     "execution_count": 12,
     "metadata": {},
     "output_type": "execute_result"
    }
   ],
   "source": [
    "eli_list"
   ]
  },
  {
   "cell_type": "code",
   "execution_count": 35,
   "id": "8ee75be9",
   "metadata": {},
   "outputs": [
    {
     "data": {
      "text/plain": [
       "['eli', 59, 'sadra', 86, 'taha', 91]"
      ]
     },
     "execution_count": 35,
     "metadata": {},
     "output_type": "execute_result"
    }
   ],
   "source": [
    "eli_list[eli_list.index(62)] = 91\n",
    "eli_list"
   ]
  },
  {
   "cell_type": "code",
   "execution_count": 36,
   "id": "cf33c68c",
   "metadata": {},
   "outputs": [],
   "source": [
    "my_list.reverse()\n",
    "#this method reverse elemnt in the list and store on in"
   ]
  },
  {
   "cell_type": "code",
   "execution_count": 37,
   "id": "3191fd1f",
   "metadata": {},
   "outputs": [
    {
     "data": {
      "text/plain": [
       "[62, 'raheleh', 86, 'sadra', 62, 'reza']"
      ]
     },
     "execution_count": 37,
     "metadata": {},
     "output_type": "execute_result"
    }
   ],
   "source": [
    "my_list"
   ]
  },
  {
   "cell_type": "code",
   "execution_count": 38,
   "id": "8880f73c",
   "metadata": {},
   "outputs": [
    {
     "data": {
      "text/plain": [
       "['reza', 62, 'sadra', 86, 'raheleh', 62]"
      ]
     },
     "execution_count": 38,
     "metadata": {},
     "output_type": "execute_result"
    }
   ],
   "source": [
    "my_list.reverse()\n",
    "my_list"
   ]
  },
  {
   "cell_type": "code",
   "execution_count": 39,
   "id": "ca3f7e33",
   "metadata": {},
   "outputs": [
    {
     "ename": "TypeError",
     "evalue": "'<' not supported between instances of 'str' and 'int'",
     "output_type": "error",
     "traceback": [
      "\u001b[1;31m---------------------------------------------------------------------------\u001b[0m",
      "\u001b[1;31mTypeError\u001b[0m                                 Traceback (most recent call last)",
      "\u001b[1;32m<ipython-input-39-3059a33e72fb>\u001b[0m in \u001b[0;36m<module>\u001b[1;34m\u001b[0m\n\u001b[1;32m----> 1\u001b[1;33m \u001b[0mmy_list\u001b[0m\u001b[1;33m.\u001b[0m\u001b[0msort\u001b[0m\u001b[1;33m(\u001b[0m\u001b[0mreverse\u001b[0m\u001b[1;33m=\u001b[0m\u001b[1;32mTrue\u001b[0m\u001b[1;33m)\u001b[0m\u001b[1;33m\u001b[0m\u001b[1;33m\u001b[0m\u001b[0m\n\u001b[0m",
      "\u001b[1;31mTypeError\u001b[0m: '<' not supported between instances of 'str' and 'int'"
     ]
    }
   ],
   "source": [
    "my_list.sort(reverse=True)\n",
    "#if list contain only number element, you can sort it"
   ]
  },
  {
   "cell_type": "code",
   "execution_count": 41,
   "id": "e7b1e3e8",
   "metadata": {},
   "outputs": [
    {
     "data": {
      "text/plain": [
       "[1, 3, 3, 3.4, 4.7, 5, 8]"
      ]
     },
     "execution_count": 41,
     "metadata": {},
     "output_type": "execute_result"
    }
   ],
   "source": [
    "x_list = [3,5,8,1,3,3.4,4.7]\n",
    "x_list.sort()\n",
    "x_list"
   ]
  },
  {
   "cell_type": "code",
   "execution_count": 42,
   "id": "d3c41fce",
   "metadata": {},
   "outputs": [],
   "source": [
    "x_list.sort(reverse=True)"
   ]
  },
  {
   "cell_type": "code",
   "execution_count": 43,
   "id": "c3b4d60e",
   "metadata": {},
   "outputs": [
    {
     "data": {
      "text/plain": [
       "[8, 5, 4.7, 3.4, 3, 3, 1]"
      ]
     },
     "execution_count": 43,
     "metadata": {},
     "output_type": "execute_result"
    }
   ],
   "source": [
    "x_list"
   ]
  },
  {
   "cell_type": "code",
   "execution_count": 44,
   "id": "cc084ad9",
   "metadata": {},
   "outputs": [],
   "source": [
    "nested_list = [1,2,3,my_list]"
   ]
  },
  {
   "cell_type": "code",
   "execution_count": 45,
   "id": "d013ca59",
   "metadata": {},
   "outputs": [
    {
     "data": {
      "text/plain": [
       "[1, 2, 3, ['reza', 62, 'sadra', 86, 'raheleh', 62]]"
      ]
     },
     "execution_count": 45,
     "metadata": {},
     "output_type": "execute_result"
    }
   ],
   "source": [
    "nested_list"
   ]
  },
  {
   "cell_type": "code",
   "execution_count": 47,
   "id": "54868738",
   "metadata": {},
   "outputs": [
    {
     "data": {
      "text/plain": [
       "['reza', 62, 'sadra', 86, 'raheleh', 62]"
      ]
     },
     "execution_count": 47,
     "metadata": {},
     "output_type": "execute_result"
    }
   ],
   "source": [
    "nested_list[3]"
   ]
  },
  {
   "cell_type": "code",
   "execution_count": 48,
   "id": "1b564bf1",
   "metadata": {},
   "outputs": [
    {
     "data": {
      "text/plain": [
       "[62, 86, 62]"
      ]
     },
     "execution_count": 48,
     "metadata": {},
     "output_type": "execute_result"
    }
   ],
   "source": [
    "nested_list[3][1::2]"
   ]
  },
  {
   "cell_type": "code",
   "execution_count": 4,
   "id": "87407522",
   "metadata": {},
   "outputs": [
    {
     "name": "stdout",
     "output_type": "stream",
     "text": [
      "yes\n"
     ]
    }
   ],
   "source": [
    "if \"reza\" in my_list:\n",
    "    print(\"yes\")"
   ]
  },
  {
   "cell_type": "code",
   "execution_count": 13,
   "id": "76d21fc9",
   "metadata": {},
   "outputs": [
    {
     "name": "stdout",
     "output_type": "stream",
     "text": [
      "['reza', 62, 'sadra', 86, 'raheleh', 62, 'reza', 'eli', 59, 'sadra', 86, 'taha', 62, 'reza']\n"
     ]
    }
   ],
   "source": [
    "#To append elements from another list to the current list, use the extend() method\n",
    "ex_list = my_list.copy()\n",
    "ex_list.extend(eli_list)\n",
    "print(ex_list)"
   ]
  },
  {
   "cell_type": "code",
   "execution_count": 14,
   "id": "d82be5ea",
   "metadata": {},
   "outputs": [],
   "source": [
    "#The del keyword also removes the specified index\n",
    "del ex_list[0]"
   ]
  },
  {
   "cell_type": "code",
   "execution_count": 16,
   "id": "2394169e",
   "metadata": {},
   "outputs": [
    {
     "name": "stdout",
     "output_type": "stream",
     "text": [
      "[62, 'sadra', 86, 'raheleh', 62, 'reza', 'eli', 59, 'sadra', 86, 'taha', 62, 'reza']\n"
     ]
    }
   ],
   "source": [
    "print(ex_list)"
   ]
  },
  {
   "cell_type": "code",
   "execution_count": 17,
   "id": "0c166225",
   "metadata": {},
   "outputs": [],
   "source": [
    "#The del keyword can also delete the list completely.\n",
    "del ex_list"
   ]
  },
  {
   "cell_type": "code",
   "execution_count": 18,
   "id": "cd41b389",
   "metadata": {},
   "outputs": [],
   "source": [
    "#The clear() method empties the list.\n",
    "#The list still remains, but it has no content.\n",
    "eli_list.clear()"
   ]
  },
  {
   "cell_type": "code",
   "execution_count": 19,
   "id": "21bc9086",
   "metadata": {},
   "outputs": [
    {
     "name": "stdout",
     "output_type": "stream",
     "text": [
      "[]\n"
     ]
    }
   ],
   "source": [
    "print(eli_list)"
   ]
  },
  {
   "cell_type": "code",
   "execution_count": 23,
   "id": "bfc09555",
   "metadata": {},
   "outputs": [
    {
     "name": "stdout",
     "output_type": "stream",
     "text": [
      "['reza', 62, 'sadra', 86, 'raheleh', 62, 'reza']\n"
     ]
    },
    {
     "data": {
      "text/plain": [
       "2"
      ]
     },
     "execution_count": 23,
     "metadata": {},
     "output_type": "execute_result"
    }
   ],
   "source": [
    "#Returns the number of elements with the specified value\n",
    "print(my_list)\n",
    "my_list.count(\"reza\")"
   ]
  }
 ],
 "metadata": {
  "kernelspec": {
   "display_name": "Python 3",
   "language": "python",
   "name": "python3"
  },
  "language_info": {
   "codemirror_mode": {
    "name": "ipython",
    "version": 3
   },
   "file_extension": ".py",
   "mimetype": "text/x-python",
   "name": "python",
   "nbconvert_exporter": "python",
   "pygments_lexer": "ipython3",
   "version": "3.8.8"
  }
 },
 "nbformat": 4,
 "nbformat_minor": 5
}
