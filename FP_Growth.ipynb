{
 "cells": [
  {
   "cell_type": "code",
   "execution_count": 1,
   "id": "10026bed",
   "metadata": {},
   "outputs": [],
   "source": [
    "from optparse import OptionParser\n",
    "import pandas as pd\n",
    "from collections import defaultdict"
   ]
  },
  {
   "cell_type": "code",
   "execution_count": 3,
   "id": "faf8937a",
   "metadata": {},
   "outputs": [],
   "source": [
    "dataset_file = open(\"project.dataset1.txt\", \"r\")\n",
    "list_of_items = []\n",
    "for line in dataset_file:\n",
    "  stripped_line = line.strip()\n",
    "  line_list = stripped_line.split()\n",
    "  list_of_items.append(line_list)\n",
    "\n",
    "dataset_file.close()\n"
   ]
  },
  {
   "cell_type": "code",
   "execution_count": 4,
   "id": "124389b4",
   "metadata": {},
   "outputs": [
    {
     "data": {
      "text/plain": [
       "100"
      ]
     },
     "execution_count": 4,
     "metadata": {},
     "output_type": "execute_result"
    }
   ],
   "source": [
    "len(list_of_items)"
   ]
  },
  {
   "cell_type": "code",
   "execution_count": 13,
   "id": "2be67eab",
   "metadata": {},
   "outputs": [],
   "source": [
    "def fp_growth(itemSetList, minSupRatio, minConf):\n",
    "    frequency = getFrequencyFromList(itemSetList)\n",
    "    minSup = len(itemSetList) * minSupRatio\n",
    "    fpTree, headerTable = constructTree(itemSetList, frequency, minSup)\n",
    "    if(fpTree == None):\n",
    "        print('No frequent item set')\n",
    "    else:\n",
    "        freqItems = []\n",
    "        mineTree(headerTable, minSup, set(), freqItems)\n",
    "        rules = associationRule(freqItems, itemSetList, minConf)\n",
    "        return freqItems, rules"
   ]
  },
  {
   "cell_type": "code",
   "execution_count": 6,
   "id": "51489abf",
   "metadata": {},
   "outputs": [],
   "source": [
    "def getFrequencyFromList(itemSetList):\n",
    "    frequency = [1 for i in range(len(itemSetList))]\n",
    "    return frequency"
   ]
  },
  {
   "cell_type": "code",
   "execution_count": 7,
   "id": "7d02e772",
   "metadata": {},
   "outputs": [],
   "source": [
    "freq = getFrequencyFromList(list_of_items)"
   ]
  },
  {
   "cell_type": "code",
   "execution_count": 8,
   "id": "2fe6ae05",
   "metadata": {},
   "outputs": [
    {
     "data": {
      "text/plain": [
       "list"
      ]
     },
     "execution_count": 8,
     "metadata": {},
     "output_type": "execute_result"
    }
   ],
   "source": [
    "type(freq)"
   ]
  },
  {
   "cell_type": "code",
   "execution_count": 9,
   "id": "ac681999",
   "metadata": {},
   "outputs": [
    {
     "data": {
      "text/plain": [
       "100"
      ]
     },
     "execution_count": 9,
     "metadata": {},
     "output_type": "execute_result"
    }
   ],
   "source": [
    "len(freq)"
   ]
  },
  {
   "cell_type": "code",
   "execution_count": 13,
   "id": "f0e0871d",
   "metadata": {},
   "outputs": [],
   "source": [
    "class Node:\n",
    "    def __init__(self, itemName, frequency, parentNode):\n",
    "        self.itemName = itemName\n",
    "        self.count = frequency\n",
    "        self.parent = parentNode\n",
    "        self.children = {}\n",
    "        self.next = None\n",
    "\n",
    "    def increment(self, frequency):\n",
    "        self.count += frequency\n",
    "\n",
    "    def display(self, ind=1):\n",
    "        print('  ' * ind, self.itemName, ' ', self.count)\n",
    "        for child in list(self.children.values()):\n",
    "            child.display(ind + 1)\n",
    "\n",
    "def updateHeaderTable(item, targetNode, headerTable):\n",
    "    if (headerTable[item][1] == None):\n",
    "        headerTable[item][1] = targetNode\n",
    "    else:\n",
    "        currentNode = headerTable[item][1]\n",
    "        # Traverse to the last node then link it to the target\n",
    "        while currentNode.next != None:\n",
    "            currentNode = currentNode.next\n",
    "        currentNode.next = targetNode\n",
    "\n",
    "def updateTree(item, treeNode, headerTable, frequency):\n",
    "    if item in treeNode.children:\n",
    "        # If the item already exists, increment the count\n",
    "        treeNode.children[item].increment(frequency)\n",
    "    else:\n",
    "        # Create a new branch\n",
    "        newItemNode = Node(item, frequency, treeNode)\n",
    "        treeNode.children[item] = newItemNode\n",
    "        # Link the new branch to header table\n",
    "        updateHeaderTable(item, newItemNode, headerTable)\n",
    "\n",
    "    return treeNode.children[item]\n",
    "\n",
    "def constructTree(itemSetList, frequency, minSup):\n",
    "    headerTable = defaultdict(int)\n",
    "    # Counting frequency and create header table\n",
    "    for idx, itemSet in enumerate(itemSetList):\n",
    "        for item in itemSet:\n",
    "            headerTable[item] += frequency[idx]\n",
    "\n",
    "    # Deleting items below minSup\n",
    "    headerTable = dict((item, sup) for item, sup in headerTable.items() if sup >= minSup)\n",
    "    if (len(headerTable) == 0):\n",
    "        return None, None\n",
    "\n",
    "    # HeaderTable column [Item: [frequency, headNode]]\n",
    "    for item in headerTable:\n",
    "        headerTable[item] = [headerTable[item], None]\n",
    "\n",
    "    # Init Null head node\n",
    "    fpTree = Node('Null', 1, None)\n",
    "    # Update FP tree for each cleaned and sorted itemSet\n",
    "    for idx, itemSet in enumerate(itemSetList):\n",
    "        itemSet = [item for item in itemSet if item in headerTable]\n",
    "        itemSet.sort(key=lambda item: headerTable[item][0], reverse=True)\n",
    "        # Traverse from root to leaf, update tree with given item\n",
    "        currentNode = fpTree\n",
    "        for item in itemSet:\n",
    "            currentNode = updateTree(item, currentNode, headerTable, frequency[idx])\n",
    "\n",
    "    return fpTree, headerTable"
   ]
  },
  {
   "cell_type": "code",
   "execution_count": 14,
   "id": "d6ebb331",
   "metadata": {},
   "outputs": [],
   "source": [
    "fptree , htable = constructTree(list_of_items,freq,0.5)"
   ]
  },
  {
   "cell_type": "code",
   "execution_count": 15,
   "id": "bf91983e",
   "metadata": {},
   "outputs": [
    {
     "data": {
      "text/plain": [
       "__main__.Node"
      ]
     },
     "execution_count": 15,
     "metadata": {},
     "output_type": "execute_result"
    }
   ],
   "source": [
    "type(fptree)"
   ]
  },
  {
   "cell_type": "code",
   "execution_count": 16,
   "id": "d37ea197",
   "metadata": {},
   "outputs": [
    {
     "data": {
      "text/plain": [
       "dict"
      ]
     },
     "execution_count": 16,
     "metadata": {},
     "output_type": "execute_result"
    }
   ],
   "source": [
    "type(htable)"
   ]
  },
  {
   "cell_type": "code",
   "execution_count": 17,
   "id": "849bcca3",
   "metadata": {},
   "outputs": [
    {
     "data": {
      "text/plain": [
       "False"
      ]
     },
     "execution_count": 17,
     "metadata": {},
     "output_type": "execute_result"
    }
   ],
   "source": [
    "fptree==None"
   ]
  },
  {
   "cell_type": "code",
   "execution_count": 18,
   "id": "359fab40",
   "metadata": {},
   "outputs": [],
   "source": [
    "freqItems = []"
   ]
  },
  {
   "cell_type": "code",
   "execution_count": 19,
   "id": "dc3b285f",
   "metadata": {},
   "outputs": [],
   "source": [
    "def mineTree(headerTable, minSup, preFix, freqItemList):\n",
    "    # Sort the items with frequency and create a list\n",
    "    sortedItemList = [item[0] for item in sorted(list(headerTable.items()), key=lambda p: p[1][0])]\n",
    "    # Start with the lowest frequency\n",
    "    for item in sortedItemList:\n",
    "        # Pattern growth is achieved by the concatenation of suffix pattern with frequent patterns generated from conditional FP-tree\n",
    "        newFreqSet = preFix.copy()\n",
    "        newFreqSet.add(item)\n",
    "        freqItemList.append(newFreqSet)\n",
    "        # Find all prefix path, constrcut conditional pattern base\n",
    "        conditionalPattBase, frequency = findPrefixPath(item, headerTable)\n",
    "        # Construct conditonal FP Tree with conditional pattern base\n",
    "        conditionalTree, newHeaderTable = constructTree(conditionalPattBase, frequency, minSup)\n",
    "        if newHeaderTable != None:\n",
    "            # Mining recursively on the tree\n",
    "            mineTree(newHeaderTable, minSup,\n",
    "                     newFreqSet, freqItemList)\n"
   ]
  },
  {
   "cell_type": "code",
   "execution_count": 20,
   "id": "e564846a",
   "metadata": {},
   "outputs": [],
   "source": [
    "def findPrefixPath(basePat, headerTable):\n",
    "    # First node in linked list\n",
    "    treeNode = headerTable[basePat][1]\n",
    "    condPats = []\n",
    "    frequency = []\n",
    "    while treeNode != None:\n",
    "        prefixPath = []\n",
    "        # From leaf node all the way to root\n",
    "        ascendFPtree(treeNode, prefixPath)\n",
    "        if len(prefixPath) > 1:\n",
    "            # Storing the prefix path and it's corresponding count\n",
    "            condPats.append(prefixPath[1:])\n",
    "            frequency.append(treeNode.count)\n",
    "\n",
    "        # Go to next node\n",
    "        treeNode = treeNode.next\n",
    "    return condPats, frequency"
   ]
  },
  {
   "cell_type": "code",
   "execution_count": 21,
   "id": "1393477f",
   "metadata": {},
   "outputs": [],
   "source": [
    "def ascendFPtree(node, prefixPath):\n",
    "    if node.parent != None:\n",
    "        prefixPath.append(node.itemName)\n",
    "        ascendFPtree(node.parent, prefixPath)"
   ]
  },
  {
   "cell_type": "code",
   "execution_count": null,
   "id": "b8cadccf",
   "metadata": {},
   "outputs": [],
   "source": [
    "mineTree(htable,0.5,set(),freqItems)"
   ]
  },
  {
   "cell_type": "code",
   "execution_count": null,
   "id": "3babb799",
   "metadata": {},
   "outputs": [],
   "source": []
  }
 ],
 "metadata": {
  "kernelspec": {
   "display_name": "Python 3",
   "language": "python",
   "name": "python3"
  },
  "language_info": {
   "codemirror_mode": {
    "name": "ipython",
    "version": 3
   },
   "file_extension": ".py",
   "mimetype": "text/x-python",
   "name": "python",
   "nbconvert_exporter": "python",
   "pygments_lexer": "ipython3",
   "version": "3.8.8"
  }
 },
 "nbformat": 4,
 "nbformat_minor": 5
}
