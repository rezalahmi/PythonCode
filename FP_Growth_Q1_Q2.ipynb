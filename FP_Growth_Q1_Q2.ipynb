{
 "cells": [
  {
   "cell_type": "code",
   "execution_count": 1,
   "id": "1eb8298a",
   "metadata": {},
   "outputs": [],
   "source": [
    "import time\n",
    "import pandas as pd\n",
    "from collections import defaultdict\n",
    "from itertools import combinations\n",
    "import matplotlib.pyplot as plt"
   ]
  },
  {
   "cell_type": "code",
   "execution_count": 2,
   "id": "19daefe7",
   "metadata": {},
   "outputs": [],
   "source": [
    "patterns_path =  'patterns.csv'   # the file name that will store the frequent patterns\n",
    "maximal_path =   'maximal.csv'\n",
    "rules_path =     'rules.csv'\n",
    "datasetFile = open(\"project.dataset1.txt\", \"r\")\n",
    "listOfItems = []\n",
    "frequency = []\n",
    "for line in datasetFile:\n",
    "    strippedLine = line.strip()\n",
    "    lineList = strippedLine.split()\n",
    "    listOfItems.append(lineList)\n",
    "    frequency.append(1)\n",
    "\n",
    "datasetFile.close()\n",
    "\n",
    "numberOfTransaction = len(listOfItems)\n",
    "min_support =     0.0015            # minimuum support threshold which is in percentage format (for example 0.2 means 20%)\n",
    "min_confidence =  0.9             # the minimum confidence threshold in the percentage format"
   ]
  },
  {
   "cell_type": "code",
   "execution_count": 3,
   "id": "f1e97b36",
   "metadata": {},
   "outputs": [],
   "source": [
    "class Node:\n",
    "    def __init__(self, itemName, frequency, parentNode):\n",
    "        self.itemName = itemName\n",
    "        self.count = frequency\n",
    "        self.parent = parentNode\n",
    "        self.children = {}\n",
    "        self.next = None\n",
    "\n",
    "    def increment(self, frequency):\n",
    "        self.count += frequency\n",
    "    def display(self, ind=1):\n",
    "        print('  ' * ind, self.itemName, ' ', self.count)\n",
    "        for child in list(self.children.values()):\n",
    "            child.display(ind + 1)\n",
    "\n",
    "\n",
    "def updateHeaderTable(item, targetNode, headerTable):\n",
    "    if (headerTable[item][1] == None):\n",
    "        headerTable[item][1] = targetNode\n",
    "    else:\n",
    "        currentNode = headerTable[item][1]\n",
    "        # Traverse to the last node then link it to the target\n",
    "        while currentNode.next != None:\n",
    "            currentNode = currentNode.next\n",
    "        currentNode.next = targetNode\n",
    "\n",
    "def updateTree(item, treeNode, headerTable, frequency):\n",
    "    if item in treeNode.children:\n",
    "        # If the item already exists, increment the count\n",
    "        treeNode.children[item].increment(frequency)\n",
    "    else:\n",
    "        # Create a new branch\n",
    "        newItemNode = Node(item, frequency, treeNode)\n",
    "        treeNode.children[item] = newItemNode\n",
    "        # Link the new branch to header table\n",
    "        updateHeaderTable(item, newItemNode, headerTable)\n",
    "\n",
    "    return treeNode.children[item]\n",
    "\n",
    "def constructTree(itemSetList, frequency, minSup):\n",
    "    headerTable = defaultdict(int)\n",
    "    # Counting frequency and create header table\n",
    "    for idx, itemSet in enumerate(itemSetList):\n",
    "        for item in itemSet:\n",
    "            headerTable[item] += frequency[idx]\n",
    "\n",
    "    # Deleting items below minSup\n",
    "    headerTable = dict((item, sup) for item, sup in headerTable.items() if sup >= minSup)\n",
    "    if (len(headerTable) == 0):\n",
    "        return None, None\n",
    "\n",
    "    # HeaderTable column [Item: [frequency, headNode]]\n",
    "    for item in headerTable:\n",
    "        headerTable[item] = [headerTable[item], None]\n",
    "\n",
    "    # Init Null head node\n",
    "    fpTree = Node('Null', 1, None)\n",
    "    # Update FP tree for each cleaned and sorted itemSet\n",
    "    for idx, itemSet in enumerate(itemSetList):\n",
    "        itemSet = [item for item in itemSet if item in headerTable]\n",
    "        itemSet.sort(key=lambda item: headerTable[item][0], reverse=True)\n",
    "        # Traverse from root to leaf, update tree with given item\n",
    "        currentNode = fpTree\n",
    "        for item in itemSet:\n",
    "            currentNode = updateTree(item, currentNode, headerTable, frequency[idx])\n",
    "\n",
    "    return fpTree, headerTable\n",
    "\n",
    "def ascendFPtree(node, prefixPath):\n",
    "    if node.parent != None:\n",
    "        prefixPath.append(node.itemName)\n",
    "        ascendFPtree(node.parent, prefixPath)\n",
    "\n",
    "\n",
    "def findPrefixPath(basePat, headerTable):\n",
    "    # First node in linked list\n",
    "    treeNode = headerTable[basePat][1]\n",
    "    condPats = []\n",
    "    frequency = []\n",
    "    while treeNode != None:\n",
    "        prefixPath = [basePat]\n",
    "        # From leaf node all the way to root\n",
    "        ascendFPtree(treeNode, prefixPath)\n",
    "        if len(prefixPath) > 1:\n",
    "            # Storing the prefix path and it's corresponding count\n",
    "            condPats.append(prefixPath[1:])\n",
    "            frequency.append(treeNode.count)\n",
    "\n",
    "        # Go to next node\n",
    "        treeNode = treeNode.next\n",
    "    return condPats, frequency\n",
    "\n",
    "\n",
    "def reportPatters(headerTable):\n",
    "    df_patterns = pd.DataFrame(columns=['pattern','support_count','support'])\n",
    "    candidate = 0\n",
    "    sortedItemList = [item[0] for item in sorted(list(headerTable.items()), key=lambda p: p[1][0])]\n",
    "    for item in sortedItemList:\n",
    "        conditionalPattBase, frequency = findPrefixPath(item, headerTable)\n",
    "        for patt in conditionalPattBase:\n",
    "            candidate +=1\n",
    "            idx = conditionalPattBase.index(patt)\n",
    "            support_count = frequency[idx]\n",
    "            support = frequency[idx]/numberOfTransaction\n",
    "            if support >= min_support:\n",
    "                row = {'pattern':patt, \n",
    "                       'support_count':support_count, \n",
    "                       'support':support}\n",
    "                df_patterns = df_patterns.append(row,ignore_index=True)\n",
    "    df_patterns.pattern = df_patterns.pattern.astype(str)\n",
    "    df_patterns.pattern = df_patterns.pattern.str.replace(\"'\",\"\")\n",
    "    df_patterns.pattern = df_patterns.pattern.str.replace(\"[\",\"\",regex=True)\n",
    "    df_patterns.pattern = df_patterns.pattern.str.replace(\"]\",\"\",regex=True)\n",
    "    df_patterns.pattern = df_patterns.pattern.str.replace(\",\",\"-\",regex=True)\n",
    "    df_patterns.pattern = df_patterns.pattern.str.replace(\" \",\"\",regex=True)\n",
    "    frItemSet = df_patterns.shape[0]\n",
    "    df_patterns.to_csv(patterns_path,index=False) \n",
    "    return frItemSet,candidate\n",
    "  "
   ]
  },
  {
   "cell_type": "code",
   "execution_count": 4,
   "id": "a5a9f055",
   "metadata": {},
   "outputs": [
    {
     "name": "stdout",
     "output_type": "stream",
     "text": [
      "Execution Time: 0.02891850471496582\n",
      "Candidate: 10\n",
      "Frequent itemset: 10\n"
     ]
    }
   ],
   "source": [
    "startTime = time.time()\n",
    "fpTree, headerTable = constructTree(listOfItems,frequency,min_support)\n",
    "frItemSet, candidate = reportPatters(headerTable)\n",
    "endTime = time.time()\n",
    "print('Execution Time:',endTime - startTime)\n",
    "print('Candidate:',candidate)\n",
    "print('Frequent itemset:',frItemSet)"
   ]
  },
  {
   "cell_type": "code",
   "execution_count": 5,
   "id": "e212d9af",
   "metadata": {},
   "outputs": [
    {
     "name": "stdout",
     "output_type": "stream",
     "text": [
      "Frequent itemsets: 10\n",
      "Maximal patterns: 2\n",
      "Compression Ratio:80.00%\n"
     ]
    }
   ],
   "source": [
    "df_patterns = pd.read_csv(patterns_path)\n",
    "df_maximal = pd.DataFrame(columns=['pattern','support_count','support'])\n",
    "for index in df_patterns.index:\n",
    "    if(df_patterns.pattern.apply(lambda y : df_patterns.pattern.apply(lambda x : set(x).issubset(y)))[index].sum() == 1):\n",
    "        df_maximal = df_maximal.append([df_patterns.loc[index]],ignore_index=True)\n",
    "print('Frequent itemsets:',df_patterns.shape[0])\n",
    "print('Maximal patterns:',df_maximal.shape[0])\n",
    "print('Compression Ratio:'+\"{:.2%}\".format(1-df_maximal.shape[0]/df_patterns.shape[0]))\n",
    "df_maximal.to_csv(maximal_path,index=False)"
   ]
  },
  {
   "cell_type": "code",
   "execution_count": 6,
   "id": "8ba69538",
   "metadata": {},
   "outputs": [
    {
     "name": "stdout",
     "output_type": "stream",
     "text": [
      "      rules  support_count   support  confidence\n",
      "0  53->2, 1              1  0.111111         1.0\n",
      "1    531->2              1  0.111111         1.0\n",
      "2    532->1              1  0.111111         1.0\n",
      "3     41->2              1  0.111111         1.0\n",
      "Number of Strong Rules: 4\n",
      "Execution Time: 0.03191518783569336\n"
     ]
    }
   ],
   "source": [
    "def find_rules(pattern_str):\n",
    "    subset = []\n",
    "    if len(pattern_str)<= 1:\n",
    "        return None\n",
    "    for i in range(1,len(pattern_str)):\n",
    "        for l in set(combinations(pattern_str,i)):\n",
    "            subset.append(''.join(l))\n",
    "        pattern_dic = {}\n",
    "        for pa in subset:\n",
    "            pattern_dic[pa]=set(pattern_str).difference(set(pa))\n",
    "    return pattern_dic\n",
    "\n",
    "def store_rules():\n",
    "    df_rules = pd.DataFrame(columns=['rules','support_count',\n",
    "                                     'support','confidence'])\n",
    "    support = lambda y : df_patterns.pattern.apply(lambda x : set(y).issubset(x)).sum()\n",
    "    for idx in df_patterns.index:\n",
    "        pattern_dic = find_rules(df_patterns.pattern[idx].replace('-',''))\n",
    "        if pattern_dic != None:\n",
    "            for key in pattern_dic.keys():\n",
    "                left_side_support = support(key)\n",
    "                confidence = df_patterns.support_count[idx]/left_side_support\n",
    "                patt = str(key)+'->'+str(pattern_dic[key]).replace('{','').replace('}','').replace(\"'\",'')\n",
    "                row = {'rules':patt, \n",
    "                       'support_count':df_patterns.support_count[idx],\n",
    "                       'support': df_patterns.support[idx],\n",
    "                       'confidence':confidence}\n",
    "                if confidence > min_confidence:\n",
    "                    df_rules = df_rules.append(row,ignore_index=True)\n",
    "    df_rules.to_csv(rules_path,index=False)\n",
    "    return df_rules.shape[0]\n",
    "        \n",
    "\n",
    "\n",
    "startTime = time.time()\n",
    "number_strong_rule = store_rules()\n",
    "df_rules = pd.read_csv(rules_path)\n",
    "df_rules.sort_values('confidence',inplace=True,ascending=False)\n",
    "print(df_rules.head(20))\n",
    "endTime = time.time()\n",
    "print('Number of Strong Rules:',number_strong_rule)\n",
    "print('Execution Time:',endTime - startTime)\n",
    "\n"
   ]
  },
  {
   "cell_type": "code",
   "execution_count": 11,
   "id": "fc437903",
   "metadata": {},
   "outputs": [],
   "source": [
    "minimum_support_values = [0.0005, 0.001, 0.0015, 0.002, 0.0025, 0.003,\n",
    "                          0.0035, 0.004, 0.0045, 0.005, 0.0055, 0.006, \n",
    "                          0.0065, 0.007, 0.0075, 0.008, 0.0085, 0.009, \n",
    "                          0.0095, 0.01]\n",
    "\n",
    "def display_plot():\n",
    "    total_number_of_frequent_patterns = []\n",
    "    generated_candidates = []\n",
    "    execution_time = []\n",
    "    for min_support in minimum_support_values:\n",
    "        startTime = time.time()\n",
    "        fpTree, headerTable = constructTree(listOfItems,frequency,min_support)\n",
    "        frItemSet, candidate = reportPatters(headerTable)\n",
    "        endTime = time.time()\n",
    "        total_number_of_frequent_patterns.append(frItemSet)\n",
    "        generated_candidates.append(candidate)\n",
    "        execution_time.append(endTime-startTime)\n",
    "    fig, ax = plt.subplots() \n",
    "    ax.plot(minimum_support_values,total_number_of_frequent_patterns, label='Total Number of Frequent Patterns') \n",
    "    ax.plot(minimum_support_values,generated_candidates, label='Generated Candidate') \n",
    "    ax.plot(minimum_support_values,execution_time, label='Execution Time')  # ... and some more.\n",
    "    ax.set_xlabel('Minimum Support Value')\n",
    "    ax.set_title(\"Sensitivity Analysis\")  # Add a title to the axes.\n",
    "    ax.legend()  # Add a legend."
   ]
  },
  {
   "cell_type": "code",
   "execution_count": 12,
   "id": "c51e4c70",
   "metadata": {},
   "outputs": [
    {
     "data": {
      "image/png": "[encoded data removed]",
      "text/plain": [
       "<Figure size 432x288 with 1 Axes>"
      ]
     },
     "metadata": {
      "needs_background": "light"
     },
     "output_type": "display_data"
    }
   ],
   "source": [
    "display_plot()"
   ]
  },
  {
   "cell_type": "code",
   "execution_count": null,
   "id": "b81f5481",
   "metadata": {},
   "outputs": [],
   "source": []
  }
 ],
 "metadata": {
  "kernelspec": {
   "display_name": "Python 3",
   "language": "python",
   "name": "python3"
  },
  "language_info": {
   "codemirror_mode": {
    "name": "ipython",
    "version": 3
   },
   "file_extension": ".py",
   "mimetype": "text/x-python",
   "name": "python",
   "nbconvert_exporter": "python",
   "pygments_lexer": "ipython3",
   "version": "3.8.8"
  }
 },
 "nbformat": 4,
 "nbformat_minor": 5
}
