{
 "cells": [
  {
   "cell_type": "code",
   "execution_count": 1,
   "id": "0d29d0f1",
   "metadata": {},
   "outputs": [
    {
     "name": "stdout",
     "output_type": "stream",
     "text": [
      "welcome to \n",
      "This course\n"
     ]
    }
   ],
   "source": [
    "print(\"welcome to \\nThis course\")"
   ]
  },
  {
   "cell_type": "code",
   "execution_count": 2,
   "id": "f0a4c0f3",
   "metadata": {},
   "outputs": [],
   "source": [
    "name = \"rezaLahmi\""
   ]
  },
  {
   "cell_type": "code",
   "execution_count": 3,
   "id": "1e8ff72d",
   "metadata": {},
   "outputs": [
    {
     "data": {
      "text/plain": [
       "'L'"
      ]
     },
     "execution_count": 3,
     "metadata": {},
     "output_type": "execute_result"
    }
   ],
   "source": [
    "name[4]"
   ]
  },
  {
   "cell_type": "code",
   "execution_count": 4,
   "id": "50474d7e",
   "metadata": {},
   "outputs": [
    {
     "data": {
      "text/plain": [
       "'e'"
      ]
     },
     "execution_count": 4,
     "metadata": {},
     "output_type": "execute_result"
    }
   ],
   "source": [
    "name[1]"
   ]
  },
  {
   "cell_type": "code",
   "execution_count": 5,
   "id": "24f4247a",
   "metadata": {},
   "outputs": [
    {
     "data": {
      "text/plain": [
       "'r'"
      ]
     },
     "execution_count": 5,
     "metadata": {},
     "output_type": "execute_result"
    }
   ],
   "source": [
    "name[0]"
   ]
  },
  {
   "cell_type": "code",
   "execution_count": 6,
   "id": "5a2205e4",
   "metadata": {},
   "outputs": [
    {
     "data": {
      "text/plain": [
       "9"
      ]
     },
     "execution_count": 6,
     "metadata": {},
     "output_type": "execute_result"
    }
   ],
   "source": [
    "len(name)"
   ]
  },
  {
   "cell_type": "code",
   "execution_count": 8,
   "id": "d1beb3f7",
   "metadata": {},
   "outputs": [
    {
     "data": {
      "text/plain": [
       "'i'"
      ]
     },
     "execution_count": 8,
     "metadata": {},
     "output_type": "execute_result"
    }
   ],
   "source": [
    "name[8]"
   ]
  },
  {
   "cell_type": "code",
   "execution_count": 9,
   "id": "d8cb2685",
   "metadata": {},
   "outputs": [
    {
     "data": {
      "text/plain": [
       "'i'"
      ]
     },
     "execution_count": 9,
     "metadata": {},
     "output_type": "execute_result"
    }
   ],
   "source": [
    "name[len(name)-1]"
   ]
  },
  {
   "cell_type": "code",
   "execution_count": 10,
   "id": "89a35cf8",
   "metadata": {},
   "outputs": [
    {
     "data": {
      "text/plain": [
       "'Lahmi'"
      ]
     },
     "execution_count": 10,
     "metadata": {},
     "output_type": "execute_result"
    }
   ],
   "source": [
    "name[4:]"
   ]
  },
  {
   "cell_type": "code",
   "execution_count": 11,
   "id": "7ca37d0a",
   "metadata": {},
   "outputs": [
    {
     "data": {
      "text/plain": [
       "'reza'"
      ]
     },
     "execution_count": 11,
     "metadata": {},
     "output_type": "execute_result"
    }
   ],
   "source": [
    "name[:4]"
   ]
  },
  {
   "cell_type": "code",
   "execution_count": 12,
   "id": "df601299",
   "metadata": {},
   "outputs": [
    {
     "data": {
      "text/plain": [
       "'rzLhi'"
      ]
     },
     "execution_count": 12,
     "metadata": {},
     "output_type": "execute_result"
    }
   ],
   "source": [
    "name[::2]"
   ]
  },
  {
   "cell_type": "code",
   "execution_count": 13,
   "id": "cc4bed0f",
   "metadata": {},
   "outputs": [
    {
     "data": {
      "text/plain": [
       "'rah'"
      ]
     },
     "execution_count": 13,
     "metadata": {},
     "output_type": "execute_result"
    }
   ],
   "source": [
    "name[::3]"
   ]
  },
  {
   "cell_type": "code",
   "execution_count": 14,
   "id": "c1dcc364",
   "metadata": {},
   "outputs": [
    {
     "data": {
      "text/plain": [
       "'rLi'"
      ]
     },
     "execution_count": 14,
     "metadata": {},
     "output_type": "execute_result"
    }
   ],
   "source": [
    "name[::4]"
   ]
  },
  {
   "cell_type": "code",
   "execution_count": 15,
   "id": "04c5b75b",
   "metadata": {},
   "outputs": [
    {
     "data": {
      "text/plain": [
       "'ra'"
      ]
     },
     "execution_count": 15,
     "metadata": {},
     "output_type": "execute_result"
    }
   ],
   "source": [
    "name[::5]"
   ]
  },
  {
   "cell_type": "code",
   "execution_count": 16,
   "id": "100acf10",
   "metadata": {},
   "outputs": [
    {
     "data": {
      "text/plain": [
       "'imhaLazer'"
      ]
     },
     "execution_count": 16,
     "metadata": {},
     "output_type": "execute_result"
    }
   ],
   "source": [
    "name[::-1]"
   ]
  },
  {
   "cell_type": "code",
   "execution_count": 17,
   "id": "a7586dbe",
   "metadata": {},
   "outputs": [
    {
     "data": {
      "text/plain": [
       "'ihLzr'"
      ]
     },
     "execution_count": 17,
     "metadata": {},
     "output_type": "execute_result"
    }
   ],
   "source": [
    "name[::-2]"
   ]
  },
  {
   "cell_type": "code",
   "execution_count": 18,
   "id": "c169da4e",
   "metadata": {},
   "outputs": [
    {
     "data": {
      "text/plain": [
       "'za'"
      ]
     },
     "execution_count": 18,
     "metadata": {},
     "output_type": "execute_result"
    }
   ],
   "source": [
    "name[2:4]"
   ]
  },
  {
   "cell_type": "code",
   "execution_count": 19,
   "id": "3b3e913a",
   "metadata": {},
   "outputs": [],
   "source": [
    "name=\"MohammadrezaLahmi\""
   ]
  },
  {
   "cell_type": "code",
   "execution_count": 20,
   "id": "5ecf4387",
   "metadata": {},
   "outputs": [
    {
     "data": {
      "text/plain": [
       "8"
      ]
     },
     "execution_count": 20,
     "metadata": {},
     "output_type": "execute_result"
    }
   ],
   "source": [
    "name.find(\"reza\")"
   ]
  },
  {
   "cell_type": "code",
   "execution_count": 24,
   "id": "3f54ec70",
   "metadata": {},
   "outputs": [
    {
     "data": {
      "text/plain": [
       "12"
      ]
     },
     "execution_count": 24,
     "metadata": {},
     "output_type": "execute_result"
    }
   ],
   "source": [
    "name.find(\"Lahmi\")"
   ]
  },
  {
   "cell_type": "code",
   "execution_count": null,
   "id": "76e30922",
   "metadata": {},
   "outputs": [],
   "source": []
  },
  {
   "cell_type": "code",
   "execution_count": 25,
   "id": "9bae3445",
   "metadata": {},
   "outputs": [
    {
     "data": {
      "text/plain": [
       "'reza'"
      ]
     },
     "execution_count": 25,
     "metadata": {},
     "output_type": "execute_result"
    }
   ],
   "source": [
    "name[name.find(\"reza\"):name.find(\"Lahmi\")]"
   ]
  },
  {
   "cell_type": "code",
   "execution_count": 26,
   "id": "072a4049",
   "metadata": {},
   "outputs": [
    {
     "data": {
      "text/plain": [
       "'reza'"
      ]
     },
     "execution_count": 26,
     "metadata": {},
     "output_type": "execute_result"
    }
   ],
   "source": [
    "name[name.find(\"reza\"):name.find(\"reza\")+len(\"reza\")]"
   ]
  },
  {
   "cell_type": "code",
   "execution_count": 27,
   "id": "e2cdf9cd",
   "metadata": {},
   "outputs": [],
   "source": [
    "search = \"reza\""
   ]
  },
  {
   "cell_type": "code",
   "execution_count": 28,
   "id": "661a2563",
   "metadata": {},
   "outputs": [
    {
     "name": "stdout",
     "output_type": "stream",
     "text": [
      "The reza is in the name variable in 8\n"
     ]
    }
   ],
   "source": [
    "print(\"The\",search,\"is in the name variable in\",name.find(search))"
   ]
  },
  {
   "cell_type": "code",
   "execution_count": 33,
   "id": "38f5d3a5",
   "metadata": {},
   "outputs": [
    {
     "name": "stdout",
     "output_type": "stream",
     "text": [
      "reza\n"
     ]
    }
   ],
   "source": [
    "print(name[name.find(search):name.find(search)+len(search)])"
   ]
  },
  {
   "cell_type": "code",
   "execution_count": 36,
   "id": "5ccea07e",
   "metadata": {},
   "outputs": [
    {
     "name": "stdout",
     "output_type": "stream",
     "text": [
      "please enter the name: Mohammad\n",
      "The Mohammad is in the name variable in 0\n"
     ]
    }
   ],
   "source": [
    "search = input(\"please enter the name: \")\n",
    "print(\"The\",search,\"is in the name variable in\",name.find(search))"
   ]
  },
  {
   "cell_type": "code",
   "execution_count": null,
   "id": "6c6adeb8",
   "metadata": {},
   "outputs": [],
   "source": []
  },
  {
   "cell_type": "code",
   "execution_count": null,
   "id": "0ced7550",
   "metadata": {},
   "outputs": [],
   "source": []
  }
 ],
 "metadata": {
  "kernelspec": {
   "display_name": "Python 3",
   "language": "python",
   "name": "python3"
  },
  "language_info": {
   "codemirror_mode": {
    "name": "ipython",
    "version": 3
   },
   "file_extension": ".py",
   "mimetype": "text/x-python",
   "name": "python",
   "nbconvert_exporter": "python",
   "pygments_lexer": "ipython3",
   "version": "3.8.8"
  }
 },
 "nbformat": 4,
 "nbformat_minor": 5
}
