{
 "cells": [
  {
   "cell_type": "code",
   "execution_count": 2,
   "id": "3d399fe2",
   "metadata": {},
   "outputs": [
    {
     "name": "stdout",
     "output_type": "stream",
     "text": [
      "you are younge\n"
     ]
    }
   ],
   "source": [
    "#if\n",
    "#Python relies on indentation (whitespace at the beginning of a line) to define scope in the code. \n",
    "#Other programming languages often use curly-brackets for this purpose.\n",
    "age = 17\n",
    "if age > 15 :\n",
    "    print(\"you are younge\")\n",
    "else:\n",
    "    print(\"you are teenager\")\n",
    "    "
   ]
  },
  {
   "cell_type": "code",
   "execution_count": 4,
   "id": "3208068e",
   "metadata": {},
   "outputs": [
    {
     "name": "stdout",
     "output_type": "stream",
     "text": [
      "Esteglal\n"
     ]
    }
   ],
   "source": [
    "#elif\n",
    "#The elif keyword is pythons way of saying \"if the previous conditions were not true, \n",
    "#then try this condition\".\n",
    "color = \"blue\"\n",
    "if color == \"blue\":\n",
    "    print(\"Esteglal\")\n",
    "elif color == \"red\":\n",
    "    print(\"perspolis\")\n",
    "elif color == \"yellow\":\n",
    "    print(\"sepahan\")\n",
    "else:\n",
    "    print(\"wrong color\")"
   ]
  },
  {
   "cell_type": "code",
   "execution_count": 9,
   "id": "7f0e2d21",
   "metadata": {},
   "outputs": [
    {
     "name": "stdout",
     "output_type": "stream",
     "text": [
      "Enter your age:69\n",
      "you are so old\n"
     ]
    }
   ],
   "source": [
    "#and\n",
    "age = int(input(\"Enter your age:\"))\n",
    "if age >= 22 and age <=65 :\n",
    "    print(\"you are \",age,\" year's old\")\n",
    "    print(\"You can get the job\")\n",
    "elif age < 22:\n",
    "    print(\"you are so younge\")\n",
    "else :\n",
    "    print(\"you are so old\")"
   ]
  },
  {
   "cell_type": "code",
   "execution_count": 11,
   "id": "363b8ae9",
   "metadata": {},
   "outputs": [
    {
     "name": "stdout",
     "output_type": "stream",
     "text": [
      "Enter your age:38\n",
      "Enter your city:Mashhad\n",
      "you can get the vaccine covid 19\n"
     ]
    }
   ],
   "source": [
    "#or\n",
    "age = int(input(\"Enter your age:\"))\n",
    "city = input(\"Enter your city:\")\n",
    "if age >= 45 or city == \"Mashhad\":\n",
    "    print(\"you can get the vaccine covid 19\")\n",
    "else:\n",
    "    print(\"you can't get the vaccine covid 19\")"
   ]
  },
  {
   "cell_type": "code",
   "execution_count": 13,
   "id": "98a534b4",
   "metadata": {},
   "outputs": [
    {
     "name": "stdout",
     "output_type": "stream",
     "text": [
      "Enter your age:38\n",
      "Enter your city:Tehran\n",
      "you are so lucky\n"
     ]
    }
   ],
   "source": [
    "#or\n",
    "age = int(input(\"Enter your age:\"))\n",
    "city = input(\"Enter your city:\")\n",
    "if age >= 45 or city == \"Mashhad\":\n",
    "    print(\"you can get the vaccine covid 19\")\n",
    "elif not(city == \"Karaj\"):\n",
    "    print(\"you are so lucky\")\n",
    "else:\n",
    "    print(\"you can't get the vaccine covid 19\")"
   ]
  },
  {
   "cell_type": "code",
   "execution_count": 17,
   "id": "d6739854",
   "metadata": {},
   "outputs": [
    {
     "name": "stdout",
     "output_type": "stream",
     "text": [
      "what is the first number:45\n",
      "what is the second number:78\n",
      "what is the operation(+,-,*,/):/\n",
      "result is : 0.5769230769230769\n"
     ]
    }
   ],
   "source": [
    "x = int(input(\"what is the first number:\"))\n",
    "y = int(input(\"what is the second number:\"))\n",
    "op = input(\"what is the operation(+,-,*,/):\")\n",
    "if op == \"+\":\n",
    "    print(\"result is :\",x+y)\n",
    "elif op == \"-\":\n",
    "    print(\"result is :\",x-y)\n",
    "elif op == \"*\":\n",
    "    print(\"result is :\",x*y)\n",
    "elif op == \"/\":\n",
    "    print(\"result is :\",x/y)\n",
    "else :\n",
    "    print(\"something is wrong\")"
   ]
  },
  {
   "cell_type": "code",
   "execution_count": 18,
   "id": "8468db35",
   "metadata": {},
   "outputs": [
    {
     "name": "stdout",
     "output_type": "stream",
     "text": [
      "Enter first number:45\n",
      "Enter second number:36\n",
      "a is greater than b\n"
     ]
    }
   ],
   "source": [
    "#If you have only one statement to execute, you can put it on the same line as the if statement.\n",
    "a = int(input(\"Enter first number:\"))\n",
    "b = int(input(\"Enter second number:\"))\n",
    "if a > b: print(\"a is greater than b\")"
   ]
  },
  {
   "cell_type": "code",
   "execution_count": 20,
   "id": "81aea417",
   "metadata": {},
   "outputs": [
    {
     "name": "stdout",
     "output_type": "stream",
     "text": [
      "Enter first number:56\n",
      "Enter second number:45\n",
      "A\n"
     ]
    }
   ],
   "source": [
    "#If you have only one statement to execute, one for if, \n",
    "#and one for else, you can put it all on the same line\n",
    "a = int(input(\"Enter first number:\"))\n",
    "b = int(input(\"Enter second number:\"))\n",
    "print(\"A\") if a > b else print(\"B\")"
   ]
  },
  {
   "cell_type": "code",
   "execution_count": 23,
   "id": "543a86e5",
   "metadata": {},
   "outputs": [
    {
     "name": "stdout",
     "output_type": "stream",
     "text": [
      "Enter first number:45\n",
      "Enter second number:36\n",
      "A\n"
     ]
    }
   ],
   "source": [
    "#This technique is known as Ternary Operators, or Conditional Expressions.\n",
    "a = int(input(\"Enter first number:\"))\n",
    "b = int(input(\"Enter second number:\"))\n",
    "print(\"A\") if a > b else print(\"=\") if a == b else print(\"B\")"
   ]
  },
  {
   "cell_type": "code",
   "execution_count": 25,
   "id": "0b523127",
   "metadata": {},
   "outputs": [],
   "source": [
    "#if statements cannot be empty, but if you for some reason have an if statement with no content, \n",
    "#put in the pass statement to avoid getting an error.\n",
    "a = 33\n",
    "b = 200\n",
    "\n",
    "if b > a:\n",
    "  pass"
   ]
  },
  {
   "cell_type": "code",
   "execution_count": null,
   "id": "9a857c18",
   "metadata": {},
   "outputs": [],
   "source": []
  }
 ],
 "metadata": {
  "kernelspec": {
   "display_name": "Python 3",
   "language": "python",
   "name": "python3"
  },
  "language_info": {
   "codemirror_mode": {
    "name": "ipython",
    "version": 3
   },
   "file_extension": ".py",
   "mimetype": "text/x-python",
   "name": "python",
   "nbconvert_exporter": "python",
   "pygments_lexer": "ipython3",
   "version": "3.8.8"
  }
 },
 "nbformat": 4,
 "nbformat_minor": 5
}
