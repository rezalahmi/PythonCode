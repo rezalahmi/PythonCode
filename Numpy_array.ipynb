{
 "cells": [
  {
   "cell_type": "code",
   "execution_count": 1,
   "id": "0defce6a",
   "metadata": {},
   "outputs": [],
   "source": [
    "#NumPy is a Python library used for working with arrays.\n",
    "#It also has functions for working in domain of linear algebra, fourier transform, and matrices.\n",
    "#NumPy stands for Numerical Python.\n",
    "import numpy as np"
   ]
  },
  {
   "cell_type": "code",
   "execution_count": 9,
   "id": "595d6540",
   "metadata": {},
   "outputs": [
    {
     "name": "stdout",
     "output_type": "stream",
     "text": [
      "1.20.1\n"
     ]
    }
   ],
   "source": [
    "print(np.__version__)"
   ]
  },
  {
   "cell_type": "code",
   "execution_count": 3,
   "id": "eb57d4df",
   "metadata": {},
   "outputs": [],
   "source": [
    "array1 = np.array([1,2,3,4,5,6])"
   ]
  },
  {
   "cell_type": "code",
   "execution_count": 4,
   "id": "e5b5c6cc",
   "metadata": {},
   "outputs": [
    {
     "data": {
      "text/plain": [
       "array([1, 2, 3, 4, 5, 6])"
      ]
     },
     "execution_count": 4,
     "metadata": {},
     "output_type": "execute_result"
    }
   ],
   "source": [
    "array1"
   ]
  },
  {
   "cell_type": "code",
   "execution_count": 5,
   "id": "9f8f00da",
   "metadata": {},
   "outputs": [
    {
     "data": {
      "text/plain": [
       "1"
      ]
     },
     "execution_count": 5,
     "metadata": {},
     "output_type": "execute_result"
    }
   ],
   "source": [
    "#You can access an array element by referring to its index number.\n",
    "#The indexes in NumPy arrays start with 0, \n",
    "#meaning that the first element has index 0, and the second has index 1 etc.\n",
    "array1[0]"
   ]
  },
  {
   "cell_type": "code",
   "execution_count": 6,
   "id": "e114a6db",
   "metadata": {},
   "outputs": [
    {
     "data": {
      "text/plain": [
       "6"
      ]
     },
     "execution_count": 6,
     "metadata": {},
     "output_type": "execute_result"
    }
   ],
   "source": [
    "array1.size"
   ]
  },
  {
   "cell_type": "code",
   "execution_count": 7,
   "id": "6559cfc6",
   "metadata": {},
   "outputs": [
    {
     "data": {
      "text/plain": [
       "1"
      ]
     },
     "execution_count": 7,
     "metadata": {},
     "output_type": "execute_result"
    }
   ],
   "source": [
    "array1.ndim"
   ]
  },
  {
   "cell_type": "code",
   "execution_count": 8,
   "id": "383e18e7",
   "metadata": {},
   "outputs": [
    {
     "data": {
      "text/plain": [
       "(6,)"
      ]
     },
     "execution_count": 8,
     "metadata": {},
     "output_type": "execute_result"
    }
   ],
   "source": [
    "array1.shape"
   ]
  },
  {
   "cell_type": "code",
   "execution_count": 10,
   "id": "abe432e0",
   "metadata": {},
   "outputs": [
    {
     "name": "stdout",
     "output_type": "stream",
     "text": [
      "<class 'numpy.ndarray'>\n"
     ]
    }
   ],
   "source": [
    "print(type(array1))"
   ]
  },
  {
   "cell_type": "code",
   "execution_count": 11,
   "id": "d818702c",
   "metadata": {},
   "outputs": [],
   "source": [
    "#To create an ndarray, we can pass a list, tuple or any array-like object into the array() method, \n",
    "#and it will be converted into an ndarray\n",
    "array2 = np.array((9,8,7,6,5,4))"
   ]
  },
  {
   "cell_type": "code",
   "execution_count": 12,
   "id": "de736c65",
   "metadata": {},
   "outputs": [
    {
     "data": {
      "text/plain": [
       "array([9, 8, 7, 6, 5, 4])"
      ]
     },
     "execution_count": 12,
     "metadata": {},
     "output_type": "execute_result"
    }
   ],
   "source": [
    "array2"
   ]
  },
  {
   "cell_type": "code",
   "execution_count": 14,
   "id": "8bf7a346",
   "metadata": {},
   "outputs": [
    {
     "data": {
      "text/plain": [
       "array([10, 10, 10, 10, 10, 10])"
      ]
     },
     "execution_count": 14,
     "metadata": {},
     "output_type": "execute_result"
    }
   ],
   "source": [
    "array1+array2"
   ]
  },
  {
   "cell_type": "code",
   "execution_count": 15,
   "id": "7fbeb6f1",
   "metadata": {},
   "outputs": [
    {
     "data": {
      "text/plain": [
       "array([ 9, 16, 21, 24, 25, 24])"
      ]
     },
     "execution_count": 15,
     "metadata": {},
     "output_type": "execute_result"
    }
   ],
   "source": [
    "array1*array2"
   ]
  },
  {
   "cell_type": "code",
   "execution_count": 16,
   "id": "5e76558a",
   "metadata": {},
   "outputs": [
    {
     "data": {
      "text/plain": [
       "array([ True,  True, False, False, False, False])"
      ]
     },
     "execution_count": 16,
     "metadata": {},
     "output_type": "execute_result"
    }
   ],
   "source": [
    "#Getting some elements out of an existing array and \n",
    "#creating a new array out of them is called filtering\n",
    "#In NumPy, you filter an array using a boolean index list.\n",
    "array2 > 7"
   ]
  },
  {
   "cell_type": "code",
   "execution_count": 17,
   "id": "96d244e9",
   "metadata": {},
   "outputs": [
    {
     "data": {
      "text/plain": [
       "array([9, 8])"
      ]
     },
     "execution_count": 17,
     "metadata": {},
     "output_type": "execute_result"
    }
   ],
   "source": [
    "array2[array2>7]"
   ]
  },
  {
   "cell_type": "code",
   "execution_count": 18,
   "id": "6f7990d1",
   "metadata": {},
   "outputs": [
    {
     "data": {
      "text/plain": [
       "array([6, 5, 4])"
      ]
     },
     "execution_count": 18,
     "metadata": {},
     "output_type": "execute_result"
    }
   ],
   "source": [
    "array2[array2<7]"
   ]
  },
  {
   "cell_type": "code",
   "execution_count": 19,
   "id": "e7544587",
   "metadata": {},
   "outputs": [
    {
     "data": {
      "text/plain": [
       "array([False,  True, False,  True, False,  True])"
      ]
     },
     "execution_count": 19,
     "metadata": {},
     "output_type": "execute_result"
    }
   ],
   "source": [
    "array2 % 2 == 0"
   ]
  },
  {
   "cell_type": "code",
   "execution_count": 20,
   "id": "132b39c2",
   "metadata": {},
   "outputs": [
    {
     "data": {
      "text/plain": [
       "array([8, 6, 4])"
      ]
     },
     "execution_count": 20,
     "metadata": {},
     "output_type": "execute_result"
    }
   ],
   "source": [
    "array2[array2 % 2 == 0]"
   ]
  },
  {
   "cell_type": "code",
   "execution_count": 21,
   "id": "e0595ee7",
   "metadata": {},
   "outputs": [
    {
     "data": {
      "text/plain": [
       "(array([2], dtype=int64),)"
      ]
     },
     "execution_count": 21,
     "metadata": {},
     "output_type": "execute_result"
    }
   ],
   "source": [
    "#numpy.where(condition[, x, y])\n",
    "#An array with elements from x where condition is True, and elements from y elsewhere.\n",
    "np.where(array1==3)"
   ]
  },
  {
   "cell_type": "code",
   "execution_count": 22,
   "id": "7a0cb5fb",
   "metadata": {},
   "outputs": [
    {
     "data": {
      "text/plain": [
       "(array([2, 3, 4, 5], dtype=int64),)"
      ]
     },
     "execution_count": 22,
     "metadata": {},
     "output_type": "execute_result"
    }
   ],
   "source": [
    "np.where(array1 >=3)"
   ]
  },
  {
   "cell_type": "code",
   "execution_count": 23,
   "id": "3b1a5548",
   "metadata": {},
   "outputs": [
    {
     "data": {
      "text/plain": [
       "array([1.        , 2.        , 1.        , 1.33333333, 1.66666667,\n",
       "       2.        ])"
      ]
     },
     "execution_count": 23,
     "metadata": {},
     "output_type": "execute_result"
    }
   ],
   "source": [
    "np.where(array1 >=3,array1/3,array1)"
   ]
  },
  {
   "cell_type": "code",
   "execution_count": 25,
   "id": "5aa4f9bf",
   "metadata": {},
   "outputs": [
    {
     "data": {
      "text/plain": [
       "array([ 2.,  4.,  1.,  8., 10., 12.])"
      ]
     },
     "execution_count": 25,
     "metadata": {},
     "output_type": "execute_result"
    }
   ],
   "source": [
    "np.where(array1==3,array1/3,array1*2)"
   ]
  },
  {
   "cell_type": "code",
   "execution_count": 32,
   "id": "9b6566ce",
   "metadata": {},
   "outputs": [
    {
     "data": {
      "text/plain": [
       "array([3, 4, 5])"
      ]
     },
     "execution_count": 32,
     "metadata": {},
     "output_type": "execute_result"
    }
   ],
   "source": [
    "#we use & when working with numpy array insted of and\n",
    "array1[(array1>2) & (array1<6)]"
   ]
  },
  {
   "cell_type": "code",
   "execution_count": 27,
   "id": "11a88d6e",
   "metadata": {},
   "outputs": [
    {
     "data": {
      "text/plain": [
       "array([False, False,  True,  True,  True, False])"
      ]
     },
     "execution_count": 27,
     "metadata": {},
     "output_type": "execute_result"
    }
   ],
   "source": [
    "#Compute the truth value of x1 AND x2 element-wise.\n",
    "#umpy.logical_and(x1, x2)\n",
    "np.logical_and(array1>2,array1<6)"
   ]
  },
  {
   "cell_type": "code",
   "execution_count": 28,
   "id": "093e42c2",
   "metadata": {},
   "outputs": [
    {
     "data": {
      "text/plain": [
       "array([3, 4, 5])"
      ]
     },
     "execution_count": 28,
     "metadata": {},
     "output_type": "execute_result"
    }
   ],
   "source": [
    "array1[np.logical_and(array1>2,array1<6)]"
   ]
  },
  {
   "cell_type": "code",
   "execution_count": 33,
   "id": "47a0fe38",
   "metadata": {},
   "outputs": [
    {
     "data": {
      "text/plain": [
       "array([3, 5])"
      ]
     },
     "execution_count": 33,
     "metadata": {},
     "output_type": "execute_result"
    }
   ],
   "source": [
    "array1[(array1>2) & (array1<6) & (array1 % 2 != 0)]"
   ]
  },
  {
   "cell_type": "code",
   "execution_count": 34,
   "id": "576a027d",
   "metadata": {},
   "outputs": [
    {
     "data": {
      "text/plain": [
       "array([False,  True,  True,  True, False,  True])"
      ]
     },
     "execution_count": 34,
     "metadata": {},
     "output_type": "execute_result"
    }
   ],
   "source": [
    "np.logical_or(array1%2==0,array1==3)"
   ]
  },
  {
   "cell_type": "code",
   "execution_count": 35,
   "id": "9df1e922",
   "metadata": {},
   "outputs": [
    {
     "data": {
      "text/plain": [
       "array([2, 3, 4, 6])"
      ]
     },
     "execution_count": 35,
     "metadata": {},
     "output_type": "execute_result"
    }
   ],
   "source": [
    "array1[np.logical_or(array1%2==0,array1==3)]"
   ]
  },
  {
   "cell_type": "code",
   "execution_count": 37,
   "id": "33b9c266",
   "metadata": {},
   "outputs": [
    {
     "data": {
      "text/plain": [
       "array([2, 3, 4, 6])"
      ]
     },
     "execution_count": 37,
     "metadata": {},
     "output_type": "execute_result"
    }
   ],
   "source": [
    "#be carefull just like and, we use | for logical or\n",
    "array1[(array1%2==0)|(array1==3)]"
   ]
  },
  {
   "cell_type": "code",
   "execution_count": 1,
   "id": "82a77c9a",
   "metadata": {},
   "outputs": [],
   "source": [
    "import numpy as np"
   ]
  },
  {
   "cell_type": "code",
   "execution_count": 2,
   "id": "00793bb9",
   "metadata": {},
   "outputs": [
    {
     "name": "stdout",
     "output_type": "stream",
     "text": [
      "['reza' 'raheleh' 'hadi' 'eli' 'reza']\n"
     ]
    }
   ],
   "source": [
    "array_1 = np.array([\"reza\",\"raheleh\",\"hadi\",\"eli\",\"reza\"])\n",
    "print(array_1)"
   ]
  },
  {
   "cell_type": "code",
   "execution_count": 3,
   "id": "40d31ee0",
   "metadata": {},
   "outputs": [],
   "source": [
    "array_1_clean = np.unique(array_1)"
   ]
  },
  {
   "cell_type": "code",
   "execution_count": 4,
   "id": "b21dff9a",
   "metadata": {},
   "outputs": [
    {
     "name": "stdout",
     "output_type": "stream",
     "text": [
      "['eli' 'hadi' 'raheleh' 'reza']\n"
     ]
    }
   ],
   "source": [
    "print(array_1_clean)"
   ]
  },
  {
   "cell_type": "code",
   "execution_count": 5,
   "id": "d899770a",
   "metadata": {},
   "outputs": [
    {
     "data": {
      "text/plain": [
       "array([ True])"
      ]
     },
     "execution_count": 5,
     "metadata": {},
     "output_type": "execute_result"
    }
   ],
   "source": [
    "#if you want to know is there an entry on the one direction array, use in1d method\n",
    "np.in1d(\"reza\",array_1)"
   ]
  },
  {
   "cell_type": "code",
   "execution_count": 6,
   "id": "9a025164",
   "metadata": {},
   "outputs": [
    {
     "data": {
      "text/plain": [
       "array([False])"
      ]
     },
     "execution_count": 6,
     "metadata": {},
     "output_type": "execute_result"
    }
   ],
   "source": [
    "np.in1d(\"ali\",array_1)"
   ]
  },
  {
   "cell_type": "code",
   "execution_count": 4,
   "id": "f7de85ec",
   "metadata": {},
   "outputs": [
    {
     "data": {
      "text/plain": [
       "array([[1, 2, 3],\n",
       "       [2, 3, 4],\n",
       "       [3, 4, 5],\n",
       "       [4, 5, 6]])"
      ]
     },
     "execution_count": 4,
     "metadata": {},
     "output_type": "execute_result"
    }
   ],
   "source": [
    "#two dimension\n",
    "array_2 = np.array(([1,2,3],[2,3,4],[3,4,5],[4,5,6]))\n",
    "array_2"
   ]
  },
  {
   "cell_type": "code",
   "execution_count": 9,
   "id": "b1c98594",
   "metadata": {},
   "outputs": [
    {
     "data": {
      "text/plain": [
       "array([2, 3, 4])"
      ]
     },
     "execution_count": 9,
     "metadata": {},
     "output_type": "execute_result"
    }
   ],
   "source": [
    "array_2[1]"
   ]
  },
  {
   "cell_type": "code",
   "execution_count": 20,
   "id": "7c2c3d2d",
   "metadata": {},
   "outputs": [
    {
     "data": {
      "text/plain": [
       "3"
      ]
     },
     "execution_count": 20,
     "metadata": {},
     "output_type": "execute_result"
    }
   ],
   "source": [
    "array_2[1,1]"
   ]
  },
  {
   "cell_type": "code",
   "execution_count": 11,
   "id": "54d003cf",
   "metadata": {},
   "outputs": [
    {
     "data": {
      "text/plain": [
       "2"
      ]
     },
     "execution_count": 11,
     "metadata": {},
     "output_type": "execute_result"
    }
   ],
   "source": [
    "array_2.ndim"
   ]
  },
  {
   "cell_type": "code",
   "execution_count": 12,
   "id": "6a3310ae",
   "metadata": {},
   "outputs": [
    {
     "data": {
      "text/plain": [
       "(4, 3)"
      ]
     },
     "execution_count": 12,
     "metadata": {},
     "output_type": "execute_result"
    }
   ],
   "source": [
    "array_2.shape"
   ]
  },
  {
   "cell_type": "code",
   "execution_count": 13,
   "id": "ac534a17",
   "metadata": {},
   "outputs": [
    {
     "data": {
      "text/plain": [
       "12"
      ]
     },
     "execution_count": 13,
     "metadata": {},
     "output_type": "execute_result"
    }
   ],
   "source": [
    "array_2.size"
   ]
  },
  {
   "cell_type": "code",
   "execution_count": 15,
   "id": "1c2d3f22",
   "metadata": {},
   "outputs": [
    {
     "data": {
      "text/plain": [
       "array([[[[[1, 2, 3, 4]]]]])"
      ]
     },
     "execution_count": 15,
     "metadata": {},
     "output_type": "execute_result"
    }
   ],
   "source": [
    "#In this array the innermost dimension (5th dim) has 4 elements, \n",
    "#the 4th dim has 1 element that is the vector, \n",
    "#the 3rd dim has 1 element that is the matrix with the vector, \n",
    "#the 2nd dim has 1 element that is 3D array and 1st dim has 1 element that is a 4D array.\n",
    "array_3 = np.array([1,2,3,4],ndmin=5)\n",
    "array_3"
   ]
  },
  {
   "cell_type": "code",
   "execution_count": 16,
   "id": "cf06bce7",
   "metadata": {},
   "outputs": [
    {
     "name": "stdout",
     "output_type": "stream",
     "text": [
      "[[[[[1 2 3 4]]]]]\n"
     ]
    }
   ],
   "source": [
    "print(array_3)"
   ]
  },
  {
   "cell_type": "code",
   "execution_count": 17,
   "id": "3ca3c062",
   "metadata": {},
   "outputs": [
    {
     "data": {
      "text/plain": [
       "5"
      ]
     },
     "execution_count": 17,
     "metadata": {},
     "output_type": "execute_result"
    }
   ],
   "source": [
    "array_3.ndim"
   ]
  },
  {
   "cell_type": "code",
   "execution_count": 19,
   "id": "99a3f5fd",
   "metadata": {},
   "outputs": [
    {
     "data": {
      "text/plain": [
       "array([[[[1, 2, 3, 4]]]])"
      ]
     },
     "execution_count": 19,
     "metadata": {},
     "output_type": "execute_result"
    }
   ],
   "source": [
    "array_3[0]"
   ]
  },
  {
   "cell_type": "code",
   "execution_count": 22,
   "id": "b6e9cbac",
   "metadata": {},
   "outputs": [
    {
     "data": {
      "text/plain": [
       "3"
      ]
     },
     "execution_count": 22,
     "metadata": {},
     "output_type": "execute_result"
    }
   ],
   "source": [
    "array_3[0,0,0,0,2]"
   ]
  },
  {
   "cell_type": "code",
   "execution_count": 5,
   "id": "91598cc3",
   "metadata": {},
   "outputs": [
    {
     "data": {
      "text/plain": [
       "array([[1, 2, 3],\n",
       "       [2, 3, 4],\n",
       "       [3, 4, 5],\n",
       "       [4, 5, 6]])"
      ]
     },
     "execution_count": 5,
     "metadata": {},
     "output_type": "execute_result"
    }
   ],
   "source": [
    "array_2"
   ]
  },
  {
   "cell_type": "code",
   "execution_count": 24,
   "id": "3b2026d2",
   "metadata": {},
   "outputs": [
    {
     "data": {
      "text/plain": [
       "4"
      ]
     },
     "execution_count": 24,
     "metadata": {},
     "output_type": "execute_result"
    }
   ],
   "source": [
    "#Use negative indexing to access an array from the end.\n",
    "array_2[1,-1]"
   ]
  },
  {
   "cell_type": "code",
   "execution_count": 35,
   "id": "3ebe6cdd",
   "metadata": {},
   "outputs": [
    {
     "name": "stdout",
     "output_type": "stream",
     "text": [
      "[2 3 4 5]\n",
      "[3 4 5 6 7]\n",
      "[1 2]\n",
      "[5 6]\n",
      "[2 4]\n",
      "[1 3 5 7]\n"
     ]
    }
   ],
   "source": [
    "#Slicing in python means taking elements from one given index to another given index\n",
    "#We pass slice instead of index like this: [start:end].\n",
    "#We can also define the step, like this: [start:end:step].\n",
    "array_4 = np.array([1, 2, 3, 4, 5, 6, 7])\n",
    "\n",
    "print(array_4[1:5])\n",
    "print(array_4[2:])\n",
    "print(array_4[:2])\n",
    "print(array_4[-3:-1])\n",
    "print(array_4[1:5:2])\n",
    "print(array_4[::2])"
   ]
  },
  {
   "cell_type": "code",
   "execution_count": 3,
   "id": "d24ba33a",
   "metadata": {},
   "outputs": [
    {
     "name": "stdout",
     "output_type": "stream",
     "text": [
      "[[ 1  2  3  4  5]\n",
      " [ 6  7  8  9 10]]\n",
      "[7 8 9]\n",
      "[3 8]\n",
      "[[3 4]\n",
      " [8 9]]\n",
      "[[ 2  5]\n",
      " [ 7 10]]\n"
     ]
    }
   ],
   "source": [
    "array_5 = np.array([[1, 2, 3, 4, 5], [6, 7, 8, 9, 10]])\n",
    "print(array_5)\n",
    "print(array_5[1, 1:4])\n",
    "print(array_5[0:2,2])\n",
    "print(array_5[0:2,2:4])\n",
    "print(array_5[:,(1,4)])"
   ]
  },
  {
   "cell_type": "code",
   "execution_count": 42,
   "id": "290f3f4e",
   "metadata": {},
   "outputs": [
    {
     "data": {
      "text/plain": [
       "array([1.1, 2.1, 3.1])"
      ]
     },
     "execution_count": 42,
     "metadata": {},
     "output_type": "execute_result"
    }
   ],
   "source": [
    "#The best way to change the data type of an existing array, \n",
    "#is to make a copy of the array with the astype() method.\n",
    "array_6 = np.array([1.1,2.1,3.1])\n",
    "array_6"
   ]
  },
  {
   "cell_type": "code",
   "execution_count": 43,
   "id": "0453a6db",
   "metadata": {},
   "outputs": [
    {
     "data": {
      "text/plain": [
       "array([1, 2, 3])"
      ]
     },
     "execution_count": 43,
     "metadata": {},
     "output_type": "execute_result"
    }
   ],
   "source": [
    "new_array_6 = array_6.astype(int)\n",
    "new_array_6"
   ]
  },
  {
   "cell_type": "code",
   "execution_count": 44,
   "id": "33dbca72",
   "metadata": {},
   "outputs": [
    {
     "name": "stdout",
     "output_type": "stream",
     "text": [
      "[1.1 2.1 3.1]\n",
      "[1.1 2.1 3.1]\n",
      "[37.   2.1  3.1]\n"
     ]
    }
   ],
   "source": [
    "#The copy owns the data and any changes made to the copy will not affect original array,\n",
    "#and any changes made to the original array will not affect the copy.\n",
    "array_7 = array_6.copy()\n",
    "print(array_7)\n",
    "array_7[0] = 37\n",
    "print(array_6)\n",
    "print(array_7)"
   ]
  },
  {
   "cell_type": "code",
   "execution_count": 46,
   "id": "39a67ca0",
   "metadata": {},
   "outputs": [
    {
     "name": "stdout",
     "output_type": "stream",
     "text": [
      "[37.   2.1  3.1]\n",
      "[37.   2.1  3.1]\n",
      "[37.   2.1  3.1]\n",
      "[37.  73.   3.1]\n",
      "[37.  73.   3.1]\n"
     ]
    }
   ],
   "source": [
    "array_7 = array_6.view()\n",
    "print(array_7)\n",
    "array_7[0] = 37\n",
    "print(array_6)\n",
    "print(array_7)\n",
    "array_6[1] = 73\n",
    "print(array_6)\n",
    "print(array_7)"
   ]
  },
  {
   "cell_type": "code",
   "execution_count": 47,
   "id": "22afe1db",
   "metadata": {},
   "outputs": [
    {
     "name": "stdout",
     "output_type": "stream",
     "text": [
      "None\n",
      "[37.  73.   3.1]\n"
     ]
    }
   ],
   "source": [
    "#Every NumPy array has the attribute base that returns None if the array owns the data.\n",
    "#Otherwise, the base  attribute refers to the original object.\n",
    "print(array_6.base)\n",
    "print(array_7.base)"
   ]
  },
  {
   "cell_type": "code",
   "execution_count": 48,
   "id": "01c4608c",
   "metadata": {},
   "outputs": [
    {
     "data": {
      "text/plain": [
       "(12,)"
      ]
     },
     "execution_count": 48,
     "metadata": {},
     "output_type": "execute_result"
    }
   ],
   "source": [
    "#The shape of an array is the number of elements in each dimension.\n",
    "#By reshaping we can add or remove dimensions or change number of elements in each dimension.\n",
    "array_6 = np.array([1,2,3,4,5,6,7,8,9,10,11,12])\n",
    "array_6.shape"
   ]
  },
  {
   "cell_type": "code",
   "execution_count": 49,
   "id": "2cb5a40b",
   "metadata": {},
   "outputs": [
    {
     "data": {
      "text/plain": [
       "array([[ 1,  2,  3,  4,  5,  6],\n",
       "       [ 7,  8,  9, 10, 11, 12]])"
      ]
     },
     "execution_count": 49,
     "metadata": {},
     "output_type": "execute_result"
    }
   ],
   "source": [
    "array_6.reshape(2,6)"
   ]
  },
  {
   "cell_type": "code",
   "execution_count": 50,
   "id": "198153f8",
   "metadata": {},
   "outputs": [
    {
     "data": {
      "text/plain": [
       "array([[ 1,  2],\n",
       "       [ 3,  4],\n",
       "       [ 5,  6],\n",
       "       [ 7,  8],\n",
       "       [ 9, 10],\n",
       "       [11, 12]])"
      ]
     },
     "execution_count": 50,
     "metadata": {},
     "output_type": "execute_result"
    }
   ],
   "source": [
    "array_6.reshape(6,2)"
   ]
  },
  {
   "cell_type": "code",
   "execution_count": 53,
   "id": "041f6631",
   "metadata": {},
   "outputs": [
    {
     "data": {
      "text/plain": [
       "array([[[ 1,  2,  3],\n",
       "        [ 4,  5,  6]],\n",
       "\n",
       "       [[ 7,  8,  9],\n",
       "        [10, 11, 12]]])"
      ]
     },
     "execution_count": 53,
     "metadata": {},
     "output_type": "execute_result"
    }
   ],
   "source": [
    "array_6.reshape(2,2,3)"
   ]
  },
  {
   "cell_type": "code",
   "execution_count": 54,
   "id": "0ec5cf79",
   "metadata": {},
   "outputs": [
    {
     "name": "stdout",
     "output_type": "stream",
     "text": [
      "[ 1  2  3  4  5  6  7  8  9 10 11 12]\n"
     ]
    }
   ],
   "source": [
    "print(array_6.reshape(2,2,3).base)"
   ]
  },
  {
   "cell_type": "code",
   "execution_count": 56,
   "id": "061152ad",
   "metadata": {},
   "outputs": [
    {
     "data": {
      "text/plain": [
       "array([[[ 1,  2,  3,  4,  5,  6]],\n",
       "\n",
       "       [[ 7,  8,  9, 10, 11, 12]]])"
      ]
     },
     "execution_count": 56,
     "metadata": {},
     "output_type": "execute_result"
    }
   ],
   "source": [
    "#You are allowed to have one \"unknown\" dimension.\n",
    "#Meaning that you do not have to specify an exact number for one of \n",
    "#the dimensions in the reshape method.\n",
    "#Pass -1 as the value, and NumPy will calculate this number for you.\n",
    "array_6.reshape(2,1,-1)"
   ]
  },
  {
   "cell_type": "code",
   "execution_count": 59,
   "id": "6dd95224",
   "metadata": {},
   "outputs": [
    {
     "data": {
      "text/plain": [
       "array([[[ 1,  2,  3,  4]],\n",
       "\n",
       "       [[ 5,  6,  7,  8]],\n",
       "\n",
       "       [[ 9, 10, 11, 12]]])"
      ]
     },
     "execution_count": 59,
     "metadata": {},
     "output_type": "execute_result"
    }
   ],
   "source": [
    "array_6.reshape(-1,1,4)"
   ]
  },
  {
   "cell_type": "code",
   "execution_count": 60,
   "id": "33ae4271",
   "metadata": {},
   "outputs": [
    {
     "name": "stdout",
     "output_type": "stream",
     "text": [
      "[[ 1  2  3  4  5]\n",
      " [ 6  7  8  9 10]]\n",
      "[ 1  2  3  4  5  6  7  8  9 10]\n"
     ]
    }
   ],
   "source": [
    "#Flattening array means converting a multidimensional array into a 1D array.\n",
    "#We can use reshape(-1) to do this.\n",
    "print(array_5)\n",
    "new_array_5 = array_5.reshape(-1)\n",
    "print(new_array_5)"
   ]
  },
  {
   "cell_type": "code",
   "execution_count": 9,
   "id": "03f97d05",
   "metadata": {},
   "outputs": [
    {
     "name": "stdout",
     "output_type": "stream",
     "text": [
      "reza\n",
      "raheleh\n",
      "hadi\n",
      "eli\n",
      "reza\n"
     ]
    }
   ],
   "source": [
    "#Iterating means going through elements one by one.\n",
    "for x in array_1:\n",
    "    print(x)"
   ]
  },
  {
   "cell_type": "code",
   "execution_count": 5,
   "id": "9783ddfc",
   "metadata": {},
   "outputs": [
    {
     "name": "stdout",
     "output_type": "stream",
     "text": [
      "[1 2 3]\n",
      "[2 3 4]\n",
      "[3 4 5]\n",
      "[4 5 6]\n"
     ]
    }
   ],
   "source": [
    "for x in array_2:\n",
    "    print(x)"
   ]
  },
  {
   "cell_type": "code",
   "execution_count": 6,
   "id": "18f055c2",
   "metadata": {},
   "outputs": [
    {
     "name": "stdout",
     "output_type": "stream",
     "text": [
      "1\n",
      "2\n",
      "3\n",
      "2\n",
      "3\n",
      "4\n",
      "3\n",
      "4\n",
      "5\n",
      "4\n",
      "5\n",
      "6\n"
     ]
    }
   ],
   "source": [
    "for x in array_2:\n",
    "    for y in x:\n",
    "        print(y)"
   ]
  },
  {
   "cell_type": "code",
   "execution_count": 10,
   "id": "21b16f72",
   "metadata": {},
   "outputs": [
    {
     "name": "stdout",
     "output_type": "stream",
     "text": [
      "1 2 3 2 3 4 3 4 5 4 5 6 "
     ]
    }
   ],
   "source": [
    "for x in array_2.flat:\n",
    "    print(x,end=\" \")"
   ]
  },
  {
   "cell_type": "code",
   "execution_count": 7,
   "id": "21bbdcab",
   "metadata": {},
   "outputs": [
    {
     "name": "stdout",
     "output_type": "stream",
     "text": [
      "1\n",
      "2\n",
      "3\n",
      "2\n",
      "3\n",
      "4\n",
      "3\n",
      "4\n",
      "5\n",
      "4\n",
      "5\n",
      "6\n"
     ]
    }
   ],
   "source": [
    "#The function nditer() is a helping function that can be used from \n",
    "#very basic to very advanced iterations\n",
    "#In basic for loops, iterating through each scalar of an array we need to use n for \n",
    "#loops which can be difficult to write for arrays with very high dimensionality.\n",
    "for x in np.nditer(array_2):\n",
    "    print(x)"
   ]
  },
  {
   "cell_type": "code",
   "execution_count": 11,
   "id": "b54c7840",
   "metadata": {},
   "outputs": [
    {
     "name": "stdout",
     "output_type": "stream",
     "text": [
      "(0, 0) 1\n",
      "(0, 1) 2\n",
      "(0, 2) 3\n",
      "(1, 0) 2\n",
      "(1, 1) 3\n",
      "(1, 2) 4\n",
      "(2, 0) 3\n",
      "(2, 1) 4\n",
      "(2, 2) 5\n",
      "(3, 0) 4\n",
      "(3, 1) 5\n",
      "(3, 2) 6\n"
     ]
    }
   ],
   "source": [
    "#Enumeration means mentioning sequence number of somethings one by one.\n",
    "#Sometimes we require corresponding index of the element while iterating, \n",
    "#the ndenumerate() method can be used for those usecases.\n",
    "for i,x in np.ndenumerate(array_2):\n",
    "    print(i,x)"
   ]
  },
  {
   "cell_type": "code",
   "execution_count": 13,
   "id": "74eebe4b",
   "metadata": {},
   "outputs": [
    {
     "name": "stdout",
     "output_type": "stream",
     "text": [
      "[1 2 3 4 5 6]\n"
     ]
    }
   ],
   "source": [
    "#Joining means putting contents of two or more arrays in a single array.\n",
    "#In SQL we join tables based on a key, whereas in NumPy we join arrays by axes.\n",
    "#We pass a sequence of arrays that we want to join to the concatenate() function, \n",
    "#along with the axis\n",
    "array_1 = np.array([1,2,3])\n",
    "array_2 = np.array([4,5,6])\n",
    "array_3 = np.concatenate((array_1,array_2))\n",
    "print(array_3)"
   ]
  },
  {
   "cell_type": "code",
   "execution_count": 14,
   "id": "ba996249",
   "metadata": {},
   "outputs": [
    {
     "name": "stdout",
     "output_type": "stream",
     "text": [
      "[[1 2]\n",
      " [3 4]\n",
      " [5 6]\n",
      " [7 8]]\n"
     ]
    }
   ],
   "source": [
    "arr1 = np.array([[1, 2], [3, 4]])\n",
    "\n",
    "arr2 = np.array([[5, 6], [7, 8]])\n",
    "\n",
    "arr = np.concatenate((arr1, arr2), axis=0)\n",
    "print(arr)"
   ]
  },
  {
   "cell_type": "code",
   "execution_count": 15,
   "id": "2fc5e1aa",
   "metadata": {},
   "outputs": [
    {
     "name": "stdout",
     "output_type": "stream",
     "text": [
      "[[1 2 5 6]\n",
      " [3 4 7 8]]\n"
     ]
    }
   ],
   "source": [
    "arr1 = np.array([[1, 2], [3, 4]])\n",
    "\n",
    "arr2 = np.array([[5, 6], [7, 8]])\n",
    "\n",
    "arr = np.concatenate((arr1, arr2), axis=1)\n",
    "print(arr)"
   ]
  },
  {
   "cell_type": "code",
   "execution_count": 20,
   "id": "e79449a1",
   "metadata": {},
   "outputs": [
    {
     "name": "stdout",
     "output_type": "stream",
     "text": [
      "[array([1, 2]), array([3, 4]), array([5, 6])]\n"
     ]
    }
   ],
   "source": [
    "#Splitting is reverse operation of Joining.\n",
    "#Joining merges multiple arrays into one and Splitting breaks one array into multiple.\n",
    "#We use array_split() for splitting arrays, \n",
    "#we pass it the array we want to split and the number of splits.\n",
    "arr = np.array([1, 2, 3, 4, 5, 6])\n",
    "\n",
    "newarr = np.array_split(arr, 3)\n",
    "\n",
    "print(newarr)"
   ]
  },
  {
   "cell_type": "code",
   "execution_count": 21,
   "id": "c968575f",
   "metadata": {},
   "outputs": [
    {
     "name": "stdout",
     "output_type": "stream",
     "text": [
      "[array([1, 2]), array([3, 4]), array([5]), array([6])]\n"
     ]
    }
   ],
   "source": [
    "newarr = np.array_split(arr, 4)\n",
    "\n",
    "print(newarr)"
   ]
  },
  {
   "cell_type": "code",
   "execution_count": 22,
   "id": "317e9748",
   "metadata": {},
   "outputs": [
    {
     "name": "stdout",
     "output_type": "stream",
     "text": [
      "[array([1]), array([2]), array([3]), array([4]), array([5]), array([6]), array([], dtype=int32)]\n"
     ]
    }
   ],
   "source": [
    "#If the array has less elements than required, it will adjust from the end accordingly.\n",
    "newarr = np.array_split(arr, 7)\n",
    "\n",
    "print(newarr)"
   ]
  },
  {
   "cell_type": "code",
   "execution_count": 23,
   "id": "2ad66ca3",
   "metadata": {},
   "outputs": [
    {
     "name": "stdout",
     "output_type": "stream",
     "text": [
      "[1 2]\n",
      "[3 4]\n",
      "[5 6]\n"
     ]
    }
   ],
   "source": [
    "#The return value of the array_split() \n",
    "#method is an array containing each of the split as an array.\n",
    "newarr = np.array_split(arr, 3)\n",
    "\n",
    "print(newarr[0])\n",
    "print(newarr[1])\n",
    "print(newarr[2])"
   ]
  },
  {
   "cell_type": "code",
   "execution_count": 26,
   "id": "2efcdb67",
   "metadata": {},
   "outputs": [
    {
     "data": {
      "text/plain": [
       "tuple"
      ]
     },
     "execution_count": 26,
     "metadata": {},
     "output_type": "execute_result"
    }
   ],
   "source": [
    "#You can search an array for a certain value, and return the indexes that get a match.\n",
    "#To search an array, use the where() method.\n",
    "array_1 = np.array([1,2,3,4,2,3,6,7])\n",
    "x = np.where(array_1==3)\n",
    "type(x)\n"
   ]
  },
  {
   "cell_type": "code",
   "execution_count": 28,
   "id": "d5b66c73",
   "metadata": {},
   "outputs": [
    {
     "name": "stdout",
     "output_type": "stream",
     "text": [
      "[2 5]\n"
     ]
    }
   ],
   "source": [
    "for i in np.where(array_1==3):\n",
    "    print(i)"
   ]
  },
  {
   "cell_type": "code",
   "execution_count": 29,
   "id": "eae339ad",
   "metadata": {},
   "outputs": [
    {
     "name": "stdout",
     "output_type": "stream",
     "text": [
      "[1 3 4 6]\n"
     ]
    }
   ],
   "source": [
    "for i in np.where(array_1%2==0):\n",
    "    print(i)"
   ]
  },
  {
   "cell_type": "code",
   "execution_count": 30,
   "id": "a0a72ab7",
   "metadata": {},
   "outputs": [
    {
     "name": "stdout",
     "output_type": "stream",
     "text": [
      "1\n"
     ]
    }
   ],
   "source": [
    "#There is a method called searchsorted() which performs a binary search in the array, and returns \n",
    "#the index where the specified value would be inserted to maintain the search order.\n",
    "#The searchsorted() method is assumed to be used on sorted arrays.\n",
    "array_1 = np.array([1,2,3,4,5,6,7,8,9])\n",
    "x = np.searchsorted(array_1,2)\n",
    "print(x)"
   ]
  },
  {
   "cell_type": "code",
   "execution_count": 31,
   "id": "a2cd0036",
   "metadata": {},
   "outputs": [
    {
     "name": "stdout",
     "output_type": "stream",
     "text": [
      "[1 5 8]\n"
     ]
    }
   ],
   "source": [
    "x = np.searchsorted(array_1,[2,6,9])\n",
    "print(x)"
   ]
  },
  {
   "cell_type": "code",
   "execution_count": 32,
   "id": "587a8834",
   "metadata": {},
   "outputs": [
    {
     "name": "stdout",
     "output_type": "stream",
     "text": [
      "[0 1 1 2 3 3 5 5 7 8 9]\n"
     ]
    }
   ],
   "source": [
    "#Sorting means putting elements in an ordered sequence.\n",
    "#Ordered sequence is any sequence that has an order corresponding to elements, \n",
    "#like numeric or alphabetical, ascending or descending.\n",
    "#The NumPy ndarray object has a function called sort(), that will sort a specified array.\n",
    "array_1 = np.array([3,5,7,1,5,9,8,3,0,1,2])\n",
    "new_array_1 = np.sort(array_1)\n",
    "print(new_array_1)"
   ]
  },
  {
   "cell_type": "code",
   "execution_count": 12,
   "id": "240c6740",
   "metadata": {},
   "outputs": [
    {
     "data": {
      "text/plain": [
       "array([0., 0., 0., 0.])"
      ]
     },
     "execution_count": 12,
     "metadata": {},
     "output_type": "execute_result"
    }
   ],
   "source": [
    "#there are three function to full the array in numpy\n",
    "array_1 = np.zeros(4)\n",
    "array_1"
   ]
  },
  {
   "cell_type": "code",
   "execution_count": 13,
   "id": "a629fbad",
   "metadata": {},
   "outputs": [
    {
     "data": {
      "text/plain": [
       "array([[0, 0, 0, 0],\n",
       "       [0, 0, 0, 0]])"
      ]
     },
     "execution_count": 13,
     "metadata": {},
     "output_type": "execute_result"
    }
   ],
   "source": [
    "#if you want to define type of value in function above use dtype property\n",
    "array_1 = np.zeros((2,4),dtype=int)\n",
    "array_1"
   ]
  },
  {
   "cell_type": "code",
   "execution_count": 14,
   "id": "09b492bc",
   "metadata": {},
   "outputs": [
    {
     "data": {
      "text/plain": [
       "array([[1., 1., 1., 1.],\n",
       "       [1., 1., 1., 1.],\n",
       "       [1., 1., 1., 1.]])"
      ]
     },
     "execution_count": 14,
     "metadata": {},
     "output_type": "execute_result"
    }
   ],
   "source": [
    "array_2 = np.ones((3,4))\n",
    "array_2"
   ]
  },
  {
   "cell_type": "code",
   "execution_count": 15,
   "id": "98c1c3e6",
   "metadata": {},
   "outputs": [
    {
     "data": {
      "text/plain": [
       "array([[1, 1, 1, 1],\n",
       "       [1, 1, 1, 1],\n",
       "       [1, 1, 1, 1]])"
      ]
     },
     "execution_count": 15,
     "metadata": {},
     "output_type": "execute_result"
    }
   ],
   "source": [
    "array_2 = np.ones((3,4),dtype = int)\n",
    "array_2"
   ]
  },
  {
   "cell_type": "code",
   "execution_count": 16,
   "id": "f83b2dd5",
   "metadata": {},
   "outputs": [
    {
     "data": {
      "text/plain": [
       "array([[12],\n",
       "       [12]])"
      ]
     },
     "execution_count": 16,
     "metadata": {},
     "output_type": "execute_result"
    }
   ],
   "source": [
    "array_3 = np.full((2,1),12)\n",
    "array_3"
   ]
  },
  {
   "cell_type": "code",
   "execution_count": 18,
   "id": "759b37f2",
   "metadata": {},
   "outputs": [
    {
     "data": {
      "text/plain": [
       "array([3, 4, 5, 6, 7, 8])"
      ]
     },
     "execution_count": 18,
     "metadata": {},
     "output_type": "execute_result"
    }
   ],
   "source": [
    "#you can also use arange function to create array\n",
    "array_4 = np.arange(3,9)\n",
    "array_4"
   ]
  },
  {
   "cell_type": "code",
   "execution_count": 20,
   "id": "52633457",
   "metadata": {},
   "outputs": [
    {
     "data": {
      "text/plain": [
       "array([2.        , 2.08163265, 2.16326531, 2.24489796, 2.32653061,\n",
       "       2.40816327, 2.48979592, 2.57142857, 2.65306122, 2.73469388,\n",
       "       2.81632653, 2.89795918, 2.97959184, 3.06122449, 3.14285714,\n",
       "       3.2244898 , 3.30612245, 3.3877551 , 3.46938776, 3.55102041,\n",
       "       3.63265306, 3.71428571, 3.79591837, 3.87755102, 3.95918367,\n",
       "       4.04081633, 4.12244898, 4.20408163, 4.28571429, 4.36734694,\n",
       "       4.44897959, 4.53061224, 4.6122449 , 4.69387755, 4.7755102 ,\n",
       "       4.85714286, 4.93877551, 5.02040816, 5.10204082, 5.18367347,\n",
       "       5.26530612, 5.34693878, 5.42857143, 5.51020408, 5.59183673,\n",
       "       5.67346939, 5.75510204, 5.83673469, 5.91836735, 6.        ])"
      ]
     },
     "execution_count": 20,
     "metadata": {},
     "output_type": "execute_result"
    }
   ],
   "source": [
    "#there is linespace function to Return evenly spaced numbers over a specified interval\n",
    "np.linspace(2,6)\n",
    "#defaul number created is 50"
   ]
  },
  {
   "cell_type": "code",
   "execution_count": 21,
   "id": "db26beb2",
   "metadata": {},
   "outputs": [
    {
     "data": {
      "text/plain": [
       "array([2.        , 3.33333333, 4.66666667, 6.        ])"
      ]
     },
     "execution_count": 21,
     "metadata": {},
     "output_type": "execute_result"
    }
   ],
   "source": [
    "np.linspace(2,6,num=4)"
   ]
  },
  {
   "cell_type": "code",
   "execution_count": 23,
   "id": "0a65d471",
   "metadata": {},
   "outputs": [
    {
     "data": {
      "text/plain": [
       "array([[1, 2, 3],\n",
       "       [4, 5, 6],\n",
       "       [7, 8, 9]])"
      ]
     },
     "execution_count": 23,
     "metadata": {},
     "output_type": "execute_result"
    }
   ],
   "source": [
    "#after you create array with this two number generator, you can reshape it\n",
    "np.arange(1,10).reshape(3,3)"
   ]
  },
  {
   "cell_type": "code",
   "execution_count": 25,
   "id": "fb726637",
   "metadata": {},
   "outputs": [
    {
     "data": {
      "text/plain": [
       "array([[ 1.        ,  1.47368421,  1.94736842,  2.42105263,  2.89473684],\n",
       "       [ 3.36842105,  3.84210526,  4.31578947,  4.78947368,  5.26315789],\n",
       "       [ 5.73684211,  6.21052632,  6.68421053,  7.15789474,  7.63157895],\n",
       "       [ 8.10526316,  8.57894737,  9.05263158,  9.52631579, 10.        ]])"
      ]
     },
     "execution_count": 25,
     "metadata": {},
     "output_type": "execute_result"
    }
   ],
   "source": [
    "np.linspace(1,10,num=20).reshape(4,5)"
   ]
  },
  {
   "cell_type": "code",
   "execution_count": 27,
   "id": "c1859fe4",
   "metadata": {},
   "outputs": [
    {
     "data": {
      "text/plain": [
       "array([17, 28,  1,  9, 10, 49])"
      ]
     },
     "execution_count": 27,
     "metadata": {},
     "output_type": "execute_result"
    }
   ],
   "source": [
    "#also you can create array with randon number generator\n",
    "np.random.randint(1,50,6)"
   ]
  },
  {
   "cell_type": "code",
   "execution_count": 29,
   "id": "5c9a0c7e",
   "metadata": {},
   "outputs": [
    {
     "data": {
      "text/plain": [
       "array([30, 25, 48, 47, 21, 30,  5, 79, 12, 71])"
      ]
     },
     "execution_count": 29,
     "metadata": {},
     "output_type": "execute_result"
    }
   ],
   "source": [
    "array_5 = np.random.randint(1,100,10)\n",
    "array_5"
   ]
  },
  {
   "cell_type": "code",
   "execution_count": 30,
   "id": "35e4f666",
   "metadata": {},
   "outputs": [
    {
     "data": {
      "text/plain": [
       "368"
      ]
     },
     "execution_count": 30,
     "metadata": {},
     "output_type": "execute_result"
    }
   ],
   "source": [
    "#in numpy you can use sum function to return sum of elemnt of array\n",
    "array_5.sum()"
   ]
  },
  {
   "cell_type": "code",
   "execution_count": 31,
   "id": "8701e55e",
   "metadata": {},
   "outputs": [
    {
     "data": {
      "text/plain": [
       "79"
      ]
     },
     "execution_count": 31,
     "metadata": {},
     "output_type": "execute_result"
    }
   ],
   "source": [
    "#numpy also create function to find mix, min, mean and std\n",
    "array_5.max()"
   ]
  },
  {
   "cell_type": "code",
   "execution_count": 32,
   "id": "a95bef3d",
   "metadata": {},
   "outputs": [
    {
     "data": {
      "text/plain": [
       "5"
      ]
     },
     "execution_count": 32,
     "metadata": {},
     "output_type": "execute_result"
    }
   ],
   "source": [
    "array_5.min()"
   ]
  },
  {
   "cell_type": "code",
   "execution_count": 33,
   "id": "2ffcbfc4",
   "metadata": {},
   "outputs": [
    {
     "data": {
      "text/plain": [
       "36.8"
      ]
     },
     "execution_count": 33,
     "metadata": {},
     "output_type": "execute_result"
    }
   ],
   "source": [
    "array_5.mean()"
   ]
  },
  {
   "cell_type": "code",
   "execution_count": 34,
   "id": "d59d71e0",
   "metadata": {},
   "outputs": [
    {
     "data": {
      "text/plain": [
       "22.994782016796766"
      ]
     },
     "execution_count": 34,
     "metadata": {},
     "output_type": "execute_result"
    }
   ],
   "source": [
    "array_5.std()"
   ]
  },
  {
   "cell_type": "code",
   "execution_count": 35,
   "id": "b57397ab",
   "metadata": {},
   "outputs": [],
   "source": [
    "arr1 = np.arange(1,10,2)\n",
    "arr2 = np.random.randint(1,100,5)"
   ]
  },
  {
   "cell_type": "code",
   "execution_count": 36,
   "id": "968d1562",
   "metadata": {},
   "outputs": [
    {
     "data": {
      "text/plain": [
       "array([ 70,  45, 103,  36,  66])"
      ]
     },
     "execution_count": 36,
     "metadata": {},
     "output_type": "execute_result"
    }
   ],
   "source": [
    "arr1 + arr2"
   ]
  },
  {
   "cell_type": "code",
   "execution_count": 37,
   "id": "86c4a536",
   "metadata": {},
   "outputs": [
    {
     "data": {
      "text/plain": [
       "array([ 69, 126, 490, 203, 513])"
      ]
     },
     "execution_count": 37,
     "metadata": {},
     "output_type": "execute_result"
    }
   ],
   "source": [
    "arr1*arr2"
   ]
  },
  {
   "cell_type": "code",
   "execution_count": 38,
   "id": "80566bc8",
   "metadata": {},
   "outputs": [
    {
     "data": {
      "text/plain": [
       "array([0.33333333, 1.        , 1.66666667, 2.33333333, 3.        ])"
      ]
     },
     "execution_count": 38,
     "metadata": {},
     "output_type": "execute_result"
    }
   ],
   "source": [
    "arr1/3"
   ]
  },
  {
   "cell_type": "code",
   "execution_count": 39,
   "id": "1eb5c674",
   "metadata": {},
   "outputs": [
    {
     "data": {
      "text/plain": [
       "array([ 2,  6, 10, 14, 18])"
      ]
     },
     "execution_count": 39,
     "metadata": {},
     "output_type": "execute_result"
    }
   ],
   "source": [
    "arr1*2"
   ]
  },
  {
   "cell_type": "code",
   "execution_count": 40,
   "id": "3f4126c1",
   "metadata": {},
   "outputs": [],
   "source": [
    "arr1+=4"
   ]
  },
  {
   "cell_type": "code",
   "execution_count": 41,
   "id": "4e05d5d2",
   "metadata": {},
   "outputs": [
    {
     "data": {
      "text/plain": [
       "array([ 5,  7,  9, 11, 13])"
      ]
     },
     "execution_count": 41,
     "metadata": {},
     "output_type": "execute_result"
    }
   ],
   "source": [
    "arr1"
   ]
  },
  {
   "cell_type": "code",
   "execution_count": 42,
   "id": "dbe2f53f",
   "metadata": {},
   "outputs": [
    {
     "data": {
      "text/plain": [
       "array([2.23606798, 2.64575131, 3.        , 3.31662479, 3.60555128])"
      ]
     },
     "execution_count": 42,
     "metadata": {},
     "output_type": "execute_result"
    }
   ],
   "source": [
    "np.sqrt(arr1)"
   ]
  },
  {
   "cell_type": "code",
   "execution_count": 43,
   "id": "b4e81654",
   "metadata": {},
   "outputs": [
    {
     "data": {
      "text/plain": [
       "array([8.30662386, 6.4807407 , 9.89949494, 5.38516481, 7.54983444])"
      ]
     },
     "execution_count": 43,
     "metadata": {},
     "output_type": "execute_result"
    }
   ],
   "source": [
    "np.sqrt(arr2)"
   ]
  },
  {
   "cell_type": "code",
   "execution_count": 45,
   "id": "5fa9d331",
   "metadata": {},
   "outputs": [
    {
     "name": "stdout",
     "output_type": "stream",
     "text": [
      "[1 3 5 7 9] [96 45  6 57] "
     ]
    },
    {
     "ename": "ValueError",
     "evalue": "operands could not be broadcast together with shapes (5,) (4,) ",
     "output_type": "error",
     "traceback": [
      "\u001b[1;31m---------------------------------------------------------------------------\u001b[0m",
      "\u001b[1;31mValueError\u001b[0m                                Traceback (most recent call last)",
      "\u001b[1;32m<ipython-input-45-6ef54a4ac39e>\u001b[0m in \u001b[0;36m<module>\u001b[1;34m\u001b[0m\n\u001b[0;32m      5\u001b[0m \u001b[0mprint\u001b[0m\u001b[1;33m(\u001b[0m\u001b[0marr1\u001b[0m\u001b[1;33m,\u001b[0m\u001b[0mend\u001b[0m\u001b[1;33m=\u001b[0m\u001b[1;34m\" \"\u001b[0m\u001b[1;33m)\u001b[0m\u001b[1;33m\u001b[0m\u001b[1;33m\u001b[0m\u001b[0m\n\u001b[0;32m      6\u001b[0m \u001b[0mprint\u001b[0m\u001b[1;33m(\u001b[0m\u001b[0marr2\u001b[0m\u001b[1;33m,\u001b[0m\u001b[0mend\u001b[0m\u001b[1;33m=\u001b[0m\u001b[1;34m\" \"\u001b[0m\u001b[1;33m)\u001b[0m\u001b[1;33m\u001b[0m\u001b[1;33m\u001b[0m\u001b[0m\n\u001b[1;32m----> 7\u001b[1;33m \u001b[0marr1\u001b[0m \u001b[1;33m+\u001b[0m \u001b[0marr2\u001b[0m\u001b[1;33m\u001b[0m\u001b[1;33m\u001b[0m\u001b[0m\n\u001b[0m",
      "\u001b[1;31mValueError\u001b[0m: operands could not be broadcast together with shapes (5,) (4,) "
     ]
    }
   ],
   "source": [
    "#in the example above, two array have the same numbers of elemnt, \n",
    "#if the two array have different number \n",
    "arr1 = np.arange(1,10,2)\n",
    "arr2 = np.random.randint(1,100,4)\n",
    "print(arr1,end=\" \")\n",
    "print(arr2,end=\" \")\n",
    "arr1 + arr2"
   ]
  },
  {
   "cell_type": "code",
   "execution_count": 2,
   "id": "c308c1a4",
   "metadata": {},
   "outputs": [],
   "source": [
    "array_1 = np.random.randint(1,500,15)"
   ]
  },
  {
   "cell_type": "code",
   "execution_count": 14,
   "id": "07a3d209",
   "metadata": {},
   "outputs": [
    {
     "name": "stdout",
     "output_type": "stream",
     "text": [
      "[371  30 107 163 491 460 172  98 232 395 299  48 170 439 170]\n"
     ]
    }
   ],
   "source": [
    "print(array_1)"
   ]
  },
  {
   "cell_type": "code",
   "execution_count": 20,
   "id": "1865a2d4",
   "metadata": {},
   "outputs": [
    {
     "data": {
      "text/plain": [
       "232"
      ]
     },
     "execution_count": 20,
     "metadata": {},
     "output_type": "execute_result"
    }
   ],
   "source": [
    "np.sort(array_1)[8]"
   ]
  },
  {
   "cell_type": "code",
   "execution_count": 25,
   "id": "963928ad",
   "metadata": {},
   "outputs": [
    {
     "name": "stdout",
     "output_type": "stream",
     "text": [
      "[ 1  7  2  3 12 11 14  6]\n"
     ]
    },
    {
     "data": {
      "text/plain": [
       "array([ 30,  98, 107, 163, 170,  48, 170, 172])"
      ]
     },
     "execution_count": 25,
     "metadata": {},
     "output_type": "execute_result"
    }
   ],
   "source": [
    "#Perform an indirect partition along the given axis using the algorithm \n",
    "#specified by the kind keyword. It returns an array of indices of the \n",
    "#same shape as a that index data along the given axis in partitioned order.\n",
    "#numpy.argpartition(a, kth, axis=- 1, kind='introselect', order=None)\n",
    "#a :Array to sort\n",
    "#kth : Element index to partition by. \n",
    "#The k-th element will be in its final sorted position and all smaller elements will be \n",
    "#moved before it and all larger elements behind it\n",
    "index_value = np.argpartition(array_1,8)\n",
    "#the 8th element in array_1 is 232,index of all smaller value from 232 is\n",
    "print(index_value[0:8])\n",
    "array_1[index_value[0:8]]"
   ]
  },
  {
   "cell_type": "code",
   "execution_count": 26,
   "id": "6ee010d1",
   "metadata": {},
   "outputs": [
    {
     "data": {
      "text/plain": [
       "array([[371,  30, 107, 163, 491],\n",
       "       [460, 172,  98, 232, 395],\n",
       "       [299,  48, 170, 439, 170]])"
      ]
     },
     "execution_count": 26,
     "metadata": {},
     "output_type": "execute_result"
    }
   ],
   "source": [
    "#numpy.ravel(a, order='C')[source]\n",
    "#Return a contiguous flattened array.\n",
    "array_2 = array_1.reshape(3,5)\n",
    "array_2"
   ]
  },
  {
   "cell_type": "code",
   "execution_count": 29,
   "id": "21a279dd",
   "metadata": {},
   "outputs": [
    {
     "data": {
      "text/plain": [
       "array([371,  30, 107, 163, 491, 460, 172,  98, 232, 395, 299,  48, 170,\n",
       "       439, 170])"
      ]
     },
     "execution_count": 29,
     "metadata": {},
     "output_type": "execute_result"
    }
   ],
   "source": [
    "np.ravel(array_2)"
   ]
  },
  {
   "cell_type": "code",
   "execution_count": 30,
   "id": "d5af3fc2",
   "metadata": {},
   "outputs": [
    {
     "data": {
      "text/plain": [
       "array([371,  30, 107, 163, 491, 460, 172,  98, 232, 395, 299,  48, 170,\n",
       "       439, 170])"
      ]
     },
     "execution_count": 30,
     "metadata": {},
     "output_type": "execute_result"
    }
   ],
   "source": [
    "array_2.ravel()"
   ]
  },
  {
   "cell_type": "code",
   "execution_count": 32,
   "id": "79ed6f47",
   "metadata": {},
   "outputs": [
    {
     "data": {
      "text/plain": [
       "True"
      ]
     },
     "execution_count": 32,
     "metadata": {},
     "output_type": "execute_result"
    }
   ],
   "source": [
    "#numpy.allclose(a, b, rtol=1e-05, atol=1e-08, equal_nan=False)\n",
    "#Returns True if two arrays are element-wise equal within a tolerance.\n",
    "np.allclose(array_1,array_2.ravel())"
   ]
  },
  {
   "cell_type": "code",
   "execution_count": 35,
   "id": "412b8e31",
   "metadata": {},
   "outputs": [
    {
     "data": {
      "text/plain": [
       "False"
      ]
     },
     "execution_count": 35,
     "metadata": {},
     "output_type": "execute_result"
    }
   ],
   "source": [
    "array_3 = np.array([0.1,0.2,0.3])\n",
    "array_4 = np.array([0.12,0.2,0.32])\n",
    "np.allclose(array_3,array_4)"
   ]
  },
  {
   "cell_type": "code",
   "execution_count": 36,
   "id": "1d4a3ad2",
   "metadata": {},
   "outputs": [
    {
     "data": {
      "text/plain": [
       "False"
      ]
     },
     "execution_count": 36,
     "metadata": {},
     "output_type": "execute_result"
    }
   ],
   "source": [
    "np.allclose(array_3,array_4,0.1)"
   ]
  },
  {
   "cell_type": "code",
   "execution_count": 37,
   "id": "1ae648e8",
   "metadata": {},
   "outputs": [
    {
     "data": {
      "text/plain": [
       "True"
      ]
     },
     "execution_count": 37,
     "metadata": {},
     "output_type": "execute_result"
    }
   ],
   "source": [
    "np.allclose(array_3,array_4,0.2)"
   ]
  },
  {
   "cell_type": "code",
   "execution_count": 39,
   "id": "8d7d15fe",
   "metadata": {},
   "outputs": [
    {
     "data": {
      "text/plain": [
       "array([300, 100, 107, 163, 300, 300, 172, 100, 232, 300, 299, 100, 170,\n",
       "       300, 170])"
      ]
     },
     "execution_count": 39,
     "metadata": {},
     "output_type": "execute_result"
    }
   ],
   "source": [
    "#numpy.clip(a, a_min, a_max, out=None, **kwargs)\n",
    "#Clip (limit) the values in an array.\n",
    "#after clip, we can't see value less than a_min and greater than a_max\n",
    "np.clip(array_1,100,300)"
   ]
  },
  {
   "cell_type": "code",
   "execution_count": 4,
   "id": "2df99d6c",
   "metadata": {},
   "outputs": [
    {
     "name": "stdout",
     "output_type": "stream",
     "text": [
      "[[ 47 100  75 271 251]\n",
      " [210 162 253  44   9]\n",
      " [ 61  11 177 105  84]\n",
      " [289 155  92  60  33]]\n"
     ]
    }
   ],
   "source": [
    "array_5 = np.random.randint(1,300,20)\n",
    "array_6 = array_5.reshape(4,5)\n",
    "print(array_6)"
   ]
  },
  {
   "cell_type": "code",
   "execution_count": 9,
   "id": "f99683e9",
   "metadata": {},
   "outputs": [
    {
     "data": {
      "text/plain": [
       "array([[  1,   1,   1,   1,   1,   1,   1],\n",
       "       [  1,  47, 100,  75, 271, 251,   1],\n",
       "       [  1, 210, 162, 253,  44,   9,   1],\n",
       "       [  1,  61,  11, 177, 105,  84,   1],\n",
       "       [  1, 289, 155,  92,  60,  33,   1],\n",
       "       [  1,   1,   1,   1,   1,   1,   1]])"
      ]
     },
     "execution_count": 9,
     "metadata": {},
     "output_type": "execute_result"
    }
   ],
   "source": [
    "#numpy.pad(array, pad_width, mode='constant', **kwargs)\n",
    "#pad_width = Number of values padded to the edges of each axis.\n",
    "array_6_pad = np.pad(array_6,pad_width=1,mode='constant',constant_values = 1)\n",
    "array_6_pad"
   ]
  },
  {
   "cell_type": "code",
   "execution_count": 10,
   "id": "2a1da7e0",
   "metadata": {},
   "outputs": [
    {
     "data": {
      "text/plain": [
       "array([[ 47,  47, 100,  75, 271, 251, 251],\n",
       "       [ 47,  47, 100,  75, 271, 251, 251],\n",
       "       [210, 210, 162, 253,  44,   9,   9],\n",
       "       [ 61,  61,  11, 177, 105,  84,  84],\n",
       "       [289, 289, 155,  92,  60,  33,  33],\n",
       "       [289, 289, 155,  92,  60,  33,  33]])"
      ]
     },
     "execution_count": 10,
     "metadata": {},
     "output_type": "execute_result"
    }
   ],
   "source": [
    "array_6_pad = np.pad(array_6,pad_width=1,mode='edge')\n",
    "array_6_pad"
   ]
  },
  {
   "cell_type": "code",
   "execution_count": 13,
   "id": "18d6b171",
   "metadata": {},
   "outputs": [
    {
     "data": {
      "text/plain": [
       "array([[124, 152, 107, 149, 120,  94, 124],\n",
       "       [149,  47, 100,  75, 271, 251, 149],\n",
       "       [136, 210, 162, 253,  44,   9, 136],\n",
       "       [ 88,  61,  11, 177, 105,  84,  88],\n",
       "       [126, 289, 155,  92,  60,  33, 126],\n",
       "       [124, 152, 107, 149, 120,  94, 124]])"
      ]
     },
     "execution_count": 13,
     "metadata": {},
     "output_type": "execute_result"
    }
   ],
   "source": [
    "array_6_pad = np.pad(array_6,pad_width=1,mode='mean')\n",
    "array_6_pad"
   ]
  },
  {
   "cell_type": "code",
   "execution_count": 16,
   "id": "27913774",
   "metadata": {},
   "outputs": [
    {
     "data": {
      "text/plain": [
       "array([[124, 152, 107, 149, 120,   1, 124],\n",
       "       [149,  47, 100,  75, 271, 251, 149],\n",
       "       [136, 210, 162, 253,  44,   9, 136],\n",
       "       [ 88,  61,  11, 177, 105,  84,  88],\n",
       "       [126, 289, 155,  92,  60,  33, 126],\n",
       "       [124, 152, 107, 149, 120,  94, 124]])"
      ]
     },
     "execution_count": 16,
     "metadata": {},
     "output_type": "execute_result"
    }
   ],
   "source": [
    "#numpy.put(a, ind, v, mode='raise')\n",
    "#Replaces specified elements of an array with given values.\n",
    "np.put(array_6_pad,np.random.choice(range(5,6)),1)\n",
    "array_6_pad"
   ]
  },
  {
   "cell_type": "code",
   "execution_count": 17,
   "id": "75e4e0aa",
   "metadata": {},
   "outputs": [
    {
     "data": {
      "text/plain": [
       "5"
      ]
     },
     "execution_count": 17,
     "metadata": {},
     "output_type": "execute_result"
    }
   ],
   "source": [
    "#Generates a random sample from a given 1-D array\n",
    "np.random.choice(range(1,10))"
   ]
  },
  {
   "cell_type": "code",
   "execution_count": 18,
   "id": "1921dc32",
   "metadata": {},
   "outputs": [
    {
     "data": {
      "text/plain": [
       "array([0.06357591, 0.47738328, 0.0240586 , 0.79277419, 0.08715426,\n",
       "       0.28302269, 0.73134333, 0.00908148, 0.08237216, 0.45660139])"
      ]
     },
     "execution_count": 18,
     "metadata": {},
     "output_type": "execute_result"
    }
   ],
   "source": [
    "#Random values in a given shape.\n",
    "np.random.rand(10)"
   ]
  },
  {
   "cell_type": "code",
   "execution_count": 19,
   "id": "2aa45b26",
   "metadata": {},
   "outputs": [
    {
     "data": {
      "text/plain": [
       "array([[2, 4, 4, 9, 9],\n",
       "       [7, 4, 2, 8, 2],\n",
       "       [6, 5, 9, 2, 7]])"
      ]
     },
     "execution_count": 19,
     "metadata": {},
     "output_type": "execute_result"
    }
   ],
   "source": [
    "#astype:Copy of the array, cast to a specified type.\n",
    "array_7 = (np.random.rand(15)*10).astype(int).reshape(3,5)\n",
    "array_7"
   ]
  },
  {
   "cell_type": "code",
   "execution_count": 20,
   "id": "8d2b3820",
   "metadata": {},
   "outputs": [
    {
     "data": {
      "text/plain": [
       "array([[6, 2, 7, 1, 0],\n",
       "       [9, 5, 6, 9, 1],\n",
       "       [6, 9, 1, 6, 1]])"
      ]
     },
     "execution_count": 20,
     "metadata": {},
     "output_type": "execute_result"
    }
   ],
   "source": [
    "array_8 = (np.random.rand(15)*10).astype(int).reshape(3,5)\n",
    "array_8"
   ]
  },
  {
   "cell_type": "code",
   "execution_count": 21,
   "id": "6fe1a03f",
   "metadata": {},
   "outputs": [
    {
     "data": {
      "text/plain": [
       "array([[ 8,  6, 11, 10,  9],\n",
       "       [16,  9,  8, 17,  3],\n",
       "       [12, 14, 10,  8,  8]])"
      ]
     },
     "execution_count": 21,
     "metadata": {},
     "output_type": "execute_result"
    }
   ],
   "source": [
    "array_7 + array_8"
   ]
  },
  {
   "cell_type": "code",
   "execution_count": 22,
   "id": "9c17cba8",
   "metadata": {},
   "outputs": [
    {
     "data": {
      "text/plain": [
       "array([[12,  8, 28,  9,  0],\n",
       "       [63, 20, 12, 72,  2],\n",
       "       [36, 45,  9, 12,  7]])"
      ]
     },
     "execution_count": 22,
     "metadata": {},
     "output_type": "execute_result"
    }
   ],
   "source": [
    "array_7 * array_8"
   ]
  },
  {
   "cell_type": "code",
   "execution_count": 23,
   "id": "182e3951",
   "metadata": {},
   "outputs": [
    {
     "name": "stderr",
     "output_type": "stream",
     "text": [
      "<ipython-input-23-1d1bfb773b34>:1: RuntimeWarning: divide by zero encountered in true_divide\n",
      "  array_7 / array_8\n"
     ]
    },
    {
     "data": {
      "text/plain": [
       "array([[0.33333333, 2.        , 0.57142857, 9.        ,        inf],\n",
       "       [0.77777778, 0.8       , 0.33333333, 0.88888889, 2.        ],\n",
       "       [1.        , 0.55555556, 9.        , 0.33333333, 7.        ]])"
      ]
     },
     "execution_count": 23,
     "metadata": {},
     "output_type": "execute_result"
    }
   ],
   "source": [
    "array_7 / array_8"
   ]
  },
  {
   "cell_type": "code",
   "execution_count": 24,
   "id": "31ab883f",
   "metadata": {},
   "outputs": [
    {
     "name": "stderr",
     "output_type": "stream",
     "text": [
      "<ipython-input-24-c3f2150db0f8>:1: RuntimeWarning: divide by zero encountered in true_divide\n",
      "  (array_7 / array_8).astype(int)\n"
     ]
    },
    {
     "data": {
      "text/plain": [
       "array([[          0,           2,           0,           9, -2147483648],\n",
       "       [          0,           0,           0,           0,           2],\n",
       "       [          1,           0,           9,           0,           7]])"
      ]
     },
     "execution_count": 24,
     "metadata": {},
     "output_type": "execute_result"
    }
   ],
   "source": [
    "(array_7 / array_8).astype(int)"
   ]
  },
  {
   "cell_type": "code",
   "execution_count": null,
   "id": "5867fb50",
   "metadata": {},
   "outputs": [],
   "source": []
  }
 ],
 "metadata": {
  "kernelspec": {
   "display_name": "Python 3",
   "language": "python",
   "name": "python3"
  },
  "language_info": {
   "codemirror_mode": {
    "name": "ipython",
    "version": 3
   },
   "file_extension": ".py",
   "mimetype": "text/x-python",
   "name": "python",
   "nbconvert_exporter": "python",
   "pygments_lexer": "ipython3",
   "version": "3.8.8"
  }
 },
 "nbformat": 4,
 "nbformat_minor": 5
}
