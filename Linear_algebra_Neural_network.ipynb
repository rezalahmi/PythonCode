{
 "cells": [
  {
   "cell_type": "code",
   "execution_count": 1,
   "id": "d7cca991",
   "metadata": {},
   "outputs": [],
   "source": [
    "import numpy as np"
   ]
  },
  {
   "cell_type": "code",
   "execution_count": 2,
   "id": "6d6f9f7f",
   "metadata": {},
   "outputs": [
    {
     "data": {
      "text/plain": [
       "array([ 32, 413, 153,  31, 443])"
      ]
     },
     "execution_count": 2,
     "metadata": {},
     "output_type": "execute_result"
    }
   ],
   "source": [
    "vector_1 = np.random.randint(1,500,5)\n",
    "vector_1"
   ]
  },
  {
   "cell_type": "code",
   "execution_count": 3,
   "id": "c726e58d",
   "metadata": {},
   "outputs": [
    {
     "data": {
      "text/plain": [
       "array([400, 404, 254, 375, 343])"
      ]
     },
     "execution_count": 3,
     "metadata": {},
     "output_type": "execute_result"
    }
   ],
   "source": [
    "vector_2 = np.random.randint(1,500,5)\n",
    "vector_2"
   ]
  },
  {
   "cell_type": "code",
   "execution_count": 23,
   "id": "6555716e",
   "metadata": {},
   "outputs": [
    {
     "data": {
      "text/plain": [
       "382088"
      ]
     },
     "execution_count": 23,
     "metadata": {},
     "output_type": "execute_result"
    }
   ],
   "source": [
    "vector_1.dot(vector_2)"
   ]
  },
  {
   "cell_type": "code",
   "execution_count": 24,
   "id": "2a724f51",
   "metadata": {},
   "outputs": [
    {
     "data": {
      "text/plain": [
       "382088"
      ]
     },
     "execution_count": 24,
     "metadata": {},
     "output_type": "execute_result"
    }
   ],
   "source": [
    "#Return the dot product of two vectors.\n",
    "np.vdot(vector_1,vector_2)"
   ]
  },
  {
   "cell_type": "code",
   "execution_count": null,
   "id": "f3bfe046",
   "metadata": {},
   "outputs": [],
   "source": []
  },
  {
   "cell_type": "code",
   "execution_count": 10,
   "id": "8780a097",
   "metadata": {},
   "outputs": [
    {
     "data": {
      "text/plain": [
       "array([[6, 2],\n",
       "       [1, 8]])"
      ]
     },
     "execution_count": 10,
     "metadata": {},
     "output_type": "execute_result"
    }
   ],
   "source": [
    "#Generate a 2 x 2 array of ints between 0 and 9\n",
    "matrix_1 = np.random.randint(10,size=(2,2))\n",
    "matrix_1"
   ]
  },
  {
   "cell_type": "code",
   "execution_count": 11,
   "id": "18d31064",
   "metadata": {},
   "outputs": [
    {
     "data": {
      "text/plain": [
       "array([[6, 7],\n",
       "       [5, 6]])"
      ]
     },
     "execution_count": 11,
     "metadata": {},
     "output_type": "execute_result"
    }
   ],
   "source": [
    "matrix_2 = np.random.randint(10,size=(2,2))\n",
    "matrix_2"
   ]
  },
  {
   "cell_type": "code",
   "execution_count": 12,
   "id": "5ff27ef3",
   "metadata": {},
   "outputs": [
    {
     "data": {
      "text/plain": [
       "array([[46, 54],\n",
       "       [46, 55]])"
      ]
     },
     "execution_count": 12,
     "metadata": {},
     "output_type": "execute_result"
    }
   ],
   "source": [
    "matrix_1.dot(matrix_2)"
   ]
  },
  {
   "cell_type": "code",
   "execution_count": 14,
   "id": "3fd022e9",
   "metadata": {},
   "outputs": [
    {
     "data": {
      "text/plain": [
       "matrix([[8, 7],\n",
       "        [4, 2],\n",
       "        [1, 7]])"
      ]
     },
     "execution_count": 14,
     "metadata": {},
     "output_type": "execute_result"
    }
   ],
   "source": [
    "matrix_3 = np.matrix(np.random.randint(10,size=(3,2)))\n",
    "matrix_3"
   ]
  },
  {
   "cell_type": "code",
   "execution_count": 15,
   "id": "85e33878",
   "metadata": {},
   "outputs": [
    {
     "data": {
      "text/plain": [
       "matrix([[83, 98],\n",
       "        [34, 40],\n",
       "        [41, 49]])"
      ]
     },
     "execution_count": 15,
     "metadata": {},
     "output_type": "execute_result"
    }
   ],
   "source": [
    "np.dot(matrix_3,matrix_2)"
   ]
  },
  {
   "cell_type": "code",
   "execution_count": 17,
   "id": "990a509c",
   "metadata": {},
   "outputs": [
    {
     "data": {
      "text/plain": [
       "49"
      ]
     },
     "execution_count": 17,
     "metadata": {},
     "output_type": "execute_result"
    }
   ],
   "source": [
    "#dot(a, b)[i,j,k,m] = sum(a[i,j,:] * b[k,:,m])\n",
    "np.dot(matrix_3,matrix_2)[2,1]"
   ]
  },
  {
   "cell_type": "code",
   "execution_count": 18,
   "id": "3fdd71da",
   "metadata": {},
   "outputs": [
    {
     "data": {
      "text/plain": [
       "array([[1., 0., 0., 0.],\n",
       "       [0., 1., 0., 0.],\n",
       "       [0., 0., 1., 0.],\n",
       "       [0., 0., 0., 1.]])"
      ]
     },
     "execution_count": 18,
     "metadata": {},
     "output_type": "execute_result"
    }
   ],
   "source": [
    "#Return the identity array.\n",
    "#The identity array is a square array with ones on the main diagonal.\n",
    "np.identity(4)"
   ]
  },
  {
   "cell_type": "code",
   "execution_count": 19,
   "id": "4852a8fd",
   "metadata": {},
   "outputs": [
    {
     "data": {
      "text/plain": [
       "array([[6, 2, 4, 3],\n",
       "       [6, 4, 6, 6],\n",
       "       [5, 7, 6, 3],\n",
       "       [7, 7, 9, 7]])"
      ]
     },
     "execution_count": 19,
     "metadata": {},
     "output_type": "execute_result"
    }
   ],
   "source": [
    "matrix_d = np.random.randint(10,size=(4,4))\n",
    "matrix_d"
   ]
  },
  {
   "cell_type": "code",
   "execution_count": 20,
   "id": "58e2834d",
   "metadata": {},
   "outputs": [
    {
     "data": {
      "text/plain": [
       "array([[6., 2., 4., 3.],\n",
       "       [6., 4., 6., 6.],\n",
       "       [5., 7., 6., 3.],\n",
       "       [7., 7., 9., 7.]])"
      ]
     },
     "execution_count": 20,
     "metadata": {},
     "output_type": "execute_result"
    }
   ],
   "source": [
    "np.dot(matrix_d,np.identity(4))"
   ]
  },
  {
   "cell_type": "code",
   "execution_count": 21,
   "id": "97c01fc8",
   "metadata": {},
   "outputs": [
    {
     "data": {
      "text/plain": [
       "array([[ 0.2195122 ,  0.23170732,  0.17073171, -0.36585366],\n",
       "       [-0.29268293,  0.52439024,  0.43902439, -0.51219512],\n",
       "       [ 0.34146341, -1.19512195, -0.51219512,  1.09756098],\n",
       "       [-0.36585366,  0.7804878 ,  0.04878049, -0.3902439 ]])"
      ]
     },
     "execution_count": 21,
     "metadata": {},
     "output_type": "execute_result"
    }
   ],
   "source": [
    "#numpy.linalg.inv\n",
    "#Compute the (multiplicative) inverse of a matrix.\n",
    "matrix_e = np.linalg.inv(matrix_d)\n",
    "matrix_e"
   ]
  },
  {
   "cell_type": "code",
   "execution_count": 22,
   "id": "26963dc1",
   "metadata": {},
   "outputs": [
    {
     "data": {
      "text/plain": [
       "array([[ 1.00000000e+00, -1.33226763e-15, -4.44089210e-16,\n",
       "         8.88178420e-16],\n",
       "       [ 4.44089210e-16,  1.00000000e+00, -4.44089210e-16,\n",
       "         0.00000000e+00],\n",
       "       [ 4.44089210e-16,  0.00000000e+00,  1.00000000e+00,\n",
       "        -8.88178420e-16],\n",
       "       [ 0.00000000e+00,  0.00000000e+00, -4.44089210e-16,\n",
       "         1.00000000e+00]])"
      ]
     },
     "execution_count": 22,
     "metadata": {},
     "output_type": "execute_result"
    }
   ],
   "source": [
    "np.dot(matrix_d,matrix_e)"
   ]
  },
  {
   "cell_type": "code",
   "execution_count": 25,
   "id": "918a8a84",
   "metadata": {},
   "outputs": [
    {
     "data": {
      "text/plain": [
       "matrix([[83, 98],\n",
       "        [34, 40],\n",
       "        [41, 49]])"
      ]
     },
     "execution_count": 25,
     "metadata": {},
     "output_type": "execute_result"
    }
   ],
   "source": [
    "#numpy.matmul\n",
    "#If both arguments are 2-D they are multiplied like conventional matrices.\n",
    "np.matmul(matrix_3,matrix_2)"
   ]
  },
  {
   "cell_type": "code",
   "execution_count": 26,
   "id": "fa29dc61",
   "metadata": {},
   "outputs": [
    {
     "data": {
      "text/plain": [
       "81.99999999999994"
      ]
     },
     "execution_count": 26,
     "metadata": {},
     "output_type": "execute_result"
    }
   ],
   "source": [
    "#the determinant is a scalar value that is a function of the entries of a square matrix. \n",
    "#It allows characterizing some properties of the matrix and the linear map represented by the matrix.\n",
    "#In particular, the determinant is nonzero if and only if the matrix is invertible, \n",
    "#and the linear map represented by the matrix is an isomorphism.\n",
    "#linalg.det(a)\n",
    "np.linalg.det(matrix_d)"
   ]
  }
 ],
 "metadata": {
  "kernelspec": {
   "display_name": "Python 3",
   "language": "python",
   "name": "python3"
  },
  "language_info": {
   "codemirror_mode": {
    "name": "ipython",
    "version": 3
   },
   "file_extension": ".py",
   "mimetype": "text/x-python",
   "name": "python",
   "nbconvert_exporter": "python",
   "pygments_lexer": "ipython3",
   "version": "3.8.8"
  }
 },
 "nbformat": 4,
 "nbformat_minor": 5
}
