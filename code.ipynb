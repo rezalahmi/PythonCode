{
  "nbformat": 4,
  "nbformat_minor": 0,
  "metadata": {
    "colab": {
      "name": "code.ipynb",
      "provenance": [],
      "authorship_tag": "ABX9TyPDdo0K6/+V9VxCoiyFC/Pz",
      "include_colab_link": true
    },
    "kernelspec": {
      "name": "python3",
      "display_name": "Python 3"
    },
    "language_info": {
      "name": "python"
    }
  },
  "cells": [
    {
      "cell_type": "markdown",
      "metadata": {
        "id": "view-in-github",
        "colab_type": "text"
      },
      "source": [
        "<a href=\"https://colab.research.google.com/github/rezalahmi/PythonCode/blob/main/code.ipynb\" target=\"_parent\"><img src=\"https://colab.research.google.com/assets/colab-badge.svg\" alt=\"Open In Colab\"/></a>"
      ]
    },
    {
      "cell_type": "code",
      "metadata": {
        "colab": {
          "base_uri": "https://localhost:8080/"
        },
        "id": "0hhbpJJ7Brwy",
        "outputId": "f4f8aaa5-b46a-466d-ce7f-8861ff234768"
      },
      "source": [
        "print('Hello wrold')"
      ],
      "execution_count": 1,
      "outputs": [
        {
          "output_type": "stream",
          "name": "stdout",
          "text": [
            "Hello wrold\n"
          ]
        }
      ]
    },
    {
      "cell_type": "code",
      "metadata": {
        "colab": {
          "base_uri": "https://localhost:8080/",
          "height": 35
        },
        "id": "AplKRg8ZC7eZ",
        "outputId": "31bd3a94-b132-4b95-ed3d-544bd688a2e4"
      },
      "source": [
        "pwd"
      ],
      "execution_count": 2,
      "outputs": [
        {
          "output_type": "execute_result",
          "data": {
            "application/vnd.google.colaboratory.intrinsic+json": {
              "type": "string"
            },
            "text/plain": [
              "'/content'"
            ]
          },
          "metadata": {},
          "execution_count": 2
        }
      ]
    },
    {
      "cell_type": "markdown",
      "metadata": {
        "id": "kXcF7UptHWGQ"
      },
      "source": [
        "## Connecting Colab"
      ]
    },
    {
      "cell_type": "code",
      "metadata": {
        "colab": {
          "base_uri": "https://localhost:8080/"
        },
        "id": "uU_T9nXuDQqQ",
        "outputId": "d8be1975-ff56-4630-9771-efa5efa3896a"
      },
      "source": [
        "from google.colab  import drive\n",
        "drive.mount('/content/gdrive')"
      ],
      "execution_count": 3,
      "outputs": [
        {
          "output_type": "stream",
          "name": "stdout",
          "text": [
            "Mounted at /content/gdrive\n"
          ]
        }
      ]
    },
    {
      "cell_type": "markdown",
      "metadata": {
        "id": "LMsNgq46IaUH"
      },
      "source": [
        "Linux command"
      ]
    },
    {
      "cell_type": "code",
      "metadata": {
        "colab": {
          "base_uri": "https://localhost:8080/"
        },
        "id": "6auI8BlzFI-5",
        "outputId": "72b39706-d3c8-4b04-dce4-573b0b93c011"
      },
      "source": [
        "ls"
      ],
      "execution_count": 4,
      "outputs": [
        {
          "output_type": "stream",
          "name": "stdout",
          "text": [
            "\u001b[0m\u001b[01;34mgdrive\u001b[0m/  \u001b[01;34msample_data\u001b[0m/\n"
          ]
        }
      ]
    },
    {
      "cell_type": "code",
      "metadata": {
        "colab": {
          "base_uri": "https://localhost:8080/",
          "height": 35
        },
        "id": "xMXtrY-CFWup",
        "outputId": "c0d466f6-a7ef-4d12-eefa-843a9cafa8c6"
      },
      "source": [
        "pwd"
      ],
      "execution_count": 5,
      "outputs": [
        {
          "output_type": "execute_result",
          "data": {
            "application/vnd.google.colaboratory.intrinsic+json": {
              "type": "string"
            },
            "text/plain": [
              "'/content'"
            ]
          },
          "metadata": {},
          "execution_count": 5
        }
      ]
    },
    {
      "cell_type": "code",
      "metadata": {
        "colab": {
          "base_uri": "https://localhost:8080/"
        },
        "id": "bysWBQG-GDHR",
        "outputId": "a2230851-8756-46ca-efcf-c4c4efe9db2b"
      },
      "source": [
        "ls /gdrive"
      ],
      "execution_count": 6,
      "outputs": [
        {
          "output_type": "stream",
          "name": "stdout",
          "text": [
            "ls: cannot access '/gdrive': No such file or directory\n"
          ]
        }
      ]
    },
    {
      "cell_type": "code",
      "metadata": {
        "colab": {
          "base_uri": "https://localhost:8080/"
        },
        "id": "h3sACZYNGHJP",
        "outputId": "19b9f11f-8f65-4ba0-949f-5c4c4b56746e"
      },
      "source": [
        "ls '/gdrive'"
      ],
      "execution_count": 7,
      "outputs": [
        {
          "output_type": "stream",
          "name": "stdout",
          "text": [
            "ls: cannot access '/gdrive': No such file or directory\n"
          ]
        }
      ]
    },
    {
      "cell_type": "code",
      "metadata": {
        "colab": {
          "base_uri": "https://localhost:8080/"
        },
        "id": "ioEftevdGNF5",
        "outputId": "e957c4ba-8494-4d48-a8be-4953fb7e8eca"
      },
      "source": [
        "ls '/content/gdrive'"
      ],
      "execution_count": 8,
      "outputs": [
        {
          "output_type": "stream",
          "name": "stdout",
          "text": [
            "\u001b[0m\u001b[01;34mMyDrive\u001b[0m/\n"
          ]
        }
      ]
    },
    {
      "cell_type": "code",
      "metadata": {
        "colab": {
          "base_uri": "https://localhost:8080/"
        },
        "id": "V2No1ydiGYcH",
        "outputId": "11d6cac1-8daa-427a-fc4b-19775733632a"
      },
      "source": [
        "ls '/content/gdrive/MyDrive'"
      ],
      "execution_count": 9,
      "outputs": [
        {
          "output_type": "stream",
          "name": "stdout",
          "text": [
            "'001_(54).jpg'\n",
            " 09d11c22700255ebf9c7ac4c20ab73bd.pdf\n",
            " 10.1007_978-3-319-72428-7_5-.pdf\n",
            " 1589624644-isi-journal-specs-for-phd-.pdf\n",
            " 1602246097-isi-journal-specs-for-phd-2.pdf\n",
            " 1_827675687.docx\n",
            " 1_827675779.pdf\n",
            " 208449f4-1f2e-4af9-948c-7fa9750138ff.JPG\n",
            "'5502460mosahebeh(www.Heyvagroup.com).pdf'\n",
            " 942-download.pdf\n",
            " \u001b[0m\u001b[01;34m991\u001b[0m/\n",
            "'A crisis information propagation model based on a competitive relation.pdf'\n",
            " action_prob_calculator_par_Competitive.R\n",
            "'ANINTRODUCTION TO MARKOV CHAINS.pdf'\n",
            " assurance.pdf\n",
            " ax.zip\n",
            " Azaduni-logo-LimooGraphic.png\n",
            " \u001b[01;34mََAzmoon_karshenas_rasmi\u001b[0m/\n",
            " \u001b[01;34mbarname-nevisi-c++-WwW.DLbartar.Com\u001b[0m/\n",
            " Books.rar\n",
            " c8b9906f732568e35ef8d0dd7f13af31.pdf\n",
            " choose_action_par_competitve.R\n",
            "\u001b[01;34m'Colab Notebooks'\u001b[0m/\n",
            "'Competitive diffusion .gdoc'\n",
            "'Copy of ax.jpg'\n",
            "'CREATE FUNCTION getNthHighestSalary(N INT).gdoc'\n",
            " cv_homayouni.docx\n",
            " Dalliri-Haeri-Meybodi-Saghiri-KBEI-2017.pdf\n",
            "\u001b[01;34m'Data Base'\u001b[0m/\n",
            "\u001b[01;34m'Data mining'\u001b[0m/\n",
            "\u001b[01;34m'Data science'\u001b[0m/\n",
            " ddl_create_olapDatabase.pdf\n",
            " DICLA.pdf\n",
            " Diversity2023.jpg\n",
            " \u001b[01;34mDR\u001b[0m/\n",
            "'Effect of the dynamics of human behavior on the competitive spreading of information.pdf'\n",
            "'elieen-release-v1.3-(20.04.27-22.57).apk'\n",
            " FARSI-uxpin_ux_design-the_definitive_beginners_guide.pdf\n",
            " File_002\n",
            " \u001b[01;34mFirstPaper\u001b[0m/\n",
            "\u001b[01;34m'Formal method'\u001b[0m/\n",
            " FormalMethod98992.docx\n",
            "\u001b[01;34m'Formal Method research'\u001b[0m/\n",
            "'Ganjine UI,UX.pdf'\n",
            " \u001b[01;34mGym\u001b[0m/\n",
            "\u001b[01;34m'human computer interaction'\u001b[0m/\n",
            " human_computer_interacttion_8.pptx\n",
            " IMG_1454.JPG\n",
            " IMG_1455.JPG\n",
            " IMG_3549.JPG\n",
            " IMG_4308.JPG\n",
            " IMG_4437.JPG\n",
            " IMG_7806.HEIC\n",
            " IMG_8583.JPG\n",
            " IMG_8710.JPG\n",
            " Information_Diffusion_Proposal.pdf\n",
            " IntroductionC++.pdf\n",
            " introductionToprogramming98992.docx\n",
            " IntroductionTosoftwareEngineering98992.docx\n",
            "'IOS 14 Programming Fundamentals with Swift_nodrm.pdf'\n",
            "'job discription for MQL.docx'\n",
            " lab.pdf\n",
            "'Learning Automata.pdf'\n",
            "'Learn SQL fast.pdf'\n",
            " MakeSocialNetwork_Competitive.r\n",
            "'Markov Chains.pdf'\n",
            " Mousavi-R-lang_in_Farsi.pdf\n",
            " Mousavi-R_topics_in_Farsi.pdf\n",
            "'NETWORKS OF LEARNING AUTOMATA Techniques for Online Stochastic Optimization - Thathachar - Sastry .pdf'\n",
            " NGT-33079-127079.docx\n",
            " objectivC++.pdf\n",
            " OLAP_Bookshop.pdf\n",
            "'On the competition of two conflicting messages.pdf'\n",
            " operatingSystem98992.docx\n",
            " operatingSystem98992_kardani.docx\n",
            " op_newEdition.pdf\n",
            " op_newEdition.pptx\n",
            " op.ppt\n",
            " pajouhesh-proposal_Final_Rev04.docx\n",
            " \u001b[01;34mpaper\u001b[0m/\n",
            " paper1_2.docx\n",
            " paper1_2.docx.gdoc\n",
            " paper1_3.docx\n",
            "'paper 2.pdf'\n",
            "'paper99_05 (1).docx'\n",
            "'paper99_05_en (1).docx'\n",
            " paper99_05_en.docx\n",
            "'paper99_05_fa (1).docx'\n",
            " paper99_05_fa.docx\n",
            " paper99_05.pdf\n",
            " paper_fr_1.docx\n",
            " \u001b[01;34mpaper_raheleh\u001b[0m/\n",
            " part1_PhD.docx\n",
            " penalty_calculator_par_competitve.R\n",
            " PhD_Proposal_Information_Diffusion.pdf\n",
            " \u001b[01;34mPhoto\u001b[0m/\n",
            " PHOTO-2021-09-23-16-47-24.jpg\n",
            " \u001b[01;34mPooria\u001b[0m/\n",
            " Pragmatic-Programmer-v2-Fa_compressed.pdf\n",
            "'Prediction of competitive diffusion on complex networks.pdf'\n",
            " profit_calculator_par_Competitive.R\n",
            " Python.pdf\n",
            "\u001b[01;34m'raheleh gym plan'\u001b[0m/\n",
            " Receipt_8a30beb7-af30-46a4-a8ac-be605ac813af-1.pdf\n",
            " Request.doc\n",
            " Request.gdoc\n",
            " resume.docx\n",
            " resume_lahmi.docx\n",
            " Resume-Mohammadreza-Lahmi.pdf\n",
            " Review_of_the_Provisions_of_Options.doc\n",
            "'Rezvanian-Meybodi-Computers in Human behavior-2016-off print.pdf'\n",
            "'Security question .JPG'\n",
            " set_action_prob_Competitive.R\n",
            " setDiffuser_Competitive.R\n",
            " \u001b[01;34msida\u001b[0m/\n",
            " Simulation_NonCompetitve.R\n",
            "\u001b[01;34m'Software Engineering'\u001b[0m/\n",
            " \u001b[01;34mSoftware_Engineering\u001b[0m/\n",
            " software-engineering-principles.pdf\n",
            "'Soheyl Valipour.pdf'\n",
            "'Some convergence theorems for stochastic learning models with distance diminishing operators.pdf'\n",
            " sqlScriptWithQueries.pdf\n",
            "\u001b[01;34m'Sticky Notes'\u001b[0m/\n",
            "'Systems Analysis and Design in a Changing World_[it98.ir].pdf'\n",
            "\u001b[01;34m'Text Mining'\u001b[0m/\n",
            " TheBasicsOfUxDesign-Persian.pdf\n",
            "'The Kronecker product and stochastic automata networks.pdf'\n",
            "'The study of the effectiveness of modern accounting approaches in strengthening the qualitative characteristics of society.docx'\n",
            " tracability.pdf\n",
            "'UX design.pdf'\n",
            "'Wavefront cellular learning automata.pdf'\n",
            "'ارائه 14 ابان.pptx'\n",
            " \u001b[01;34mازمون\u001b[0m/\n",
            "\u001b[01;34m'آزمون نرم افزار'\u001b[0m/\n",
            "'اصل مقاله.doc'\n",
            " الف-ب.pdf\n",
            " \u001b[01;34mآمایش\u001b[0m/\n",
            "'آمایش استان -28-4-00.xlsx'\n",
            "'آمایش استانی_البرز_-1400-4-28.xlsx'\n",
            "'آمایش استانی_البرز_-1400-5-27.xlsx'\n",
            "'آمایش استانی_البرز_3_5.xlsx'\n",
            " امایش_هشتگرد.xlsx\n",
            "'آمايش واحد کرج آموزشی.xlsx'\n",
            "'بخشنامه نيمسال_اول_1400_1401.docx'\n",
            "'برنامه ریزی1400_1401_1.pdf'\n",
            "\u001b[01;34m'بینش مطهر'\u001b[0m/\n",
            " \u001b[01;34mپایتون\u001b[0m/\n",
            "\u001b[01;34m'پروژه شهروند مجازی'\u001b[0m/\n",
            " \u001b[01;34mتوانیر\u001b[0m/\n",
            "'جدول 14.docx'\n",
            "'چاپخانه همراه.doc'\n",
            "'چاپخانه همراه.gdoc'\n",
            "\u001b[01;34m'حکمران انقلابی'\u001b[0m/\n",
            "'داده کاوی برای برنامه نویسان.pdf'\n",
            "'رونوشت Intro to DL-day3-Part1.mp4'\n",
            "'رونوشت Intro to DL-day3-Part2.mp4'\n",
            "'رونوشت Intro to DL-day3-Part3.mp4'\n",
            "'رونوشت Intro to DL-day4-Part1.mp4'\n",
            "'رونوشت Intro to DL-day4-Part2.mp4'\n",
            "'رونوشت Intro to DL-day4-Part3.mp4'\n",
            " سایت%20آموزش%20برنامه%20نویسی.docx\n",
            "'سایت آموزش برنامه نویسی.docx'\n",
            "'سیاست ها-چارچوب finalaized-تا -1400-03-15 -ابلاغی استان ها.docx'\n",
            "'سربرگ سوال2 -1.docx'\n",
            "'سربرگ سوال2 -1.docx.gdoc'\n",
            " \u001b[01;34mسرفصل\u001b[0m/\n",
            "'سرفصل دوره ios.gdoc'\n",
            "'سرفصل دوره اندروید.gdoc'\n",
            "\u001b[01;34m'شبکه عصبی'\u001b[0m/\n",
            "'شناسایی اشیاء (1).docx'\n",
            "'شناسایی اشیاء.docx'\n",
            "'شناسایی اشیاء.pdf'\n",
            "'صورتجلسه شورای اموزشی.docx'\n",
            "'طراحی و پیاده سازی .gsheet'\n",
            "'طرح توجيهي چاپخانه نسخه ۱.gdoc'\n",
            "'فرم اطلاعات فناوران.docx'\n",
            "'فرم بدون عنوان.gform'\n",
            "'فرم  شماره یک مخصوص هسته ها.docx'\n",
            "'قابلیت ردیابی در فرآیند توسعه نرم افزار.docx'\n",
            "\u001b[01;34m'قوانین انفورماتیک'\u001b[0m/\n",
            "'قوانین فناوری.pdf'\n",
            " كارگاه_مركزي.PDF\n",
            " کارت_سلامت.pdf\n",
            "'گزارش جداول فایل امایش استان البرز.docx'\n",
            "\u001b[01;34m'مبانی کامپیوتر'\u001b[0m/\n",
            "'مبانی کامپیوتر.pdf'\n",
            "'متن لاتین.مقاله 1396.doc'\n",
            " \u001b[01;34mمحرمانه\u001b[0m/\n",
            " \u001b[01;34mمدارک\u001b[0m/\n",
            "'مدارک موردنیاز فناوران جهت پذیرش.docx'\n",
            "'مدرسه برنامک.docx'\n",
            "\u001b[01;34m'مصورسازی تصاویر پزشکی'\u001b[0m/\n",
            " \u001b[01;34mمعماری\u001b[0m/\n",
            " \u001b[01;34mمقاله\u001b[0m/\n",
            " \u001b[01;34mنمایشگاه\u001b[0m/\n"
          ]
        }
      ]
    },
    {
      "cell_type": "code",
      "metadata": {
        "colab": {
          "base_uri": "https://localhost:8080/"
        },
        "id": "GyF6jFqJHMSQ",
        "outputId": "b62747b6-6ce7-4ccf-d01e-06695f6118a9"
      },
      "source": [
        "cd './مصورسازی تصاویر پزشکی'"
      ],
      "execution_count": 10,
      "outputs": [
        {
          "output_type": "stream",
          "name": "stdout",
          "text": [
            "[Errno 2] No such file or directory: './مصورسازی تصاویر پزشکی'\n",
            "/content\n"
          ]
        }
      ]
    },
    {
      "cell_type": "code",
      "metadata": {
        "colab": {
          "base_uri": "https://localhost:8080/",
          "height": 35
        },
        "id": "PlNhlhJsI4l4",
        "outputId": "ac83dc29-c853-4fc1-db04-0b6ef2f02c3f"
      },
      "source": [
        "pwd"
      ],
      "execution_count": 11,
      "outputs": [
        {
          "output_type": "execute_result",
          "data": {
            "application/vnd.google.colaboratory.intrinsic+json": {
              "type": "string"
            },
            "text/plain": [
              "'/content'"
            ]
          },
          "metadata": {},
          "execution_count": 11
        }
      ]
    },
    {
      "cell_type": "code",
      "metadata": {
        "colab": {
          "base_uri": "https://localhost:8080/"
        },
        "id": "mY7jOF-1I6nn",
        "outputId": "3222f1cf-0081-4b65-c24b-8d64fc2659dc"
      },
      "source": [
        "cd '/content/gdrive/MyDrive/مصورسازی تصاویر پزشکی'"
      ],
      "execution_count": 12,
      "outputs": [
        {
          "output_type": "stream",
          "name": "stdout",
          "text": [
            "/content/gdrive/MyDrive/مصورسازی تصاویر پزشکی\n"
          ]
        }
      ]
    },
    {
      "cell_type": "code",
      "metadata": {
        "colab": {
          "base_uri": "https://localhost:8080/",
          "height": 35
        },
        "id": "KphTpV9RQL0u",
        "outputId": "37874d63-2d95-4704-8fd1-66758f127af6"
      },
      "source": [
        "pwd"
      ],
      "execution_count": 13,
      "outputs": [
        {
          "output_type": "execute_result",
          "data": {
            "application/vnd.google.colaboratory.intrinsic+json": {
              "type": "string"
            },
            "text/plain": [
              "'/content/gdrive/MyDrive/مصورسازی تصاویر پزشکی'"
            ]
          },
          "metadata": {},
          "execution_count": 13
        }
      ]
    },
    {
      "cell_type": "code",
      "metadata": {
        "id": "_XaGigKLQOJd"
      },
      "source": [
        ""
      ],
      "execution_count": null,
      "outputs": []
    }
  ]
}