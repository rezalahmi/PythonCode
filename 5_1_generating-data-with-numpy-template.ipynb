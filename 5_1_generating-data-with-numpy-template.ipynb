{
 "cells": [
  {
   "cell_type": "markdown",
   "metadata": {},
   "source": [
    "# Generating Data w/ Numpy"
   ]
  },
  {
   "cell_type": "code",
   "execution_count": 1,
   "metadata": {},
   "outputs": [],
   "source": [
    "import numpy as np"
   ]
  },
  {
   "cell_type": "markdown",
   "metadata": {},
   "source": [
    "### np.empty(), np.zeros(), np.ones(), np.full()"
   ]
  },
  {
   "cell_type": "code",
   "execution_count": 3,
   "metadata": {},
   "outputs": [
    {
     "data": {
      "text/plain": [
       "array([[0., 0., 0.],\n",
       "       [0., 0., 0.]])"
      ]
     },
     "execution_count": 3,
     "metadata": {},
     "output_type": "execute_result"
    }
   ],
   "source": [
    "array_1 = np.empty(shape=(2,3))\n",
    "array_1"
   ]
  },
  {
   "cell_type": "code",
   "execution_count": 6,
   "metadata": {},
   "outputs": [
    {
     "data": {
      "text/plain": [
       "array([[0, 0, 0],\n",
       "       [0, 0, 0]])"
      ]
     },
     "execution_count": 6,
     "metadata": {},
     "output_type": "execute_result"
    }
   ],
   "source": [
    "array_2 = np.zeros(shape=(2,3),dtype=np.int32)\n",
    "array_2"
   ]
  },
  {
   "cell_type": "code",
   "execution_count": 8,
   "metadata": {
    "scrolled": true
   },
   "outputs": [
    {
     "data": {
      "text/plain": [
       "array([[1, 1, 1],\n",
       "       [1, 1, 1]])"
      ]
     },
     "execution_count": 8,
     "metadata": {},
     "output_type": "execute_result"
    }
   ],
   "source": [
    "array_3 = np.ones(shape=(2,3),dtype=np.int32)\n",
    "array_3"
   ]
  },
  {
   "cell_type": "code",
   "execution_count": 9,
   "metadata": {},
   "outputs": [
    {
     "data": {
      "text/plain": [
       "array([[9, 9, 9],\n",
       "       [9, 9, 9],\n",
       "       [9, 9, 9]])"
      ]
     },
     "execution_count": 9,
     "metadata": {},
     "output_type": "execute_result"
    }
   ],
   "source": [
    "array_3 = np.full(shape=(3,3),fill_value=9)\n",
    "array_3"
   ]
  },
  {
   "cell_type": "code",
   "execution_count": null,
   "metadata": {},
   "outputs": [],
   "source": []
  },
  {
   "cell_type": "markdown",
   "metadata": {},
   "source": [
    "### \"_like\" functions"
   ]
  },
  {
   "cell_type": "code",
   "execution_count": 10,
   "metadata": {},
   "outputs": [
    {
     "data": {
      "text/plain": [
       "array([[         0,          1,          0],\n",
       "       [       646,        844,          0],\n",
       "       [       768,        646, 1522680640]])"
      ]
     },
     "execution_count": 10,
     "metadata": {},
     "output_type": "execute_result"
    }
   ],
   "source": [
    "array_empty_like = np.empty_like(array_3)\n",
    "array_empty_like"
   ]
  },
  {
   "cell_type": "code",
   "execution_count": 11,
   "metadata": {},
   "outputs": [],
   "source": [
    "array_0_like = np.zeros_like(array_3)\n",
    "array_1_like = np.ones_like(array_3)"
   ]
  },
  {
   "cell_type": "code",
   "execution_count": 13,
   "metadata": {},
   "outputs": [
    {
     "data": {
      "text/plain": [
       "array([[1, 1, 1],\n",
       "       [1, 1, 1],\n",
       "       [1, 1, 1]])"
      ]
     },
     "execution_count": 13,
     "metadata": {},
     "output_type": "execute_result"
    }
   ],
   "source": [
    " array_1_like"
   ]
  },
  {
   "cell_type": "markdown",
   "metadata": {},
   "source": [
    "### np.arange()"
   ]
  },
  {
   "cell_type": "code",
   "execution_count": 16,
   "metadata": {},
   "outputs": [
    {
     "data": {
      "text/plain": [
       "[0, 1, 2, 3, 4]"
      ]
     },
     "execution_count": 16,
     "metadata": {},
     "output_type": "execute_result"
    }
   ],
   "source": [
    "list(range(5))"
   ]
  },
  {
   "cell_type": "code",
   "execution_count": 18,
   "metadata": {},
   "outputs": [
    {
     "data": {
      "text/plain": [
       "array([0, 1, 2, 3, 4])"
      ]
     },
     "execution_count": 18,
     "metadata": {},
     "output_type": "execute_result"
    }
   ],
   "source": [
    "array_arange1 = np.arange(5)\n",
    "array_arange1"
   ]
  },
  {
   "cell_type": "code",
   "execution_count": 20,
   "metadata": {},
   "outputs": [
    {
     "data": {
      "text/plain": [
       "array([1, 2, 3])"
      ]
     },
     "execution_count": 20,
     "metadata": {},
     "output_type": "execute_result"
    }
   ],
   "source": [
    "array_arange2 = np.arange(start=1,stop=4)\n",
    "array_arange2"
   ]
  },
  {
   "cell_type": "code",
   "execution_count": 21,
   "metadata": {},
   "outputs": [
    {
     "data": {
      "text/plain": [
       "array([1, 3])"
      ]
     },
     "execution_count": 21,
     "metadata": {},
     "output_type": "execute_result"
    }
   ],
   "source": [
    "array_arange3 = np.arange(start=1,stop=5,step=2)\n",
    "array_arange3"
   ]
  },
  {
   "cell_type": "code",
   "execution_count": 22,
   "metadata": {},
   "outputs": [
    {
     "data": {
      "text/plain": [
       "array([1. , 1.5, 2. , 2.5, 3. , 3.5, 4. , 4.5])"
      ]
     },
     "execution_count": 22,
     "metadata": {},
     "output_type": "execute_result"
    }
   ],
   "source": [
    "array_arange4 = np.arange(start=1,stop=5,step=0.5)\n",
    "array_arange4"
   ]
  },
  {
   "cell_type": "code",
   "execution_count": 27,
   "metadata": {
    "scrolled": true
   },
   "outputs": [
    {
     "data": {
      "text/plain": [
       "array([1, 1, 1, 1, 1, 1, 1, 1, 1, 1, 1, 1, 1, 1, 1, 1, 1, 1], dtype=int64)"
      ]
     },
     "execution_count": 27,
     "metadata": {},
     "output_type": "execute_result"
    }
   ],
   "source": [
    "array_arange5 = np.arange(start=1,stop=10,step=0.5,dtype=np.int64)\n",
    "array_arange5"
   ]
  },
  {
   "cell_type": "markdown",
   "metadata": {},
   "source": [
    "## Random Generators"
   ]
  },
  {
   "cell_type": "markdown",
   "metadata": {},
   "source": [
    "### Defining Random Generators"
   ]
  },
  {
   "cell_type": "code",
   "execution_count": 2,
   "metadata": {},
   "outputs": [],
   "source": [
    "from numpy.random import Generator as gen\n",
    "from numpy.random import PCG64 as pcg"
   ]
  },
  {
   "cell_type": "code",
   "execution_count": 29,
   "metadata": {},
   "outputs": [
    {
     "data": {
      "text/plain": [
       "-0.603335611968042"
      ]
     },
     "execution_count": 29,
     "metadata": {},
     "output_type": "execute_result"
    }
   ],
   "source": [
    "array_rg = gen(pcg())\n",
    "array_rg.normal()"
   ]
  },
  {
   "cell_type": "code",
   "execution_count": 30,
   "metadata": {},
   "outputs": [
    {
     "data": {
      "text/plain": [
       "array([-0.46710978, -0.27516158,  0.69839721,  0.31898861,  1.13321113])"
      ]
     },
     "execution_count": 30,
     "metadata": {},
     "output_type": "execute_result"
    }
   ],
   "source": [
    "array_rg.normal(size=5)"
   ]
  },
  {
   "cell_type": "code",
   "execution_count": 31,
   "metadata": {},
   "outputs": [
    {
     "data": {
      "text/plain": [
       "array([[ 1.32051185,  0.45402649],\n",
       "       [-1.56999938,  0.6772714 ]])"
      ]
     },
     "execution_count": 31,
     "metadata": {},
     "output_type": "execute_result"
    }
   ],
   "source": [
    "array_rg.normal(size=(2,2))"
   ]
  },
  {
   "cell_type": "code",
   "execution_count": 37,
   "metadata": {},
   "outputs": [
    {
     "data": {
      "text/plain": [
       "array([[-0.13640899,  0.09414431],\n",
       "       [-0.06300442,  1.05391641]])"
      ]
     },
     "execution_count": 37,
     "metadata": {},
     "output_type": "execute_result"
    }
   ],
   "source": [
    "#if you use seed value for pcg random generator, you see fix number, every time you run it\n",
    "array_rg1 = gen(pcg(seed=365))\n",
    "array_rg1.normal(size=(2,2))"
   ]
  },
  {
   "cell_type": "code",
   "execution_count": 42,
   "metadata": {},
   "outputs": [
    {
     "data": {
      "text/plain": [
       "array([[-1.30984316, -0.04703774],\n",
       "       [ 0.955272  ,  0.26071745]])"
      ]
     },
     "execution_count": 42,
     "metadata": {},
     "output_type": "execute_result"
    }
   ],
   "source": [
    "array_rg1.normal(size=(2,2))"
   ]
  },
  {
   "cell_type": "markdown",
   "metadata": {},
   "source": [
    "### Generating Integers, Probabilities and Random Choices"
   ]
  },
  {
   "cell_type": "code",
   "execution_count": 3,
   "metadata": {},
   "outputs": [
    {
     "data": {
      "text/plain": [
       "array([[0, 7, 6, 7, 8],\n",
       "       [6, 6, 2, 0, 6],\n",
       "       [3, 0, 3, 7, 9],\n",
       "       [1, 1, 8, 7, 4],\n",
       "       [4, 8, 6, 4, 9]], dtype=int64)"
      ]
     },
     "execution_count": 3,
     "metadata": {},
     "output_type": "execute_result"
    }
   ],
   "source": [
    "array_rg = gen(pcg(seed = 365))\n",
    "array_rg.integers(10,size=(5,5))"
   ]
  },
  {
   "cell_type": "code",
   "execution_count": 4,
   "metadata": {},
   "outputs": [
    {
     "data": {
      "text/plain": [
       "array([[25, 82, 75, 28, 49],\n",
       "       [32, 43, 52, 59, 77],\n",
       "       [58, 38, 70, 49, 63],\n",
       "       [24, 71, 36, 23, 63],\n",
       "       [77, 77, 87, 44, 33]], dtype=int64)"
      ]
     },
     "execution_count": 4,
     "metadata": {},
     "output_type": "execute_result"
    }
   ],
   "source": [
    "array_rg.integers(low =20,high=100,size=(5,5))"
   ]
  },
  {
   "cell_type": "code",
   "execution_count": 6,
   "metadata": {},
   "outputs": [
    {
     "data": {
      "text/plain": [
       "array([[0.90762694, 0.5903071 , 0.02853661, 0.84445833, 0.91917457],\n",
       "       [0.82386954, 0.7588933 , 0.06393185, 0.34507138, 0.12637865],\n",
       "       [0.33319814, 0.13927789, 0.21461953, 0.5337677 , 0.36904177],\n",
       "       [0.53629827, 0.81589813, 0.07632435, 0.9389407 , 0.48395624],\n",
       "       [0.9295958 , 0.23011817, 0.64945578, 0.02243555, 0.97401848]])"
      ]
     },
     "execution_count": 6,
     "metadata": {},
     "output_type": "execute_result"
    }
   ],
   "source": [
    "array_rg.random(size=(5,5))"
   ]
  },
  {
   "cell_type": "code",
   "execution_count": 8,
   "metadata": {},
   "outputs": [
    {
     "data": {
      "text/plain": [
       "array([[6, 3, 6, 6, 3],\n",
       "       [6, 6, 2, 6, 7],\n",
       "       [2, 2, 7, 3, 6],\n",
       "       [6, 2, 3, 3, 7],\n",
       "       [2, 3, 7, 3, 3]])"
      ]
     },
     "execution_count": 8,
     "metadata": {},
     "output_type": "execute_result"
    }
   ],
   "source": [
    "array_rg.choice([2,3,4,6,7],size=(5,5))"
   ]
  },
  {
   "cell_type": "code",
   "execution_count": 9,
   "metadata": {},
   "outputs": [
    {
     "data": {
      "text/plain": [
       "array([[2, 2, 7, 2, 4],\n",
       "       [6, 2, 2, 4, 4],\n",
       "       [2, 2, 2, 2, 7],\n",
       "       [7, 7, 3, 4, 4],\n",
       "       [2, 2, 7, 3, 4]])"
      ]
     },
     "execution_count": 9,
     "metadata": {},
     "output_type": "execute_result"
    }
   ],
   "source": [
    "array_rg.choice([2,3,4,6,7],p=[0.2,0.1,0.4,0.1,0.2],size=(5,5))"
   ]
  },
  {
   "cell_type": "markdown",
   "metadata": {},
   "source": [
    "### Generating Arrays From Known Distributions"
   ]
  },
  {
   "cell_type": "code",
   "execution_count": 10,
   "metadata": {
    "scrolled": true
   },
   "outputs": [
    {
     "data": {
      "text/plain": [
       "array([[2, 0, 1, 1, 2],\n",
       "       [1, 1, 0, 1, 1],\n",
       "       [1, 2, 1, 1, 0],\n",
       "       [0, 1, 0, 2, 1],\n",
       "       [0, 1, 0, 0, 2]], dtype=int64)"
      ]
     },
     "execution_count": 10,
     "metadata": {},
     "output_type": "execute_result"
    }
   ],
   "source": [
    "array_rg = gen(pcg(seed=365))\n",
    "array_rg.poisson(size=(5,5))"
   ]
  },
  {
   "cell_type": "code",
   "execution_count": 11,
   "metadata": {},
   "outputs": [
    {
     "data": {
      "text/plain": [
       "array([[11, 11, 13,  4,  6],\n",
       "       [ 6, 10, 10,  7,  8],\n",
       "       [10, 15, 15, 16, 12],\n",
       "       [ 8, 13,  3,  9, 12],\n",
       "       [10,  7,  8, 12,  7]], dtype=int64)"
      ]
     },
     "execution_count": 11,
     "metadata": {},
     "output_type": "execute_result"
    }
   ],
   "source": [
    "array_rg.poisson(lam=10,size=(5,5))"
   ]
  },
  {
   "cell_type": "code",
   "execution_count": 15,
   "metadata": {},
   "outputs": [
    {
     "data": {
      "text/plain": [
       "array([[42, 44, 30, 36, 45],\n",
       "       [36, 41, 38, 42, 41],\n",
       "       [35, 31, 35, 46, 29],\n",
       "       [41, 41, 46, 34, 48],\n",
       "       [45, 45, 45, 40, 43]], dtype=int64)"
      ]
     },
     "execution_count": 15,
     "metadata": {},
     "output_type": "execute_result"
    }
   ],
   "source": [
    "array_rg =gen(pcg(seed=365))\n",
    "array_rg.binomial(n=100,p=0.4,size=(5,5))"
   ]
  },
  {
   "cell_type": "code",
   "execution_count": 16,
   "metadata": {},
   "outputs": [
    {
     "data": {
      "text/plain": [
       "array([[10.37767822, 10.42451863,  9.63404367,  7.36153427,  9.82286787],\n",
       "       [ 5.81223125, 10.09354231,  6.46790532, 11.38740256,  8.97147918],\n",
       "       [10.85844698,  8.79081317,  5.962079  ,  9.99560681,  8.34539118],\n",
       "       [ 7.97105522,  8.9981544 ,  8.93530194,  9.6253307 ,  9.23850869],\n",
       "       [ 9.73729284,  5.3090678 , 10.13723528, 11.04372782,  7.11078651]])"
      ]
     },
     "execution_count": 16,
     "metadata": {},
     "output_type": "execute_result"
    }
   ],
   "source": [
    "array_rg = gen(pcg(seed = 365))\n",
    "array_rg.logistic(loc=9,scale=1.2,size=(5,5))"
   ]
  },
  {
   "cell_type": "markdown",
   "metadata": {},
   "source": [
    "https://numpy.org/doc/stable/reference/random/generator"
   ]
  },
  {
   "cell_type": "markdown",
   "metadata": {},
   "source": [
    "### Applications of Random Generators"
   ]
  },
  {
   "cell_type": "code",
   "execution_count": 18,
   "metadata": {},
   "outputs": [],
   "source": [
    "array_rg = gen(pcg(seed=365))\n",
    "array_column1 = array_rg.normal(loc = 3 , scale = 2 , size=(500))\n",
    "array_column2 = array_rg.normal(loc = 7, scale = 3, size=(500))\n",
    "array_column3 = array_rg.logistic(loc = 9, scale=1.2, size = (500))"
   ]
  },
  {
   "cell_type": "code",
   "execution_count": 19,
   "metadata": {},
   "outputs": [],
   "source": [
    "random_matrix = np.array([array_column1,array_column2,array_column3]).transpose()"
   ]
  },
  {
   "cell_type": "code",
   "execution_count": 20,
   "metadata": {},
   "outputs": [
    {
     "data": {
      "text/plain": [
       "array([[ 2.72718202,  8.2766977 ,  8.67931423],\n",
       "       [ 3.18828862, 10.63426055,  9.93205046],\n",
       "       [ 2.87399116,  2.1224141 ,  6.03877999],\n",
       "       ...,\n",
       "       [ 2.67325603,  5.1973629 ,  9.98776705],\n",
       "       [ 0.41719471,  2.78984278,  9.61742411],\n",
       "       [ 1.89841075,  7.91161235, 12.08262038]])"
      ]
     },
     "execution_count": 20,
     "metadata": {},
     "output_type": "execute_result"
    }
   ],
   "source": [
    "random_matrix"
   ]
  },
  {
   "cell_type": "code",
   "execution_count": 21,
   "metadata": {},
   "outputs": [
    {
     "data": {
      "text/plain": [
       "(500, 3)"
      ]
     },
     "execution_count": 21,
     "metadata": {},
     "output_type": "execute_result"
    }
   ],
   "source": [
    "random_matrix.shape"
   ]
  },
  {
   "cell_type": "code",
   "execution_count": 23,
   "metadata": {},
   "outputs": [],
   "source": [
    "np.savetxt('random_dataset.csv',random_matrix,fmt='%s',delimiter=',')"
   ]
  },
  {
   "cell_type": "code",
   "execution_count": 25,
   "metadata": {},
   "outputs": [
    {
     "data": {
      "text/plain": [
       "array([[ 2.72718202,  8.2766977 ,  8.67931423],\n",
       "       [ 3.18828862, 10.63426055,  9.93205046],\n",
       "       [ 2.87399116,  2.1224141 ,  6.03877999],\n",
       "       ...,\n",
       "       [ 2.67325603,  5.1973629 ,  9.98776705],\n",
       "       [ 0.41719471,  2.78984278,  9.61742411],\n",
       "       [ 1.89841075,  7.91161235, 12.08262038]])"
      ]
     },
     "execution_count": 25,
     "metadata": {},
     "output_type": "execute_result"
    }
   ],
   "source": [
    "np.genfromtxt('random_dataset.csv',delimiter=',')"
   ]
  }
 ],
 "metadata": {
  "kernelspec": {
   "display_name": "Python 3",
   "language": "python",
   "name": "python3"
  },
  "language_info": {
   "codemirror_mode": {
    "name": "ipython",
    "version": 3
   },
   "file_extension": ".py",
   "mimetype": "text/x-python",
   "name": "python",
   "nbconvert_exporter": "python",
   "pygments_lexer": "ipython3",
   "version": "3.8.8"
  }
 },
 "nbformat": 4,
 "nbformat_minor": 2
}
