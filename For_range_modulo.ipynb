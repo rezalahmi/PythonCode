{
 "cells": [
  {
   "cell_type": "code",
   "execution_count": 1,
   "id": "bff1c884",
   "metadata": {},
   "outputs": [
    {
     "name": "stdout",
     "output_type": "stream",
     "text": [
      "reza\n",
      "eli\n",
      "sadra\n",
      "taha\n",
      "raheleh\n"
     ]
    }
   ],
   "source": [
    "my_list = [\"reza\",\"eli\",\"sadra\",\"taha\",\"raheleh\"]\n",
    "for x in my_list:\n",
    "    print(x)"
   ]
  },
  {
   "cell_type": "code",
   "execution_count": 2,
   "id": "a709c5e2",
   "metadata": {},
   "outputs": [
    {
     "name": "stdout",
     "output_type": "stream",
     "text": [
      "r\n",
      "a\n",
      "h\n",
      "e\n",
      "l\n",
      "e\n",
      "h\n"
     ]
    }
   ],
   "source": [
    "#Looping Through a String\n",
    "for x in \"raheleh\":\n",
    "    print(x)"
   ]
  },
  {
   "cell_type": "code",
   "execution_count": 5,
   "id": "89c45e18",
   "metadata": {},
   "outputs": [
    {
     "data": {
      "text/plain": [
       "[0, 1, 2, 3, 4]"
      ]
     },
     "execution_count": 5,
     "metadata": {},
     "output_type": "execute_result"
    }
   ],
   "source": [
    "#The range() function returns a sequence of numbers, starting from 0 by default, \n",
    "#and increments by 1 (by default), \n",
    "#and ends at a specified number.\n",
    "list(range(5))"
   ]
  },
  {
   "cell_type": "code",
   "execution_count": 4,
   "id": "907ed65a",
   "metadata": {},
   "outputs": [
    {
     "data": {
      "text/plain": [
       "[0, 2, 4, 6, 8]"
      ]
     },
     "execution_count": 4,
     "metadata": {},
     "output_type": "execute_result"
    }
   ],
   "source": [
    "list(range(0,10,2))"
   ]
  },
  {
   "cell_type": "code",
   "execution_count": 6,
   "id": "8b8a4a3d",
   "metadata": {},
   "outputs": [
    {
     "name": "stdout",
     "output_type": "stream",
     "text": [
      "45\n"
     ]
    }
   ],
   "source": [
    "number = list(range(10))\n",
    "sum = 0;\n",
    "for x in number:\n",
    "    sum += x\n",
    "print(sum)"
   ]
  },
  {
   "cell_type": "code",
   "execution_count": 15,
   "id": "37150296",
   "metadata": {},
   "outputs": [
    {
     "name": "stdout",
     "output_type": "stream",
     "text": [
      "1\n"
     ]
    }
   ],
   "source": [
    "#the modulo operator is used to determine the remainder of the divide between two number\n",
    "print(7%2)"
   ]
  },
  {
   "cell_type": "code",
   "execution_count": 30,
   "id": "f466fd4c",
   "metadata": {},
   "outputs": [
    {
     "name": "stdout",
     "output_type": "stream",
     "text": [
      "please enter number :13\n",
      "13  is the prime number\n"
     ]
    }
   ],
   "source": [
    "x = int(input(\"please enter number :\"))\n",
    "check_number = list(range(2,int(x/2+1)))\n",
    "for i in check_number:\n",
    "    if(x % i == 0):\n",
    "        print(x,\" isn't the prime number\")\n",
    "        break\n",
    "else:\n",
    "    print(x,\" is the prime number\")\n",
    "    \n"
   ]
  },
  {
   "cell_type": "code",
   "execution_count": null,
   "id": "bed17a8c",
   "metadata": {},
   "outputs": [],
   "source": []
  },
  {
   "cell_type": "code",
   "execution_count": null,
   "id": "e20528ac",
   "metadata": {},
   "outputs": [],
   "source": []
  }
 ],
 "metadata": {
  "kernelspec": {
   "display_name": "Python 3",
   "language": "python",
   "name": "python3"
  },
  "language_info": {
   "codemirror_mode": {
    "name": "ipython",
    "version": 3
   },
   "file_extension": ".py",
   "mimetype": "text/x-python",
   "name": "python",
   "nbconvert_exporter": "python",
   "pygments_lexer": "ipython3",
   "version": "3.8.8"
  }
 },
 "nbformat": 4,
 "nbformat_minor": 5
}
