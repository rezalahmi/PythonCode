{
 "cells": [
  {
   "cell_type": "code",
   "execution_count": 2,
   "id": "e4e971cd",
   "metadata": {},
   "outputs": [],
   "source": [
    "# This is a sample Python script.\n",
    "\n",
    "# Press Shift+F10 to execute it or replace it with your code.\n",
    "# Press Double Shift to search everywhere for classes, files, tool windows, actions, and settings.\n",
    "from requests import Request, Session\n",
    "from requests.exceptions import ConnectionError, Timeout, TooManyRedirects\n",
    "import json\n",
    "import pandas as pd\n",
    "\n",
    "url = 'https://pro-api.coinmarketcap.com/v1/cryptocurrency/listings/latest'\n",
    "parameters = {\n",
    "    'start': '1',\n",
    "    'limit': '5000',\n",
    "    'convert': 'USD'\n",
    "}\n",
    "headers = {\n",
    "    'Accepts': 'application/json',\n",
    "    'X-CMC_PRO_API_KEY': '1caae7dd-57b6-40b4-89a6-05971ebdc0ee',\n",
    "}\n",
    "\n",
    "session = Session()\n",
    "session.headers.update(headers)\n",
    "\n",
    "try:\n",
    "    response = session.get(url, params=parameters)\n",
    "    data = json.loads(response.text)\n",
    "    # data is a dictionary\n",
    "    #data_df = pd.DataFrame.from_dict(data=data, orient='index')\n",
    "except (ConnectionError, Timeout, TooManyRedirects) as e:\n",
    "    print(e)\n"
   ]
  },
  {
   "cell_type": "code",
   "execution_count": 3,
   "id": "83d3b8a0",
   "metadata": {},
   "outputs": [
    {
     "data": {
      "text/plain": [
       "dict"
      ]
     },
     "execution_count": 3,
     "metadata": {},
     "output_type": "execute_result"
    }
   ],
   "source": [
    "type(data)"
   ]
  },
  {
   "cell_type": "code",
   "execution_count": 4,
   "id": "f25e8506",
   "metadata": {},
   "outputs": [
    {
     "data": {
      "text/plain": [
       "2"
      ]
     },
     "execution_count": 4,
     "metadata": {},
     "output_type": "execute_result"
    }
   ],
   "source": [
    "len(data)"
   ]
  },
  {
   "cell_type": "code",
   "execution_count": 7,
   "id": "2dcf7976",
   "metadata": {},
   "outputs": [
    {
     "data": {
      "text/plain": [
       "dict_keys(['status', 'data'])"
      ]
     },
     "execution_count": 7,
     "metadata": {},
     "output_type": "execute_result"
    }
   ],
   "source": [
    "data.keys()"
   ]
  },
  {
   "cell_type": "code",
   "execution_count": 8,
   "id": "2e590f74",
   "metadata": {},
   "outputs": [
    {
     "data": {
      "text/plain": [
       "{'timestamp': '2021-10-19T02:40:15.483Z',\n",
       " 'error_code': 0,\n",
       " 'error_message': None,\n",
       " 'elapsed': 430,\n",
       " 'credit_count': 25,\n",
       " 'notice': None,\n",
       " 'total_count': 6618}"
      ]
     },
     "execution_count": 8,
     "metadata": {},
     "output_type": "execute_result"
    }
   ],
   "source": [
    "data['status']"
   ]
  },
  {
   "cell_type": "code",
   "execution_count": 10,
   "id": "5abdc416",
   "metadata": {},
   "outputs": [
    {
     "data": {
      "text/plain": [
       "{'id': 1,\n",
       " 'name': 'Bitcoin',\n",
       " 'symbol': 'BTC',\n",
       " 'slug': 'bitcoin',\n",
       " 'num_market_pairs': 8356,\n",
       " 'date_added': '2013-04-28T00:00:00.000Z',\n",
       " 'tags': ['mineable',\n",
       "  'pow',\n",
       "  'sha-256',\n",
       "  'store-of-value',\n",
       "  'state-channels',\n",
       "  'coinbase-ventures-portfolio',\n",
       "  'three-arrows-capital-portfolio',\n",
       "  'polychain-capital-portfolio',\n",
       "  'binance-labs-portfolio',\n",
       "  'arrington-xrp-capital',\n",
       "  'blockchain-capital-portfolio',\n",
       "  'boostvc-portfolio',\n",
       "  'cms-holdings-portfolio',\n",
       "  'dcg-portfolio',\n",
       "  'dragonfly-capital-portfolio',\n",
       "  'electric-capital-portfolio',\n",
       "  'fabric-ventures-portfolio',\n",
       "  'framework-ventures',\n",
       "  'galaxy-digital-portfolio',\n",
       "  'huobi-capital',\n",
       "  'alameda-research-portfolio',\n",
       "  'a16z-portfolio',\n",
       "  '1confirmation-portfolio',\n",
       "  'winklevoss-capital',\n",
       "  'usv-portfolio',\n",
       "  'placeholder-ventures-portfolio',\n",
       "  'pantera-capital-portfolio',\n",
       "  'multicoin-capital-portfolio',\n",
       "  'paradigm-xzy-screener'],\n",
       " 'max_supply': 21000000,\n",
       " 'circulating_supply': 18847687,\n",
       " 'total_supply': 18847687,\n",
       " 'platform': None,\n",
       " 'cmc_rank': 1,\n",
       " 'last_updated': '2021-10-19T02:39:02.000Z',\n",
       " 'quote': {'USD': {'price': 61740.9223695613,\n",
       "   'volume_24h': 37862519836.93609,\n",
       "   'volume_change_24h': 24.7692,\n",
       "   'percent_change_1h': -0.34958088,\n",
       "   'percent_change_24h': -0.7216753,\n",
       "   'percent_change_7d': 8.27090386,\n",
       "   'percent_change_30d': 28.78251673,\n",
       "   'percent_change_60d': 30.86908813,\n",
       "   'percent_change_90d': 106.96107605,\n",
       "   'market_cap': 1163673579912.7896,\n",
       "   'market_cap_dominance': 46.9256,\n",
       "   'fully_diluted_market_cap': 1296559369760.79,\n",
       "   'last_updated': '2021-10-19T02:39:02.000Z'}}}"
      ]
     },
     "execution_count": 10,
     "metadata": {},
     "output_type": "execute_result"
    }
   ],
   "source": [
    "data['data'][0]"
   ]
  },
  {
   "cell_type": "code",
   "execution_count": 11,
   "id": "71f3d44c",
   "metadata": {},
   "outputs": [
    {
     "data": {
      "text/plain": [
       "dict"
      ]
     },
     "execution_count": 11,
     "metadata": {},
     "output_type": "execute_result"
    }
   ],
   "source": [
    "type(data['data'][0])"
   ]
  },
  {
   "cell_type": "code",
   "execution_count": 12,
   "id": "c17c2fb3",
   "metadata": {},
   "outputs": [],
   "source": [
    "Bitcoin = data['data'][0]"
   ]
  },
  {
   "cell_type": "code",
   "execution_count": 13,
   "id": "8e7696cb",
   "metadata": {},
   "outputs": [
    {
     "data": {
      "text/plain": [
       "dict_keys(['id', 'name', 'symbol', 'slug', 'num_market_pairs', 'date_added', 'tags', 'max_supply', 'circulating_supply', 'total_supply', 'platform', 'cmc_rank', 'last_updated', 'quote'])"
      ]
     },
     "execution_count": 13,
     "metadata": {},
     "output_type": "execute_result"
    }
   ],
   "source": [
    "Bitcoin.keys()"
   ]
  },
  {
   "cell_type": "code",
   "execution_count": 14,
   "id": "d74a920d",
   "metadata": {},
   "outputs": [
    {
     "data": {
      "text/plain": [
       "{'USD': {'price': 61740.9223695613,\n",
       "  'volume_24h': 37862519836.93609,\n",
       "  'volume_change_24h': 24.7692,\n",
       "  'percent_change_1h': -0.34958088,\n",
       "  'percent_change_24h': -0.7216753,\n",
       "  'percent_change_7d': 8.27090386,\n",
       "  'percent_change_30d': 28.78251673,\n",
       "  'percent_change_60d': 30.86908813,\n",
       "  'percent_change_90d': 106.96107605,\n",
       "  'market_cap': 1163673579912.7896,\n",
       "  'market_cap_dominance': 46.9256,\n",
       "  'fully_diluted_market_cap': 1296559369760.79,\n",
       "  'last_updated': '2021-10-19T02:39:02.000Z'}}"
      ]
     },
     "execution_count": 14,
     "metadata": {},
     "output_type": "execute_result"
    }
   ],
   "source": [
    "Bitcoin['quote']"
   ]
  },
  {
   "cell_type": "code",
   "execution_count": 15,
   "id": "729cec90",
   "metadata": {},
   "outputs": [
    {
     "data": {
      "text/plain": [
       "dict"
      ]
     },
     "execution_count": 15,
     "metadata": {},
     "output_type": "execute_result"
    }
   ],
   "source": [
    "type(Bitcoin['quote'])"
   ]
  },
  {
   "cell_type": "code",
   "execution_count": 16,
   "id": "736f3ce1",
   "metadata": {},
   "outputs": [
    {
     "data": {
      "text/plain": [
       "dict_keys(['USD'])"
      ]
     },
     "execution_count": 16,
     "metadata": {},
     "output_type": "execute_result"
    }
   ],
   "source": [
    "Bitcoin['quote'].keys()"
   ]
  },
  {
   "cell_type": "code",
   "execution_count": 17,
   "id": "86549148",
   "metadata": {},
   "outputs": [
    {
     "data": {
      "text/plain": [
       "{'price': 61740.9223695613,\n",
       " 'volume_24h': 37862519836.93609,\n",
       " 'volume_change_24h': 24.7692,\n",
       " 'percent_change_1h': -0.34958088,\n",
       " 'percent_change_24h': -0.7216753,\n",
       " 'percent_change_7d': 8.27090386,\n",
       " 'percent_change_30d': 28.78251673,\n",
       " 'percent_change_60d': 30.86908813,\n",
       " 'percent_change_90d': 106.96107605,\n",
       " 'market_cap': 1163673579912.7896,\n",
       " 'market_cap_dominance': 46.9256,\n",
       " 'fully_diluted_market_cap': 1296559369760.79,\n",
       " 'last_updated': '2021-10-19T02:39:02.000Z'}"
      ]
     },
     "execution_count": 17,
     "metadata": {},
     "output_type": "execute_result"
    }
   ],
   "source": [
    "Bitcoin['quote']['USD']"
   ]
  },
  {
   "cell_type": "code",
   "execution_count": 18,
   "id": "9c5738df",
   "metadata": {},
   "outputs": [
    {
     "data": {
      "text/plain": [
       "61740.9223695613"
      ]
     },
     "execution_count": 18,
     "metadata": {},
     "output_type": "execute_result"
    }
   ],
   "source": [
    "Bitcoin['quote']['USD']['price']"
   ]
  },
  {
   "cell_type": "code",
   "execution_count": 22,
   "id": "a2107789",
   "metadata": {},
   "outputs": [
    {
     "data": {
      "text/plain": [
       "61740.9223695613"
      ]
     },
     "execution_count": 22,
     "metadata": {},
     "output_type": "execute_result"
    }
   ],
   "source": [
    "data['data'][0]['quote']['USD']['price']"
   ]
  },
  {
   "cell_type": "code",
   "execution_count": 23,
   "id": "5a5ebbca",
   "metadata": {},
   "outputs": [
    {
     "data": {
      "text/plain": [
       "5000"
      ]
     },
     "execution_count": 23,
     "metadata": {},
     "output_type": "execute_result"
    }
   ],
   "source": [
    "len(data['data'])"
   ]
  },
  {
   "cell_type": "code",
   "execution_count": 29,
   "id": "f7e36190",
   "metadata": {},
   "outputs": [
    {
     "data": {
      "text/plain": [
       "list"
      ]
     },
     "execution_count": 29,
     "metadata": {},
     "output_type": "execute_result"
    }
   ],
   "source": [
    "type(data['data'])"
   ]
  },
  {
   "cell_type": "code",
   "execution_count": 33,
   "id": "f9e7b67f",
   "metadata": {},
   "outputs": [
    {
     "data": {
      "text/plain": [
       "{'id': 1027,\n",
       " 'name': 'Ethereum',\n",
       " 'symbol': 'ETH',\n",
       " 'slug': 'ethereum',\n",
       " 'num_market_pairs': 4933,\n",
       " 'date_added': '2015-08-07T00:00:00.000Z',\n",
       " 'tags': ['mineable',\n",
       "  'pow',\n",
       "  'smart-contracts',\n",
       "  'ethereum',\n",
       "  'binance-smart-chain',\n",
       "  'coinbase-ventures-portfolio',\n",
       "  'three-arrows-capital-portfolio',\n",
       "  'polychain-capital-portfolio',\n",
       "  'binance-labs-portfolio',\n",
       "  'arrington-xrp-capital',\n",
       "  'blockchain-capital-portfolio',\n",
       "  'boostvc-portfolio',\n",
       "  'cms-holdings-portfolio',\n",
       "  'dcg-portfolio',\n",
       "  'dragonfly-capital-portfolio',\n",
       "  'electric-capital-portfolio',\n",
       "  'fabric-ventures-portfolio',\n",
       "  'framework-ventures',\n",
       "  'hashkey-capital-portfolio',\n",
       "  'kinetic-capital',\n",
       "  'huobi-capital',\n",
       "  'alameda-research-portfolio',\n",
       "  'a16z-portfolio',\n",
       "  '1confirmation-portfolio',\n",
       "  'winklevoss-capital',\n",
       "  'usv-portfolio',\n",
       "  'placeholder-ventures-portfolio',\n",
       "  'pantera-capital-portfolio',\n",
       "  'multicoin-capital-portfolio',\n",
       "  'paradigm-xzy-screener'],\n",
       " 'max_supply': None,\n",
       " 'circulating_supply': 117984419.624,\n",
       " 'total_supply': 117984419.624,\n",
       " 'platform': None,\n",
       " 'cmc_rank': 2,\n",
       " 'last_updated': '2021-10-19T02:39:02.000Z',\n",
       " 'quote': {'USD': {'price': 3787.2266545548723,\n",
       "   'volume_24h': 17320961767.443657,\n",
       "   'volume_change_24h': 7.1981,\n",
       "   'percent_change_1h': -0.40087548,\n",
       "   'percent_change_24h': -1.99565229,\n",
       "   'percent_change_7d': 8.28018564,\n",
       "   'percent_change_30d': 10.84877003,\n",
       "   'percent_change_60d': 17.08826874,\n",
       "   'percent_change_90d': 111.73988575,\n",
       "   'market_cap': 446833738822.19977,\n",
       "   'market_cap_dominance': 18.0187,\n",
       "   'fully_diluted_market_cap': 446833738822.2,\n",
       "   'last_updated': '2021-10-19T02:39:02.000Z'}}}"
      ]
     },
     "execution_count": 33,
     "metadata": {},
     "output_type": "execute_result"
    }
   ],
   "source": [
    "data['data'][1]"
   ]
  },
  {
   "cell_type": "code",
   "execution_count": 38,
   "id": "abc849f4",
   "metadata": {},
   "outputs": [
    {
     "data": {
      "text/html": [
       "<div>\n",
       "<style scoped>\n",
       "    .dataframe tbody tr th:only-of-type {\n",
       "        vertical-align: middle;\n",
       "    }\n",
       "\n",
       "    .dataframe tbody tr th {\n",
       "        vertical-align: top;\n",
       "    }\n",
       "\n",
       "    .dataframe thead th {\n",
       "        text-align: right;\n",
       "    }\n",
       "</style>\n",
       "<table border=\"1\" class=\"dataframe\">\n",
       "  <thead>\n",
       "    <tr style=\"text-align: right;\">\n",
       "      <th></th>\n",
       "      <th>0</th>\n",
       "    </tr>\n",
       "  </thead>\n",
       "  <tbody>\n",
       "    <tr>\n",
       "      <th>price</th>\n",
       "      <td>61740.92237</td>\n",
       "    </tr>\n",
       "    <tr>\n",
       "      <th>volume_24h</th>\n",
       "      <td>37862519836.936089</td>\n",
       "    </tr>\n",
       "    <tr>\n",
       "      <th>volume_change_24h</th>\n",
       "      <td>24.7692</td>\n",
       "    </tr>\n",
       "    <tr>\n",
       "      <th>percent_change_1h</th>\n",
       "      <td>-0.349581</td>\n",
       "    </tr>\n",
       "    <tr>\n",
       "      <th>percent_change_24h</th>\n",
       "      <td>-0.721675</td>\n",
       "    </tr>\n",
       "    <tr>\n",
       "      <th>percent_change_7d</th>\n",
       "      <td>8.270904</td>\n",
       "    </tr>\n",
       "    <tr>\n",
       "      <th>percent_change_30d</th>\n",
       "      <td>28.782517</td>\n",
       "    </tr>\n",
       "    <tr>\n",
       "      <th>percent_change_60d</th>\n",
       "      <td>30.869088</td>\n",
       "    </tr>\n",
       "    <tr>\n",
       "      <th>percent_change_90d</th>\n",
       "      <td>106.961076</td>\n",
       "    </tr>\n",
       "    <tr>\n",
       "      <th>market_cap</th>\n",
       "      <td>1163673579912.789551</td>\n",
       "    </tr>\n",
       "    <tr>\n",
       "      <th>market_cap_dominance</th>\n",
       "      <td>46.9256</td>\n",
       "    </tr>\n",
       "    <tr>\n",
       "      <th>fully_diluted_market_cap</th>\n",
       "      <td>1296559369760.790039</td>\n",
       "    </tr>\n",
       "    <tr>\n",
       "      <th>last_updated</th>\n",
       "      <td>2021-10-19T02:39:02.000Z</td>\n",
       "    </tr>\n",
       "  </tbody>\n",
       "</table>\n",
       "</div>"
      ],
      "text/plain": [
       "                                                 0\n",
       "price                                  61740.92237\n",
       "volume_24h                      37862519836.936089\n",
       "volume_change_24h                          24.7692\n",
       "percent_change_1h                        -0.349581\n",
       "percent_change_24h                       -0.721675\n",
       "percent_change_7d                         8.270904\n",
       "percent_change_30d                       28.782517\n",
       "percent_change_60d                       30.869088\n",
       "percent_change_90d                      106.961076\n",
       "market_cap                    1163673579912.789551\n",
       "market_cap_dominance                       46.9256\n",
       "fully_diluted_market_cap      1296559369760.790039\n",
       "last_updated              2021-10-19T02:39:02.000Z"
      ]
     },
     "execution_count": 38,
     "metadata": {},
     "output_type": "execute_result"
    }
   ],
   "source": [
    "pd.DataFrame.from_dict(data['data'][0]['quote']['USD'],orient='index')"
   ]
  },
  {
   "cell_type": "code",
   "execution_count": 39,
   "id": "eed40c64",
   "metadata": {},
   "outputs": [],
   "source": [
    "with open('convert.txt', 'w') as convert_file:\n",
    "     convert_file.write(json.dumps(data))"
   ]
  },
  {
   "cell_type": "code",
   "execution_count": null,
   "id": "7566fcfe",
   "metadata": {},
   "outputs": [],
   "source": []
  }
 ],
 "metadata": {
  "kernelspec": {
   "display_name": "Python 3",
   "language": "python",
   "name": "python3"
  },
  "language_info": {
   "codemirror_mode": {
    "name": "ipython",
    "version": 3
   },
   "file_extension": ".py",
   "mimetype": "text/x-python",
   "name": "python",
   "nbconvert_exporter": "python",
   "pygments_lexer": "ipython3",
   "version": "3.8.8"
  }
 },
 "nbformat": 4,
 "nbformat_minor": 5
}
