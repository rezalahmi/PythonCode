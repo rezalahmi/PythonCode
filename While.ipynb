{
 "cells": [
  {
   "cell_type": "code",
   "execution_count": 1,
   "id": "02e1ceea",
   "metadata": {},
   "outputs": [
    {
     "name": "stdout",
     "output_type": "stream",
     "text": [
      "the value of i is : 0\n",
      "the value of i is : 1\n",
      "the value of i is : 2\n",
      "the value of i is : 3\n",
      "the value of i is : 4\n",
      "the value of i is : 5\n",
      "the value of i is : 6\n",
      "the value of i is : 7\n",
      "the value of i is : 8\n",
      "the value of i is : 9\n"
     ]
    }
   ],
   "source": [
    "#With the while loop we can execute a set of statements as long as a condition is true.\n",
    "i = 0\n",
    "while i < 10 :\n",
    "    print(\"the value of i is :\",i)\n",
    "    i = i + 1"
   ]
  },
  {
   "cell_type": "code",
   "execution_count": 2,
   "id": "8697ea9e",
   "metadata": {},
   "outputs": [
    {
     "name": "stdout",
     "output_type": "stream",
     "text": [
      "1\n",
      "2\n",
      "3\n",
      "4\n",
      "5\n"
     ]
    }
   ],
   "source": [
    "i = 1\n",
    "while i < 6:\n",
    "  print(i)\n",
    "  i += 1"
   ]
  },
  {
   "cell_type": "code",
   "execution_count": 15,
   "id": "315b2d58",
   "metadata": {},
   "outputs": [
    {
     "name": "stdout",
     "output_type": "stream",
     "text": [
      "please enter your name:reza\n",
      "please enter your grade:18\n",
      "do you want to continue?no\n",
      "average is : 19.333333333333332\n"
     ]
    }
   ],
   "source": [
    "#With the break statement we can stop the loop even if the while condition is true\n",
    "flag = True\n",
    "while flag:\n",
    "    name = input(\"please enter your name:\")\n",
    "    grade = int(input(\"please enter your grade:\"))\n",
    "    my_dic[name] = grade\n",
    "    yn = input(\"do you want to continue?\")\n",
    "    if yn == \"no\":break\n",
    "i = len(my_dic.keys()) -1\n",
    "sum = 0\n",
    "for x in my_dic:\n",
    "    sum += my_dic[x]\n",
    "print(\"average is :\",sum/len(my_dic.keys()))"
   ]
  },
  {
   "cell_type": "code",
   "execution_count": 17,
   "id": "948c4177",
   "metadata": {},
   "outputs": [
    {
     "name": "stdout",
     "output_type": "stream",
     "text": [
      "1\n",
      "2\n",
      "4\n",
      "5\n",
      "6\n"
     ]
    }
   ],
   "source": [
    "#With the continue statement we can stop the current iteration, and continue with the next\n",
    "i = 0\n",
    "while i < 6:\n",
    "  i += 1\n",
    "  if i == 3:\n",
    "    continue\n",
    "  print(i)"
   ]
  },
  {
   "cell_type": "code",
   "execution_count": 18,
   "id": "9c1e5e9a",
   "metadata": {},
   "outputs": [
    {
     "name": "stdout",
     "output_type": "stream",
     "text": [
      "please enter your name:reza\n",
      "please enter your grade:18\n",
      "do you want to continue?no\n",
      "average is : 19.333333333333332\n"
     ]
    }
   ],
   "source": [
    "while True:\n",
    "    name = input(\"please enter your name:\")\n",
    "    grade = int(input(\"please enter your grade:\"))\n",
    "    my_dic[name] = grade\n",
    "    yn = input(\"do you want to continue?\")\n",
    "    if yn == \"no\":break\n",
    "i = len(my_dic.keys()) -1\n",
    "sum = 0\n",
    "for x in my_dic:\n",
    "    sum += my_dic[x]\n",
    "print(\"average is :\",sum/len(my_dic.keys()))"
   ]
  },
  {
   "cell_type": "code",
   "execution_count": 24,
   "id": "4634e741",
   "metadata": {},
   "outputs": [
    {
     "name": "stdout",
     "output_type": "stream",
     "text": [
      "['reza', 'ali', 'raheleh']\n"
     ]
    }
   ],
   "source": [
    "my_list = [\"reza\",12,\"ali\",16,\"raheleh\",20]\n",
    "new_list = []\n",
    "i = -1\n",
    "while True:\n",
    "    i += 1\n",
    "    if i >= len(my_list):\n",
    "        break\n",
    "    if type(my_list[i]) == str:\n",
    "        new_list.append(my_list[i])\n",
    "        continue\n",
    "    elif not(type(my_list[i]) == \"str\"):\n",
    "        continue\n",
    "print(new_list)"
   ]
  },
  {
   "cell_type": "code",
   "execution_count": null,
   "id": "659e1bc0",
   "metadata": {},
   "outputs": [],
   "source": []
  }
 ],
 "metadata": {
  "kernelspec": {
   "display_name": "Python 3",
   "language": "python",
   "name": "python3"
  },
  "language_info": {
   "codemirror_mode": {
    "name": "ipython",
    "version": 3
   },
   "file_extension": ".py",
   "mimetype": "text/x-python",
   "name": "python",
   "nbconvert_exporter": "python",
   "pygments_lexer": "ipython3",
   "version": "3.8.8"
  }
 },
 "nbformat": 4,
 "nbformat_minor": 5
}
