{
 "cells": [
  {
   "cell_type": "code",
   "execution_count": 9,
   "id": "ce1f4778",
   "metadata": {},
   "outputs": [],
   "source": [
    "import pandas as pd\n",
    "import matplotlib.pyplot as plt"
   ]
  },
  {
   "cell_type": "code",
   "execution_count": 2,
   "id": "d2b6aaa6",
   "metadata": {},
   "outputs": [
    {
     "data": {
      "text/html": [
       "<div>\n",
       "<style scoped>\n",
       "    .dataframe tbody tr th:only-of-type {\n",
       "        vertical-align: middle;\n",
       "    }\n",
       "\n",
       "    .dataframe tbody tr th {\n",
       "        vertical-align: top;\n",
       "    }\n",
       "\n",
       "    .dataframe thead th {\n",
       "        text-align: right;\n",
       "    }\n",
       "</style>\n",
       "<table border=\"1\" class=\"dataframe\">\n",
       "  <thead>\n",
       "    <tr style=\"text-align: right;\">\n",
       "      <th></th>\n",
       "      <th>Food Order ID</th>\n",
       "      <th>Customer ID</th>\n",
       "      <th>Restaurant Name</th>\n",
       "      <th>Meal Ordered</th>\n",
       "      <th>Day</th>\n",
       "      <th>Quantity</th>\n",
       "      <th>Price Per Item</th>\n",
       "    </tr>\n",
       "  </thead>\n",
       "  <tbody>\n",
       "    <tr>\n",
       "      <th>0</th>\n",
       "      <td>1001</td>\n",
       "      <td>A</td>\n",
       "      <td>Oasis Seafood</td>\n",
       "      <td>Seafood Platter</td>\n",
       "      <td>Tuesday</td>\n",
       "      <td>2</td>\n",
       "      <td>19.99</td>\n",
       "    </tr>\n",
       "    <tr>\n",
       "      <th>1</th>\n",
       "      <td>1002</td>\n",
       "      <td>A</td>\n",
       "      <td>Oasis Seafood</td>\n",
       "      <td>Scallops</td>\n",
       "      <td>Friday</td>\n",
       "      <td>3</td>\n",
       "      <td>8.99</td>\n",
       "    </tr>\n",
       "    <tr>\n",
       "      <th>2</th>\n",
       "      <td>1003</td>\n",
       "      <td>A</td>\n",
       "      <td>Green Fuel</td>\n",
       "      <td>Falafel</td>\n",
       "      <td>Friday</td>\n",
       "      <td>3</td>\n",
       "      <td>4.99</td>\n",
       "    </tr>\n",
       "    <tr>\n",
       "      <th>3</th>\n",
       "      <td>1004</td>\n",
       "      <td>B</td>\n",
       "      <td>Green Fuel</td>\n",
       "      <td>Mixed Lentils</td>\n",
       "      <td>Friday</td>\n",
       "      <td>3</td>\n",
       "      <td>6.99</td>\n",
       "    </tr>\n",
       "    <tr>\n",
       "      <th>4</th>\n",
       "      <td>1005</td>\n",
       "      <td>B</td>\n",
       "      <td>Oasis Seafood</td>\n",
       "      <td>Seafood Platter</td>\n",
       "      <td>Tuesday</td>\n",
       "      <td>3</td>\n",
       "      <td>19.99</td>\n",
       "    </tr>\n",
       "  </tbody>\n",
       "</table>\n",
       "</div>"
      ],
      "text/plain": [
       "   Food Order ID Customer ID Restaurant Name     Meal Ordered      Day  \\\n",
       "0           1001           A   Oasis Seafood  Seafood Platter  Tuesday   \n",
       "1           1002           A   Oasis Seafood         Scallops   Friday   \n",
       "2           1003           A      Green Fuel          Falafel   Friday   \n",
       "3           1004           B      Green Fuel    Mixed Lentils   Friday   \n",
       "4           1005           B   Oasis Seafood  Seafood Platter  Tuesday   \n",
       "\n",
       "   Quantity  Price Per Item  \n",
       "0         2           19.99  \n",
       "1         3            8.99  \n",
       "2         3            4.99  \n",
       "3         3            6.99  \n",
       "4         3           19.99  "
      ]
     },
     "execution_count": 2,
     "metadata": {},
     "output_type": "execute_result"
    }
   ],
   "source": [
    "df_food = pd.read_csv(r'D:\\Udemy\\Udemy - The Python Bootcamp Data Science, Analytics & Visualisation\\8. Data Visualisation - Matplotlib\\2.1 Food Orders.csv')\n",
    "df_food.head(5)"
   ]
  },
  {
   "cell_type": "code",
   "execution_count": 5,
   "id": "706674fd",
   "metadata": {},
   "outputs": [
    {
     "data": {
      "text/plain": [
       "array(['Tuesday', 'Friday', 'Monday', 'Thursday', 'Saturday', 'Wednesday',\n",
       "       'Sunday'], dtype=object)"
      ]
     },
     "execution_count": 5,
     "metadata": {},
     "output_type": "execute_result"
    }
   ],
   "source": [
    "df_food['Day'].unique()"
   ]
  },
  {
   "cell_type": "code",
   "execution_count": 3,
   "id": "3d85e04e",
   "metadata": {},
   "outputs": [],
   "source": [
    "df_food['Day'].replace({'Monday':'01 - Monday','Tuesday':'02 - Tuesday','Wednesday':'03 - Wednesday'\\\n",
    "                       , 'Thursday':'04 - Thursday','Friday':'05 - Friday','Saturday':'06 - Saturday'\\\n",
    "                       , 'Sunday':'07 - Sunday'},inplace = True)"
   ]
  },
  {
   "cell_type": "code",
   "execution_count": 4,
   "id": "88021f94",
   "metadata": {},
   "outputs": [],
   "source": [
    "df_food['Total Amount'] = df_food['Quantity'] * df_food['Price Per Item']"
   ]
  },
  {
   "cell_type": "code",
   "execution_count": 10,
   "id": "f6cfe467",
   "metadata": {},
   "outputs": [
    {
     "data": {
      "text/plain": [
       "Food Order ID        int64\n",
       "Customer ID         object\n",
       "Restaurant Name     object\n",
       "Meal Ordered        object\n",
       "Day                 object\n",
       "Quantity             int64\n",
       "Price Per Item     float64\n",
       "Total Amount       float64\n",
       "dtype: object"
      ]
     },
     "execution_count": 10,
     "metadata": {},
     "output_type": "execute_result"
    }
   ],
   "source": [
    "df_food.dtypes"
   ]
  },
  {
   "cell_type": "code",
   "execution_count": 11,
   "id": "773b24d1",
   "metadata": {},
   "outputs": [
    {
     "data": {
      "text/html": [
       "<div>\n",
       "<style scoped>\n",
       "    .dataframe tbody tr th:only-of-type {\n",
       "        vertical-align: middle;\n",
       "    }\n",
       "\n",
       "    .dataframe tbody tr th {\n",
       "        vertical-align: top;\n",
       "    }\n",
       "\n",
       "    .dataframe thead th {\n",
       "        text-align: right;\n",
       "    }\n",
       "</style>\n",
       "<table border=\"1\" class=\"dataframe\">\n",
       "  <thead>\n",
       "    <tr style=\"text-align: right;\">\n",
       "      <th></th>\n",
       "      <th>Food Order ID</th>\n",
       "      <th>Quantity</th>\n",
       "      <th>Price Per Item</th>\n",
       "      <th>Total Amount</th>\n",
       "    </tr>\n",
       "  </thead>\n",
       "  <tbody>\n",
       "    <tr>\n",
       "      <th>Food Order ID</th>\n",
       "      <td>1.000000</td>\n",
       "      <td>-0.150115</td>\n",
       "      <td>0.025030</td>\n",
       "      <td>-0.084534</td>\n",
       "    </tr>\n",
       "    <tr>\n",
       "      <th>Quantity</th>\n",
       "      <td>-0.150115</td>\n",
       "      <td>1.000000</td>\n",
       "      <td>0.202761</td>\n",
       "      <td>0.667909</td>\n",
       "    </tr>\n",
       "    <tr>\n",
       "      <th>Price Per Item</th>\n",
       "      <td>0.025030</td>\n",
       "      <td>0.202761</td>\n",
       "      <td>1.000000</td>\n",
       "      <td>0.827865</td>\n",
       "    </tr>\n",
       "    <tr>\n",
       "      <th>Total Amount</th>\n",
       "      <td>-0.084534</td>\n",
       "      <td>0.667909</td>\n",
       "      <td>0.827865</td>\n",
       "      <td>1.000000</td>\n",
       "    </tr>\n",
       "  </tbody>\n",
       "</table>\n",
       "</div>"
      ],
      "text/plain": [
       "                Food Order ID  Quantity  Price Per Item  Total Amount\n",
       "Food Order ID        1.000000 -0.150115        0.025030     -0.084534\n",
       "Quantity            -0.150115  1.000000        0.202761      0.667909\n",
       "Price Per Item       0.025030  0.202761        1.000000      0.827865\n",
       "Total Amount        -0.084534  0.667909        0.827865      1.000000"
      ]
     },
     "execution_count": 11,
     "metadata": {},
     "output_type": "execute_result"
    }
   ],
   "source": [
    "df_food.corr()"
   ]
  },
  {
   "cell_type": "code",
   "execution_count": 6,
   "id": "abb61893",
   "metadata": {},
   "outputs": [
    {
     "data": {
      "text/html": [
       "<div>\n",
       "<style scoped>\n",
       "    .dataframe tbody tr th:only-of-type {\n",
       "        vertical-align: middle;\n",
       "    }\n",
       "\n",
       "    .dataframe tbody tr th {\n",
       "        vertical-align: top;\n",
       "    }\n",
       "\n",
       "    .dataframe thead th {\n",
       "        text-align: right;\n",
       "    }\n",
       "</style>\n",
       "<table border=\"1\" class=\"dataframe\">\n",
       "  <thead>\n",
       "    <tr style=\"text-align: right;\">\n",
       "      <th></th>\n",
       "      <th>Customer ID</th>\n",
       "      <th>Total Amount</th>\n",
       "    </tr>\n",
       "  </thead>\n",
       "  <tbody>\n",
       "    <tr>\n",
       "      <th>0</th>\n",
       "      <td>A</td>\n",
       "      <td>39.98</td>\n",
       "    </tr>\n",
       "    <tr>\n",
       "      <th>1</th>\n",
       "      <td>A</td>\n",
       "      <td>26.97</td>\n",
       "    </tr>\n",
       "    <tr>\n",
       "      <th>2</th>\n",
       "      <td>A</td>\n",
       "      <td>14.97</td>\n",
       "    </tr>\n",
       "    <tr>\n",
       "      <th>3</th>\n",
       "      <td>B</td>\n",
       "      <td>20.97</td>\n",
       "    </tr>\n",
       "    <tr>\n",
       "      <th>4</th>\n",
       "      <td>B</td>\n",
       "      <td>59.97</td>\n",
       "    </tr>\n",
       "  </tbody>\n",
       "</table>\n",
       "</div>"
      ],
      "text/plain": [
       "  Customer ID  Total Amount\n",
       "0           A         39.98\n",
       "1           A         26.97\n",
       "2           A         14.97\n",
       "3           B         20.97\n",
       "4           B         59.97"
      ]
     },
     "execution_count": 6,
     "metadata": {},
     "output_type": "execute_result"
    }
   ],
   "source": [
    "df_pre_agg_a = df_food[['Customer ID','Total Amount']]\n",
    "df_pre_agg_a.head()"
   ]
  },
  {
   "cell_type": "code",
   "execution_count": 15,
   "id": "a19d0716",
   "metadata": {},
   "outputs": [],
   "source": [
    "df_agg = df_pre_agg_a.groupby('Customer ID',as_index = False).sum()"
   ]
  },
  {
   "cell_type": "code",
   "execution_count": 16,
   "id": "8a7052c0",
   "metadata": {},
   "outputs": [
    {
     "name": "stdout",
     "output_type": "stream",
     "text": [
      "<class 'pandas.core.frame.DataFrame'>\n",
      "Int64Index: 13 entries, 0 to 12\n",
      "Data columns (total 2 columns):\n",
      " #   Column        Non-Null Count  Dtype  \n",
      "---  ------        --------------  -----  \n",
      " 0   Customer ID   13 non-null     object \n",
      " 1   Total Amount  13 non-null     float64\n",
      "dtypes: float64(1), object(1)\n",
      "memory usage: 312.0+ bytes\n"
     ]
    }
   ],
   "source": [
    "df_agg.info()"
   ]
  },
  {
   "cell_type": "code",
   "execution_count": 19,
   "id": "9b6d76ce",
   "metadata": {
    "scrolled": true
   },
   "outputs": [
    {
     "data": {
      "image/png": "[encoded data removed]",
      "text/plain": [
       "<Figure size 432x288 with 1 Axes>"
      ]
     },
     "metadata": {
      "needs_background": "light"
     },
     "output_type": "display_data"
    }
   ],
   "source": [
    "x = df_agg['Customer ID']\n",
    "y = df_agg['Total Amount']\n",
    "plt.bar(x,y,color='blue',edgecolor='black')\n",
    "plt.title('Total Customer Spent')\n",
    "plt.xlabel('Customer ID')\n",
    "plt.ylabel('Total Amount')\n",
    "plt.show()"
   ]
  },
  {
   "cell_type": "code",
   "execution_count": 20,
   "id": "9561104c",
   "metadata": {},
   "outputs": [],
   "source": [
    "df_pre_agg_b = df_food[['Day','Total Amount']]\n",
    "df_agg_b = df_pre_agg_b.groupby('Day',as_index=False).sum()"
   ]
  },
  {
   "cell_type": "code",
   "execution_count": 22,
   "id": "3123f5d8",
   "metadata": {},
   "outputs": [
    {
     "data": {
      "text/html": [
       "<div>\n",
       "<style scoped>\n",
       "    .dataframe tbody tr th:only-of-type {\n",
       "        vertical-align: middle;\n",
       "    }\n",
       "\n",
       "    .dataframe tbody tr th {\n",
       "        vertical-align: top;\n",
       "    }\n",
       "\n",
       "    .dataframe thead th {\n",
       "        text-align: right;\n",
       "    }\n",
       "</style>\n",
       "<table border=\"1\" class=\"dataframe\">\n",
       "  <thead>\n",
       "    <tr style=\"text-align: right;\">\n",
       "      <th></th>\n",
       "      <th>Day</th>\n",
       "      <th>Total Amount</th>\n",
       "    </tr>\n",
       "  </thead>\n",
       "  <tbody>\n",
       "    <tr>\n",
       "      <th>0</th>\n",
       "      <td>01 - Monday</td>\n",
       "      <td>225.74</td>\n",
       "    </tr>\n",
       "    <tr>\n",
       "      <th>1</th>\n",
       "      <td>02 - Tuesday</td>\n",
       "      <td>253.83</td>\n",
       "    </tr>\n",
       "    <tr>\n",
       "      <th>2</th>\n",
       "      <td>03 - Wednesday</td>\n",
       "      <td>144.86</td>\n",
       "    </tr>\n",
       "    <tr>\n",
       "      <th>3</th>\n",
       "      <td>04 - Thursday</td>\n",
       "      <td>61.94</td>\n",
       "    </tr>\n",
       "    <tr>\n",
       "      <th>4</th>\n",
       "      <td>05 - Friday</td>\n",
       "      <td>221.80</td>\n",
       "    </tr>\n",
       "    <tr>\n",
       "      <th>5</th>\n",
       "      <td>06 - Saturday</td>\n",
       "      <td>158.87</td>\n",
       "    </tr>\n",
       "    <tr>\n",
       "      <th>6</th>\n",
       "      <td>07 - Sunday</td>\n",
       "      <td>66.92</td>\n",
       "    </tr>\n",
       "  </tbody>\n",
       "</table>\n",
       "</div>"
      ],
      "text/plain": [
       "              Day  Total Amount\n",
       "0     01 - Monday        225.74\n",
       "1    02 - Tuesday        253.83\n",
       "2  03 - Wednesday        144.86\n",
       "3   04 - Thursday         61.94\n",
       "4     05 - Friday        221.80\n",
       "5   06 - Saturday        158.87\n",
       "6     07 - Sunday         66.92"
      ]
     },
     "execution_count": 22,
     "metadata": {},
     "output_type": "execute_result"
    }
   ],
   "source": [
    "df_agg_b"
   ]
  },
  {
   "cell_type": "code",
   "execution_count": 37,
   "id": "a0e07cf7",
   "metadata": {},
   "outputs": [
    {
     "data": {
      "image/png": "[encoded data removed]",
      "text/plain": [
       "<Figure size 432x288 with 1 Axes>"
      ]
     },
     "metadata": {
      "needs_background": "light"
     },
     "output_type": "display_data"
    }
   ],
   "source": [
    "#Plot y versus x as lines and/or markers.\n",
    "x = df_agg_b['Day']\n",
    "y = df_agg_b['Total Amount']\n",
    "#for beter understand plot, use point of the line\n",
    "#for squre s, for circle o and v....\n",
    "#https://matplotlib.org/stable/api/markers_api.html#module-matplotlib.markers\n",
    "plt.plot(x,y,marker='s')\n",
    "plt.xticks(rotation='vertical')\n",
    "plt.grid(alpha=0.5)\n",
    "plt.xlabel('Day')\n",
    "plt.ylabel('Total Amount')\n",
    "plt.title('Total Amount per Day')\n",
    "plt.show()"
   ]
  },
  {
   "cell_type": "code",
   "execution_count": 40,
   "id": "e6f94cd7",
   "metadata": {},
   "outputs": [
    {
     "data": {
      "text/html": [
       "<div>\n",
       "<style scoped>\n",
       "    .dataframe tbody tr th:only-of-type {\n",
       "        vertical-align: middle;\n",
       "    }\n",
       "\n",
       "    .dataframe tbody tr th {\n",
       "        vertical-align: top;\n",
       "    }\n",
       "\n",
       "    .dataframe thead th {\n",
       "        text-align: right;\n",
       "    }\n",
       "</style>\n",
       "<table border=\"1\" class=\"dataframe\">\n",
       "  <thead>\n",
       "    <tr style=\"text-align: right;\">\n",
       "      <th></th>\n",
       "      <th>Restaurant Name</th>\n",
       "      <th>Total Amount</th>\n",
       "    </tr>\n",
       "  </thead>\n",
       "  <tbody>\n",
       "    <tr>\n",
       "      <th>0</th>\n",
       "      <td>BBQ Pit Kings</td>\n",
       "      <td>322.73</td>\n",
       "    </tr>\n",
       "    <tr>\n",
       "      <th>1</th>\n",
       "      <td>Chicken Roller</td>\n",
       "      <td>226.75</td>\n",
       "    </tr>\n",
       "    <tr>\n",
       "      <th>2</th>\n",
       "      <td>Green Fuel</td>\n",
       "      <td>137.78</td>\n",
       "    </tr>\n",
       "    <tr>\n",
       "      <th>3</th>\n",
       "      <td>Oasis Seafood</td>\n",
       "      <td>446.70</td>\n",
       "    </tr>\n",
       "  </tbody>\n",
       "</table>\n",
       "</div>"
      ],
      "text/plain": [
       "  Restaurant Name  Total Amount\n",
       "0   BBQ Pit Kings        322.73\n",
       "1  Chicken Roller        226.75\n",
       "2      Green Fuel        137.78\n",
       "3   Oasis Seafood        446.70"
      ]
     },
     "execution_count": 40,
     "metadata": {},
     "output_type": "execute_result"
    }
   ],
   "source": [
    "df_pre_agg_c = df_food[['Restaurant Name','Total Amount']]\n",
    "df_agg_c = df_pre_agg_c.groupby('Restaurant Name',as_index = False).sum()\n",
    "df_agg_c"
   ]
  },
  {
   "cell_type": "code",
   "execution_count": 44,
   "id": "075e60d4",
   "metadata": {},
   "outputs": [
    {
     "data": {
      "image/png": "[encoded data removed]",
      "text/plain": [
       "<Figure size 432x288 with 1 Axes>"
      ]
     },
     "metadata": {},
     "output_type": "display_data"
    }
   ],
   "source": [
    "x = df_agg_c['Restaurant Name']\n",
    "y = df_agg_c['Total Amount']\n",
    "plt.pie(y,labels = x,autopct=\"%1.1f%%\")\n",
    "#autopct show number in the chart\n",
    "plt.axis('equal')\n",
    "plt.show()"
   ]
  },
  {
   "cell_type": "code",
   "execution_count": 50,
   "id": "98e351e4",
   "metadata": {},
   "outputs": [
    {
     "data": {
      "image/png": "[encoded data removed]",
      "text/plain": [
       "<Figure size 432x288 with 1 Axes>"
      ]
     },
     "metadata": {},
     "output_type": "display_data"
    }
   ],
   "source": [
    "x = df_agg_c['Restaurant Name']\n",
    "y = df_agg_c['Total Amount']\n",
    "plt.pie(y,labels = round(y,2),autopct=\"%1.1f%%\")\n",
    "#autopct show number in the chart\n",
    "plt.legend(x,loc='center right',bbox_to_anchor=(0.7,0.3,0.5,1))\n",
    "#add legend\n",
    "plt.title('Restaurant and totla amount')\n",
    "plt.axis('equal')\n",
    "plt.show()"
   ]
  },
  {
   "cell_type": "code",
   "execution_count": null,
   "id": "9d6c5f55",
   "metadata": {},
   "outputs": [],
   "source": []
  }
 ],
 "metadata": {
  "kernelspec": {
   "display_name": "Python 3",
   "language": "python",
   "name": "python3"
  },
  "language_info": {
   "codemirror_mode": {
    "name": "ipython",
    "version": 3
   },
   "file_extension": ".py",
   "mimetype": "text/x-python",
   "name": "python",
   "nbconvert_exporter": "python",
   "pygments_lexer": "ipython3",
   "version": "3.8.8"
  }
 },
 "nbformat": 4,
 "nbformat_minor": 5
}
