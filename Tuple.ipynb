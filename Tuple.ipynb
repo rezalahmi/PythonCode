{
 "cells": [
  {
   "cell_type": "code",
   "execution_count": 1,
   "id": "5f92e437",
   "metadata": {},
   "outputs": [],
   "source": [
    "#tuple\n",
    "tuple_a = (\"reza\",)"
   ]
  },
  {
   "cell_type": "code",
   "execution_count": 2,
   "id": "069c04b6",
   "metadata": {},
   "outputs": [
    {
     "data": {
      "text/plain": [
       "tuple"
      ]
     },
     "execution_count": 2,
     "metadata": {},
     "output_type": "execute_result"
    }
   ],
   "source": [
    "type(tuple_a)"
   ]
  },
  {
   "cell_type": "code",
   "execution_count": 3,
   "id": "10d77078",
   "metadata": {},
   "outputs": [
    {
     "data": {
      "text/plain": [
       "str"
      ]
     },
     "execution_count": 3,
     "metadata": {},
     "output_type": "execute_result"
    }
   ],
   "source": [
    "tuple_b = (\"reza\")\n",
    "type(tuple_b)\n",
    "#if you want to create tuple with one elemnt, you should use comma after element"
   ]
  },
  {
   "cell_type": "code",
   "execution_count": 4,
   "id": "2127100f",
   "metadata": {},
   "outputs": [],
   "source": [
    "tuple_a = (\"reza\",62,\"sadra\",86)"
   ]
  },
  {
   "cell_type": "code",
   "execution_count": 5,
   "id": "e79797a9",
   "metadata": {},
   "outputs": [
    {
     "data": {
      "text/plain": [
       "'sadra'"
      ]
     },
     "execution_count": 5,
     "metadata": {},
     "output_type": "execute_result"
    }
   ],
   "source": [
    "tuple_a[2]"
   ]
  },
  {
   "cell_type": "code",
   "execution_count": 6,
   "id": "03d88bde",
   "metadata": {},
   "outputs": [
    {
     "ename": "AttributeError",
     "evalue": "'tuple' object has no attribute 'append'",
     "output_type": "error",
     "traceback": [
      "\u001b[1;31m---------------------------------------------------------------------------\u001b[0m",
      "\u001b[1;31mAttributeError\u001b[0m                            Traceback (most recent call last)",
      "\u001b[1;32m<ipython-input-6-81dbddc4a488>\u001b[0m in \u001b[0;36m<module>\u001b[1;34m\u001b[0m\n\u001b[1;32m----> 1\u001b[1;33m \u001b[0mtuple_a\u001b[0m\u001b[1;33m.\u001b[0m\u001b[0mappend\u001b[0m\u001b[1;33m(\u001b[0m\u001b[1;34m\"taha\"\u001b[0m\u001b[1;33m)\u001b[0m\u001b[1;33m\u001b[0m\u001b[1;33m\u001b[0m\u001b[0m\n\u001b[0m",
      "\u001b[1;31mAttributeError\u001b[0m: 'tuple' object has no attribute 'append'"
     ]
    }
   ],
   "source": [
    "tuple_a.append(\"taha\")\n",
    "#tuple object has no method for add item, because tuple orderd and unchangable"
   ]
  },
  {
   "cell_type": "code",
   "execution_count": 7,
   "id": "50ab15fe",
   "metadata": {},
   "outputs": [
    {
     "name": "stdout",
     "output_type": "stream",
     "text": [
      "('reza', 62, 'sadra', 86)\n"
     ]
    },
    {
     "data": {
      "text/plain": [
       "('reza', 62, 'sadra', 86, 'raheleh', 62)"
      ]
     },
     "execution_count": 7,
     "metadata": {},
     "output_type": "execute_result"
    }
   ],
   "source": [
    "#if you want to add item to tuple, do like this\n",
    "print(tuple_a)\n",
    "list_a = list(tuple_a)\n",
    "list_a.append(\"raheleh\")\n",
    "list_a.append(62)\n",
    "tuple_a = tuple(list_a)\n",
    "tuple_a"
   ]
  },
  {
   "cell_type": "code",
   "execution_count": 8,
   "id": "e7161f9d",
   "metadata": {},
   "outputs": [
    {
     "data": {
      "text/plain": [
       "('reza', 62, 'sadra', 86, 'raheleh', 62, 'eli', 59)"
      ]
     },
     "execution_count": 8,
     "metadata": {},
     "output_type": "execute_result"
    }
   ],
   "source": [
    "tuple_b = (\"eli\",59)\n",
    "#you can combine two tuple with each other\n",
    "tuple_c = tuple_a + tuple_b\n",
    "tuple_c"
   ]
  },
  {
   "cell_type": "code",
   "execution_count": 9,
   "id": "44b933f5",
   "metadata": {},
   "outputs": [
    {
     "data": {
      "text/plain": [
       "('sadra', 86, 'raheleh')"
      ]
     },
     "execution_count": 9,
     "metadata": {},
     "output_type": "execute_result"
    }
   ],
   "source": [
    "tuple_c[2:5]"
   ]
  },
  {
   "cell_type": "code",
   "execution_count": 10,
   "id": "c57c7857",
   "metadata": {},
   "outputs": [
    {
     "data": {
      "text/plain": [
       "('reza', 'sadra', 'raheleh', 'eli')"
      ]
     },
     "execution_count": 10,
     "metadata": {},
     "output_type": "execute_result"
    }
   ],
   "source": [
    "tuple_c[::2]"
   ]
  },
  {
   "cell_type": "code",
   "execution_count": 11,
   "id": "91246431",
   "metadata": {},
   "outputs": [
    {
     "data": {
      "text/plain": [
       "8"
      ]
     },
     "execution_count": 11,
     "metadata": {},
     "output_type": "execute_result"
    }
   ],
   "source": [
    "len(tuple_c)"
   ]
  },
  {
   "cell_type": "code",
   "execution_count": 14,
   "id": "a2969753",
   "metadata": {},
   "outputs": [
    {
     "name": "stdout",
     "output_type": "stream",
     "text": [
      "59\n",
      "eli\n"
     ]
    }
   ],
   "source": [
    "print(tuple_c[-1])\n",
    "#Negative indexing means start from the end.\n",
    "print(tuple_c[-2])"
   ]
  },
  {
   "cell_type": "code",
   "execution_count": 17,
   "id": "faf44108",
   "metadata": {},
   "outputs": [],
   "source": [
    "if \"ali\" in tuple_c:\n",
    "    print(\"yes\")"
   ]
  },
  {
   "cell_type": "code",
   "execution_count": 18,
   "id": "bafd4f7c",
   "metadata": {},
   "outputs": [
    {
     "name": "stdout",
     "output_type": "stream",
     "text": [
      "yes\n"
     ]
    }
   ],
   "source": [
    "if \"reza\" in tuple_c:\n",
    "    print(\"yes\")"
   ]
  },
  {
   "cell_type": "code",
   "execution_count": 19,
   "id": "d87ec868",
   "metadata": {},
   "outputs": [],
   "source": [
    "#The del keyword can delete the tuple completely\n",
    "del tuple_a"
   ]
  },
  {
   "cell_type": "code",
   "execution_count": 20,
   "id": "fcd73df7",
   "metadata": {},
   "outputs": [
    {
     "ename": "NameError",
     "evalue": "name 'tuple_a' is not defined",
     "output_type": "error",
     "traceback": [
      "\u001b[1;31m---------------------------------------------------------------------------\u001b[0m",
      "\u001b[1;31mNameError\u001b[0m                                 Traceback (most recent call last)",
      "\u001b[1;32m<ipython-input-20-9e2638c655a7>\u001b[0m in \u001b[0;36m<module>\u001b[1;34m\u001b[0m\n\u001b[1;32m----> 1\u001b[1;33m \u001b[0mprint\u001b[0m\u001b[1;33m(\u001b[0m\u001b[0mtuple_a\u001b[0m\u001b[1;33m)\u001b[0m\u001b[1;33m\u001b[0m\u001b[1;33m\u001b[0m\u001b[0m\n\u001b[0m",
      "\u001b[1;31mNameError\u001b[0m: name 'tuple_a' is not defined"
     ]
    }
   ],
   "source": [
    "print(tuple_a)"
   ]
  },
  {
   "cell_type": "code",
   "execution_count": 21,
   "id": "d1907452",
   "metadata": {},
   "outputs": [
    {
     "name": "stdout",
     "output_type": "stream",
     "text": [
      "eli\n",
      "59\n"
     ]
    }
   ],
   "source": [
    "#unpacking\n",
    "#When we create a tuple, we normally assign values to it. This is called \"packing\" a tuple\n",
    "#But, in Python, we are also allowed to extract the values back into variables.\n",
    "#This is called \"unpacking\"\n",
    "(red,blue) = tuple_b\n",
    "print(red)\n",
    "print(blue)"
   ]
  },
  {
   "cell_type": "code",
   "execution_count": 22,
   "id": "b58c7078",
   "metadata": {},
   "outputs": [
    {
     "name": "stdout",
     "output_type": "stream",
     "text": [
      "('eli', 59, 'eli', 59)\n"
     ]
    }
   ],
   "source": [
    "#If you want to multiply the content of a tuple a given number of times, you can use the * operator\n",
    "tuple_b2 = tuple_b * 2\n",
    "print(tuple_b2)"
   ]
  },
  {
   "cell_type": "code",
   "execution_count": 24,
   "id": "fdf8aa00",
   "metadata": {},
   "outputs": [
    {
     "data": {
      "text/plain": [
       "2"
      ]
     },
     "execution_count": 24,
     "metadata": {},
     "output_type": "execute_result"
    }
   ],
   "source": [
    "#The count() method returns the number of times a specified value appears in the tuple.\n",
    "tuple_b2.count(\"eli\")"
   ]
  },
  {
   "cell_type": "code",
   "execution_count": 26,
   "id": "20b5b61d",
   "metadata": {},
   "outputs": [
    {
     "name": "stdout",
     "output_type": "stream",
     "text": [
      "7\n"
     ]
    }
   ],
   "source": [
    "#The index() method finds the first occurrence of the specified value\n",
    "print(tuple_c.index(59))\n",
    "#if item not found in the tuple, exception occure"
   ]
  },
  {
   "cell_type": "code",
   "execution_count": null,
   "id": "6b02051e",
   "metadata": {},
   "outputs": [],
   "source": []
  }
 ],
 "metadata": {
  "kernelspec": {
   "display_name": "Python 3",
   "language": "python",
   "name": "python3"
  },
  "language_info": {
   "codemirror_mode": {
    "name": "ipython",
    "version": 3
   },
   "file_extension": ".py",
   "mimetype": "text/x-python",
   "name": "python",
   "nbconvert_exporter": "python",
   "pygments_lexer": "ipython3",
   "version": "3.8.8"
  }
 },
 "nbformat": 4,
 "nbformat_minor": 5
}
