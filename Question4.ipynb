{
 "cells": [
  {
   "cell_type": "code",
   "execution_count": 1,
   "id": "6bc14fd2",
   "metadata": {},
   "outputs": [],
   "source": [
    "import pandas as pd"
   ]
  },
  {
   "cell_type": "code",
   "execution_count": 2,
   "id": "fd597fff",
   "metadata": {},
   "outputs": [
    {
     "name": "stderr",
     "output_type": "stream",
     "text": [
      "C:\\ProgramData\\Anaconda3\\lib\\site-packages\\IPython\\core\\interactiveshell.py:3165: DtypeWarning: Columns (10) have mixed types.Specify dtype option on import or set low_memory=False.\n",
      "  has_raised = await self.run_ast_nodes(code_ast.body, cell_name,\n"
     ]
    }
   ],
   "source": [
    "data_full = pd.read_csv(r'movies_metadata.csv')"
   ]
  },
  {
   "cell_type": "code",
   "execution_count": 3,
   "id": "defbbffb",
   "metadata": {},
   "outputs": [
    {
     "name": "stdout",
     "output_type": "stream",
     "text": [
      "<class 'pandas.core.frame.DataFrame'>\n",
      "RangeIndex: 45466 entries, 0 to 45465\n",
      "Data columns (total 24 columns):\n",
      " #   Column                 Non-Null Count  Dtype  \n",
      "---  ------                 --------------  -----  \n",
      " 0   adult                  45466 non-null  object \n",
      " 1   belongs_to_collection  4494 non-null   object \n",
      " 2   budget                 45466 non-null  object \n",
      " 3   genres                 45466 non-null  object \n",
      " 4   homepage               7782 non-null   object \n",
      " 5   id                     45466 non-null  object \n",
      " 6   imdb_id                45449 non-null  object \n",
      " 7   original_language      45455 non-null  object \n",
      " 8   original_title         45466 non-null  object \n",
      " 9   overview               44512 non-null  object \n",
      " 10  popularity             45461 non-null  object \n",
      " 11  poster_path            45080 non-null  object \n",
      " 12  production_companies   45463 non-null  object \n",
      " 13  production_countries   45463 non-null  object \n",
      " 14  release_date           45379 non-null  object \n",
      " 15  revenue                45460 non-null  float64\n",
      " 16  runtime                45203 non-null  float64\n",
      " 17  spoken_languages       45460 non-null  object \n",
      " 18  status                 45379 non-null  object \n",
      " 19  tagline                20412 non-null  object \n",
      " 20  title                  45460 non-null  object \n",
      " 21  video                  45460 non-null  object \n",
      " 22  vote_average           45460 non-null  float64\n",
      " 23  vote_count             45460 non-null  float64\n",
      "dtypes: float64(4), object(20)\n",
      "memory usage: 8.3+ MB\n"
     ]
    }
   ],
   "source": [
    "data_full.info()"
   ]
  },
  {
   "cell_type": "code",
   "execution_count": 4,
   "id": "efb7edd4",
   "metadata": {},
   "outputs": [],
   "source": [
    "df_ratings = pd.read_csv(r'ratings_small.csv')"
   ]
  },
  {
   "cell_type": "code",
   "execution_count": 5,
   "id": "30e11a4a",
   "metadata": {},
   "outputs": [
    {
     "name": "stdout",
     "output_type": "stream",
     "text": [
      "<class 'pandas.core.frame.DataFrame'>\n",
      "RangeIndex: 100004 entries, 0 to 100003\n",
      "Data columns (total 4 columns):\n",
      " #   Column     Non-Null Count   Dtype  \n",
      "---  ------     --------------   -----  \n",
      " 0   userId     100004 non-null  int64  \n",
      " 1   movieId    100004 non-null  int64  \n",
      " 2   rating     100004 non-null  float64\n",
      " 3   timestamp  100004 non-null  int64  \n",
      "dtypes: float64(1), int64(3)\n",
      "memory usage: 3.1 MB\n"
     ]
    }
   ],
   "source": [
    "df_ratings.info()"
   ]
  },
  {
   "cell_type": "code",
   "execution_count": 6,
   "id": "bc5a9f5d",
   "metadata": {},
   "outputs": [],
   "source": [
    "import numpy as np\n",
    "def convert_int(x):\n",
    "    try:\n",
    "        return int(x)\n",
    "    except:\n",
    "        return np.nan"
   ]
  },
  {
   "cell_type": "code",
   "execution_count": 7,
   "id": "04e9acbf",
   "metadata": {},
   "outputs": [],
   "source": [
    "data_full['id'] = data_full['id'].apply(convert_int)"
   ]
  },
  {
   "cell_type": "code",
   "execution_count": 8,
   "id": "bc8fcc69",
   "metadata": {},
   "outputs": [],
   "source": [
    "data_full = data_full.drop([19730, 29503, 35587])\n",
    "data_full['id'] = data_full['id'].astype('int')"
   ]
  },
  {
   "cell_type": "code",
   "execution_count": 9,
   "id": "1c31e676",
   "metadata": {},
   "outputs": [],
   "source": [
    "df_movie_rate = data_full.merge(df_ratings,left_on='id',right_on='movieId')"
   ]
  },
  {
   "cell_type": "code",
   "execution_count": 15,
   "id": "57722751",
   "metadata": {},
   "outputs": [
    {
     "data": {
      "text/html": [
       "<div>\n",
       "<style scoped>\n",
       "    .dataframe tbody tr th:only-of-type {\n",
       "        vertical-align: middle;\n",
       "    }\n",
       "\n",
       "    .dataframe tbody tr th {\n",
       "        vertical-align: top;\n",
       "    }\n",
       "\n",
       "    .dataframe thead th {\n",
       "        text-align: right;\n",
       "    }\n",
       "</style>\n",
       "<table border=\"1\" class=\"dataframe\">\n",
       "  <thead>\n",
       "    <tr style=\"text-align: right;\">\n",
       "      <th></th>\n",
       "      <th>adult</th>\n",
       "      <th>belongs_to_collection</th>\n",
       "      <th>budget</th>\n",
       "      <th>genres</th>\n",
       "      <th>homepage</th>\n",
       "      <th>id</th>\n",
       "      <th>imdb_id</th>\n",
       "      <th>original_language</th>\n",
       "      <th>original_title</th>\n",
       "      <th>overview</th>\n",
       "      <th>...</th>\n",
       "      <th>status</th>\n",
       "      <th>tagline</th>\n",
       "      <th>title</th>\n",
       "      <th>video</th>\n",
       "      <th>vote_average</th>\n",
       "      <th>vote_count</th>\n",
       "      <th>userId</th>\n",
       "      <th>movieId</th>\n",
       "      <th>rating</th>\n",
       "      <th>timestamp</th>\n",
       "    </tr>\n",
       "  </thead>\n",
       "  <tbody>\n",
       "    <tr>\n",
       "      <th>44989</th>\n",
       "      <td>False</td>\n",
       "      <td>NaN</td>\n",
       "      <td>0</td>\n",
       "      <td>[{'id': 10749, 'name': 'Romance'}, {'id': 18, ...</td>\n",
       "      <td>NaN</td>\n",
       "      <td>64197</td>\n",
       "      <td>tt1047845</td>\n",
       "      <td>ru</td>\n",
       "      <td>Puteshestvie s domashnimi zhivotnymi</td>\n",
       "      <td>Plucked from an orphanage as a literal love sl...</td>\n",
       "      <td>...</td>\n",
       "      <td>Released</td>\n",
       "      <td>NaN</td>\n",
       "      <td>Travelling with Pets</td>\n",
       "      <td>False</td>\n",
       "      <td>6.0</td>\n",
       "      <td>5.0</td>\n",
       "      <td>73</td>\n",
       "      <td>64197</td>\n",
       "      <td>4.0</td>\n",
       "      <td>1441513491</td>\n",
       "    </tr>\n",
       "    <tr>\n",
       "      <th>44990</th>\n",
       "      <td>False</td>\n",
       "      <td>NaN</td>\n",
       "      <td>0</td>\n",
       "      <td>[{'id': 10749, 'name': 'Romance'}, {'id': 18, ...</td>\n",
       "      <td>NaN</td>\n",
       "      <td>64197</td>\n",
       "      <td>tt1047845</td>\n",
       "      <td>ru</td>\n",
       "      <td>Puteshestvie s domashnimi zhivotnymi</td>\n",
       "      <td>Plucked from an orphanage as a literal love sl...</td>\n",
       "      <td>...</td>\n",
       "      <td>Released</td>\n",
       "      <td>NaN</td>\n",
       "      <td>Travelling with Pets</td>\n",
       "      <td>False</td>\n",
       "      <td>6.0</td>\n",
       "      <td>5.0</td>\n",
       "      <td>544</td>\n",
       "      <td>64197</td>\n",
       "      <td>5.0</td>\n",
       "      <td>1435789819</td>\n",
       "    </tr>\n",
       "    <tr>\n",
       "      <th>44991</th>\n",
       "      <td>False</td>\n",
       "      <td>NaN</td>\n",
       "      <td>0</td>\n",
       "      <td>[{'id': 10749, 'name': 'Romance'}, {'id': 18, ...</td>\n",
       "      <td>NaN</td>\n",
       "      <td>64197</td>\n",
       "      <td>tt1047845</td>\n",
       "      <td>ru</td>\n",
       "      <td>Puteshestvie s domashnimi zhivotnymi</td>\n",
       "      <td>Plucked from an orphanage as a literal love sl...</td>\n",
       "      <td>...</td>\n",
       "      <td>Released</td>\n",
       "      <td>NaN</td>\n",
       "      <td>Travelling with Pets</td>\n",
       "      <td>False</td>\n",
       "      <td>6.0</td>\n",
       "      <td>5.0</td>\n",
       "      <td>648</td>\n",
       "      <td>64197</td>\n",
       "      <td>3.5</td>\n",
       "      <td>1241951834</td>\n",
       "    </tr>\n",
       "    <tr>\n",
       "      <th>44992</th>\n",
       "      <td>False</td>\n",
       "      <td>NaN</td>\n",
       "      <td>0</td>\n",
       "      <td>[{'id': 35, 'name': 'Comedy'}, {'id': 10749, '...</td>\n",
       "      <td>NaN</td>\n",
       "      <td>98604</td>\n",
       "      <td>tt2147597</td>\n",
       "      <td>ru</td>\n",
       "      <td>Zolushka</td>\n",
       "      <td>Masha Krapivina - is yet beautiful, and not th...</td>\n",
       "      <td>...</td>\n",
       "      <td>Released</td>\n",
       "      <td>NaN</td>\n",
       "      <td>Cinderella</td>\n",
       "      <td>False</td>\n",
       "      <td>4.6</td>\n",
       "      <td>6.0</td>\n",
       "      <td>352</td>\n",
       "      <td>98604</td>\n",
       "      <td>4.0</td>\n",
       "      <td>1420521986</td>\n",
       "    </tr>\n",
       "    <tr>\n",
       "      <th>44993</th>\n",
       "      <td>False</td>\n",
       "      <td>NaN</td>\n",
       "      <td>0</td>\n",
       "      <td>[{'id': 14, 'name': 'Fantasy'}, {'id': 28, 'na...</td>\n",
       "      <td>NaN</td>\n",
       "      <td>49280</td>\n",
       "      <td>tt0135453</td>\n",
       "      <td>fr</td>\n",
       "      <td>L'Homme orchestre</td>\n",
       "      <td>A band-leader has arranged seven chairs for th...</td>\n",
       "      <td>...</td>\n",
       "      <td>Released</td>\n",
       "      <td>NaN</td>\n",
       "      <td>The One-Man Band</td>\n",
       "      <td>False</td>\n",
       "      <td>6.5</td>\n",
       "      <td>22.0</td>\n",
       "      <td>187</td>\n",
       "      <td>49280</td>\n",
       "      <td>5.0</td>\n",
       "      <td>1228072108</td>\n",
       "    </tr>\n",
       "  </tbody>\n",
       "</table>\n",
       "<p>5 rows × 28 columns</p>\n",
       "</div>"
      ],
      "text/plain": [
       "       adult belongs_to_collection budget  \\\n",
       "44989  False                   NaN      0   \n",
       "44990  False                   NaN      0   \n",
       "44991  False                   NaN      0   \n",
       "44992  False                   NaN      0   \n",
       "44993  False                   NaN      0   \n",
       "\n",
       "                                                  genres homepage     id  \\\n",
       "44989  [{'id': 10749, 'name': 'Romance'}, {'id': 18, ...      NaN  64197   \n",
       "44990  [{'id': 10749, 'name': 'Romance'}, {'id': 18, ...      NaN  64197   \n",
       "44991  [{'id': 10749, 'name': 'Romance'}, {'id': 18, ...      NaN  64197   \n",
       "44992  [{'id': 35, 'name': 'Comedy'}, {'id': 10749, '...      NaN  98604   \n",
       "44993  [{'id': 14, 'name': 'Fantasy'}, {'id': 28, 'na...      NaN  49280   \n",
       "\n",
       "         imdb_id original_language                        original_title  \\\n",
       "44989  tt1047845                ru  Puteshestvie s domashnimi zhivotnymi   \n",
       "44990  tt1047845                ru  Puteshestvie s domashnimi zhivotnymi   \n",
       "44991  tt1047845                ru  Puteshestvie s domashnimi zhivotnymi   \n",
       "44992  tt2147597                ru                              Zolushka   \n",
       "44993  tt0135453                fr                     L'Homme orchestre   \n",
       "\n",
       "                                                overview  ...    status  \\\n",
       "44989  Plucked from an orphanage as a literal love sl...  ...  Released   \n",
       "44990  Plucked from an orphanage as a literal love sl...  ...  Released   \n",
       "44991  Plucked from an orphanage as a literal love sl...  ...  Released   \n",
       "44992  Masha Krapivina - is yet beautiful, and not th...  ...  Released   \n",
       "44993  A band-leader has arranged seven chairs for th...  ...  Released   \n",
       "\n",
       "      tagline                 title  video vote_average  vote_count  userId  \\\n",
       "44989     NaN  Travelling with Pets  False          6.0         5.0      73   \n",
       "44990     NaN  Travelling with Pets  False          6.0         5.0     544   \n",
       "44991     NaN  Travelling with Pets  False          6.0         5.0     648   \n",
       "44992     NaN            Cinderella  False          4.6         6.0     352   \n",
       "44993     NaN      The One-Man Band  False          6.5        22.0     187   \n",
       "\n",
       "      movieId rating   timestamp  \n",
       "44989   64197    4.0  1441513491  \n",
       "44990   64197    5.0  1435789819  \n",
       "44991   64197    3.5  1241951834  \n",
       "44992   98604    4.0  1420521986  \n",
       "44993   49280    5.0  1228072108  \n",
       "\n",
       "[5 rows x 28 columns]"
      ]
     },
     "execution_count": 15,
     "metadata": {},
     "output_type": "execute_result"
    }
   ],
   "source": [
    "df_movie_rate.tail(5)"
   ]
  },
  {
   "cell_type": "code",
   "execution_count": 11,
   "id": "ece3ada2",
   "metadata": {},
   "outputs": [],
   "source": [
    "def find_count_mean_rating(imdb_id):\n",
    "    count_rate = df_movie_rate.loc[df_movie_rate.imdb_id==imdb_id].rating.count()\n",
    "    mean_rate = df_movie_rate.loc[df_movie_rate.imdb_id==imdb_id].rating.mean()\n",
    "    return {count_rate:mean_rate}"
   ]
  },
  {
   "cell_type": "code",
   "execution_count": 16,
   "id": "6361ac20",
   "metadata": {},
   "outputs": [],
   "source": [
    "x = find_count_mean_rating('tt0135453')"
   ]
  },
  {
   "cell_type": "code",
   "execution_count": 17,
   "id": "05413a25",
   "metadata": {},
   "outputs": [
    {
     "name": "stdout",
     "output_type": "stream",
     "text": [
      "dict_keys([1])\n"
     ]
    }
   ],
   "source": [
    "print(x.keys())"
   ]
  },
  {
   "cell_type": "code",
   "execution_count": 18,
   "id": "c5ab7ebe",
   "metadata": {},
   "outputs": [
    {
     "name": "stdout",
     "output_type": "stream",
     "text": [
      "dict_values([5.0])\n"
     ]
    }
   ],
   "source": [
    "print(x.values())"
   ]
  },
  {
   "cell_type": "markdown",
   "id": "edd3905f",
   "metadata": {},
   "source": [
    "Part B"
   ]
  },
  {
   "cell_type": "code",
   "execution_count": 13,
   "id": "5fa91c05",
   "metadata": {},
   "outputs": [
    {
     "name": "stdout",
     "output_type": "stream",
     "text": [
      "<class 'pandas.core.frame.DataFrame'>\n",
      "Int64Index: 44994 entries, 0 to 44993\n",
      "Data columns (total 28 columns):\n",
      " #   Column                 Non-Null Count  Dtype  \n",
      "---  ------                 --------------  -----  \n",
      " 0   adult                  44994 non-null  object \n",
      " 1   belongs_to_collection  10793 non-null  object \n",
      " 2   budget                 44994 non-null  object \n",
      " 3   genres                 44994 non-null  object \n",
      " 4   homepage               10959 non-null  object \n",
      " 5   id                     44994 non-null  int32  \n",
      " 6   imdb_id                44994 non-null  object \n",
      " 7   original_language      44994 non-null  object \n",
      " 8   original_title         44994 non-null  object \n",
      " 9   overview               44857 non-null  object \n",
      " 10  popularity             44994 non-null  object \n",
      " 11  poster_path            44958 non-null  object \n",
      " 12  production_companies   44994 non-null  object \n",
      " 13  production_countries   44994 non-null  object \n",
      " 14  release_date           44965 non-null  object \n",
      " 15  revenue                44994 non-null  float64\n",
      " 16  runtime                44990 non-null  float64\n",
      " 17  spoken_languages       44994 non-null  object \n",
      " 18  status                 44993 non-null  object \n",
      " 19  tagline                31516 non-null  object \n",
      " 20  title                  44994 non-null  object \n",
      " 21  video                  44994 non-null  object \n",
      " 22  vote_average           44994 non-null  float64\n",
      " 23  vote_count             44994 non-null  float64\n",
      " 24  userId                 44994 non-null  int64  \n",
      " 25  movieId                44994 non-null  int64  \n",
      " 26  rating                 44994 non-null  float64\n",
      " 27  timestamp              44994 non-null  int64  \n",
      "dtypes: float64(5), int32(1), int64(3), object(19)\n",
      "memory usage: 9.8+ MB\n"
     ]
    }
   ],
   "source": [
    "df_movie_rate.info()"
   ]
  },
  {
   "cell_type": "code",
   "execution_count": 19,
   "id": "4e93ac72",
   "metadata": {},
   "outputs": [],
   "source": [
    "def create_dataset_mean_count(imdb_id_list):\n",
    "    df = pd.DataFrame(columns=['movieId','movieName','number_of_rate','mean_of_rate'])\n",
    "    for imdb_id in imdb_id_list:\n",
    "        count_rate = df_movie_rate.loc[df_movie_rate.imdb_id==imdb_id].rating.count()\n",
    "        mean_rate = df_movie_rate.loc[df_movie_rate.imdb_id==imdb_id].rating.mean()\n",
    "        movie_name = df_movie_rate.loc[df_movie_rate.imdb_id==imdb_id].title.unique()[0]\n",
    "        movie_id = df_movie_rate.loc[df_movie_rate.imdb_id==imdb_id].id.unique()[0]\n",
    "        df = df.append({'movieId':movie_id,'movieName':movie_name,'number_of_rate':count_rate,'mean_of_rate':mean_rate},ignore_index=True)\n",
    "    df.to_csv('report.csv')"
   ]
  },
  {
   "cell_type": "code",
   "execution_count": 20,
   "id": "5cf084d0",
   "metadata": {},
   "outputs": [],
   "source": [
    "my_list = ['tt0113277','tt0135453']\n",
    "create_dataset_mean_count(my_list)"
   ]
  },
  {
   "cell_type": "code",
   "execution_count": null,
   "id": "d1f37484",
   "metadata": {},
   "outputs": [],
   "source": []
  }
 ],
 "metadata": {
  "kernelspec": {
   "display_name": "Python 3",
   "language": "python",
   "name": "python3"
  },
  "language_info": {
   "codemirror_mode": {
    "name": "ipython",
    "version": 3
   },
   "file_extension": ".py",
   "mimetype": "text/x-python",
   "name": "python",
   "nbconvert_exporter": "python",
   "pygments_lexer": "ipython3",
   "version": "3.8.8"
  }
 },
 "nbformat": 4,
 "nbformat_minor": 5
}
