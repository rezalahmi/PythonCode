{
 "cells": [
  {
   "cell_type": "markdown",
   "metadata": {
    "deletable": false,
    "editable": false
   },
   "source": [
    "<h1><strong>CSCI 4455/5455&ndash; Fall 2021</strong></h1>\n",
    "\n",
    "<h2><strong>Assignment 2 - Data Warehousing & OLAP</strong></h2>\n",
    "\n",
    "<h3><strong><span style=\"color:#cc3300;\">Due: October 27, 11:59pm </span></strong></h3>\n",
    "\n",
    "<h3><strong>Your name:</strong></h3>"
   ]
  },
  {
   "cell_type": "markdown",
   "metadata": {
    "deletable": false,
    "editable": false
   },
   "source": [
    "<ul>\n",
    "<li style=\"text-align: justify;\">Please note that you must do this assignment&nbsp;<span style=\"color: #cc3300;\"><strong><u>individually</u></strong></span>. Using automatic tools, your code will be checked against other submissions and other existing resources (such as websites and books).</li>\n",
    "<li style=\"text-align: justify;\">This assignment is more extensive and might take longer than previous assignments to finish. <span style=\"color: #339966;\"><strong><u>Please start early on.</u></strong></span></li>\n",
    "<li style=\"text-align: justify;\">Review the lecture notes before starting with this assignment. Then, thoroughly read this document before starting with the implementation or thinking about the solution.</li>\n",
    "<li style=\"text-align: justify;\">If you have technical questions about Python, please Google the error messages and share the error message alongside the solution that got it fixed on Microsoft Teams, as your classmates may run into the same issues.</li>\n",
    "<li style=\"text-align: justify;\">Check Canvas regularly for possible clarifications and updates.</li>\n",
    "<li style=\"text-align: justify;\">In this assignment, you will design and implement a data warehouse from scratch and use the data warehouse to answer some analytical decision-making questions.</li>\n",
    "</ul>\n"
   ]
  },
  {
   "cell_type": "markdown",
   "metadata": {
    "deletable": false,
    "editable": false
   },
   "source": [
    "<h2>Dataset</h2>\n",
    "\n",
    "<p style=\"text-align: justify;\">The dataset for this assignment can be found on this <a href=\"https://www.kaggle.com/rounakbanik/the-movies-dataset\">Kaggle link.</a>\n",
    "Please read the data described on this page. We have also uploaded a copy of the data archive in Canvas for your reference. <br>\n",
    "    \n",
    "After you download and extract the archive, you should be able to find the following CSV files:\n",
    "</p>\n",
    "\n",
    "<img src=\"Files.png\">"
   ]
  },
  {
   "cell_type": "markdown",
   "metadata": {
    "deletable": false,
    "editable": false
   },
   "source": [
    "<h2>Implementation</h2>\n",
    "\n",
    "<p style=\"text-align: justify;\">Consider yourself as a data scientist employee of a tech company. One day your boss gives you the above dataset and asks you to design and implement a data warehouse model for the company. Your data warehouse should enable efficient answering of the following queries:<br>\n",
    "    \n",
    "<ol>\n",
    "<li><strong>Details of the Production Company:</strong></li>\n",
    "</ol>\n",
    "<ul>\n",
    "<li style=\"list-style-type: none;\">\n",
    "<ul style=\"list-style-type: square;\">\n",
    "<li>Revenue per year (rpy.csv)</li>\n",
    "<li>Budget per year (bpy.csv)</li>\n",
    "<li>Profit per year (ppy.csv)</li>\n",
    "<li>Average popularity of the produced movies per year (apy.csv)</li>\n",
    "<li>Releases by genre per year (rgpy.csv)</li>\n",
    "</ul>\n",
    "</li>\n",
    "</ul>\n",
    "<ol start=\"2\">\n",
    "<li><strong>Movie Genre Details:</strong></li>\n",
    "</ol>\n",
    "<ul>\n",
    "<li style=\"list-style-type: none;\">\n",
    "<ul style=\"list-style-type: square;\">\n",
    "<li>Revenue by genre per year (regpy.csv)</li>\n",
    "<li>Budget by genre per year (bgpy.csv)</li>\n",
    "<li>Profit by genre per year (pgpy.csv)</li>\n",
    "<li>Most popular genre by year (mpgy.csv)</li>\n",
    "</ul>\n",
    "</li>\n",
    "</ul>\n",
    "</p>"
   ]
  },
  {
   "cell_type": "markdown",
   "metadata": {
    "deletable": false
   },
   "source": [
    "<h2>Question 1</h2>\n",
    "\n",
    "<p style=\"text-align: justify;\">Prepare and submit your design of the data warehouse schema. Choose a schema suitable for your database based on the discussion about data warehouse schemas in class. (our suggestion is using the star schema, but you can choose other schemas as well)\n",
    "\n",
    "Note: You can insert your answer as a picture. if that's the case, make sure to submit a single zip file consisting this notebook and the picture file together.\n",
    "</p>"
   ]
  },
  {
   "cell_type": "markdown",
   "metadata": {},
   "source": [
    "<p><span style=\"color: #ff0000;\"><strong>-- Write your answer here --</strong></span></p>"
   ]
  },
  {
   "cell_type": "markdown",
   "metadata": {
    "deletable": false
   },
   "source": [
    "<h2>Question 2</h2>\n",
    "\n",
    "<p style=\"text-align: justify;\">Implement a database to store your data warehouse based on your design.</p>\n",
    "\n",
    "<p style=\"text-align: justify;\">Your code should take the movies_metadata.csv path from the user to populate the database</p>\n",
    "\n",
    "<p style=\"text-align: justify;\"><strong>Hint1:</strong> You will need to design a database for this part of the assignment. You can choose between Pandas Dataframe or <a href=\"https://realpython.com/python-mysql/\">MySQL</a> database to implement your database. If you&rsquo;re not sure about which one to choose, please take a look at this <a href=\"https://towardsdatascience.com/sql-vs-pandas-which-one-to-choose-in-2020-a98f236829ef\">link</a>.</p>\n",
    "\n",
    "<p style=\"text-align: justify;\"><strong>Hint 2:</strong> Some of the items, like the genre column, have been stored as a list of dictionaries. You can use the <a href=\"https://www.geeksforgeeks.org/read-json-file-using-python/\">“json.loads()”</a> and <a href=\"https://www.kite.com/python/docs/ast.literal_eval\">“ast.literal_eval()”</a>  functions from json and ast libraries, respectively, to parse through these types of columns quickly."
   ]
  },
  {
   "cell_type": "code",
   "execution_count": 1,
   "metadata": {},
   "outputs": [
    {
     "name": "stderr",
     "output_type": "stream",
     "text": [
      "C:\\ProgramData\\Anaconda3\\lib\\site-packages\\IPython\\core\\interactiveshell.py:3165: DtypeWarning: Columns (10) have mixed types.Specify dtype option on import or set low_memory=False.\n",
      "  has_raised = await self.run_ast_nodes(code_ast.body, cell_name,\n",
      "<ipython-input-1-a1f4d22d9e42>:24: DeprecationWarning: The default dtype for empty Series will be 'object' instead of 'float64' in a future version. Specify a dtype explicitly to silence this warning.\n",
      "  s = df_movies_metadata.apply(lambda x: pd.Series(x['production_companies']),axis=1).stack().reset_index(level=1, drop=True)\n"
     ]
    }
   ],
   "source": [
    "# wrtie the code you implemented to create and populate the database here\n",
    "# you can insert more cells below, if needed\n",
    "import pandas as pd\n",
    "import numpy as np\n",
    "import ast\n",
    "#please upload data set to your Notebook jupyter\n",
    "df_movies_metadata = pd.read_csv(r'movies_metadata.csv')\n",
    "df_credits = pd.read_csv(r'credits.csv')\n",
    "df_ratings = pd.read_csv(r'ratings_small.csv')\n",
    "df_links = pd.read_csv(r'links_small.csv')\n",
    "df_keywords = pd.read_csv(r'keywords.csv')\n",
    "#preprocesssing movies metadata\n",
    "df_movies_metadata['revenue'] = df_movies_metadata['revenue'].replace(0,np.nan)\n",
    "df_movies_metadata['budget'] = pd.to_numeric(df_movies_metadata['budget'], errors='coerce')\n",
    "df_movies_metadata['budget'] = df_movies_metadata['budget'].replace(0, np.nan)\n",
    "df_movies_metadata[df_movies_metadata['budget'].isnull()].shape\n",
    "#create profit feature\n",
    "df_movies_metadata['profit'] = df_movies_metadata['revenue'] - df_movies_metadata['budget']\n",
    "#create year feature\n",
    "df_movies_metadata['year'] = pd.to_datetime(df_movies_metadata['release_date'], errors='coerce').apply(lambda x: str(x).split('-')[0] if x != np.nan else np.nan)\n",
    "#extract production companies json dataset and create companies name feature\n",
    "df_movies_metadata['production_companies'] = df_movies_metadata['production_companies'].fillna('[]').apply(ast.literal_eval)\n",
    "df_movies_metadata['production_companies'] = df_movies_metadata['production_companies'].apply(lambda x: [i['name'] for i in x] if isinstance(x, list) else [])\n",
    "s = df_movies_metadata.apply(lambda x: pd.Series(x['production_companies']),axis=1).stack().reset_index(level=1, drop=True)\n",
    "s.name = 'companies'\n",
    "com_df_movies_metadata = df_movies_metadata.drop('production_companies', axis=1).join(s)\n"
   ]
  },
  {
   "cell_type": "code",
   "execution_count": 2,
   "metadata": {},
   "outputs": [],
   "source": [
    "def clean_numeric(x):\n",
    "    try:\n",
    "        return float(x)\n",
    "    except:\n",
    "        return np.nan\n",
    "def convert_int(x):\n",
    "    try:\n",
    "        return int(x)\n",
    "    except:\n",
    "        return np.nan"
   ]
  },
  {
   "cell_type": "code",
   "execution_count": 3,
   "metadata": {},
   "outputs": [
    {
     "name": "stderr",
     "output_type": "stream",
     "text": [
      "<ipython-input-3-328223645f50>:8: DeprecationWarning: The default dtype for empty Series will be 'object' instead of 'float64' in a future version. Specify a dtype explicitly to silence this warning.\n",
      "  s = com_df_movies_metadata.apply(lambda x: pd.Series(x['genres']),axis=1).stack().reset_index(level=1, drop=True)\n"
     ]
    }
   ],
   "source": [
    "#preprocessing\n",
    "com_df_movies_metadata['popularity'] = com_df_movies_metadata['popularity'].apply(clean_numeric).astype('float')\n",
    "com_df_movies_metadata['vote_count'] = com_df_movies_metadata['vote_count'].apply(clean_numeric).astype('float')\n",
    "com_df_movies_metadata['vote_average'] = com_df_movies_metadata['vote_average'].apply(clean_numeric).astype('float')\n",
    "com_df_movies_metadata['vote_average'] = com_df_movies_metadata['vote_average'].replace(0, np.nan)\n",
    "#extraction genres feature(json)\n",
    "com_df_movies_metadata['genres'] = com_df_movies_metadata['genres'].fillna('[]').apply(ast.literal_eval).apply(lambda x: [i['name'] for i in x] if isinstance(x, list) else [])\n",
    "s = com_df_movies_metadata.apply(lambda x: pd.Series(x['genres']),axis=1).stack().reset_index(level=1, drop=True)\n",
    "s.name = 'genre'\n",
    "df_full = com_df_movies_metadata.drop('genres', axis=1).join(s)\n",
    "#preprocessing for left create data warehouse\n",
    "df_full['id'] = df_full['id'].apply(convert_int)\n",
    "df_full = df_full.drop([19730, 29503, 35587])\n",
    "df_full['id'] = df_full['id'].astype('int')\n",
    "#join movies metadata and credits\n",
    "df_full = df_full.merge(df_credits, on='id')\n",
    "#extract json dataset\n",
    "df_full['cast'] = df_full['cast'].apply(ast.literal_eval)\n",
    "df_full['crew'] = df_full['crew'].apply(ast.literal_eval)\n",
    "df_full['cast'] = df_full['cast'].apply(lambda x: [i['name'] for i in x] if isinstance(x, list) else [])\n",
    "#join movies meta data and keywords\n",
    "df_full = df_full.merge(df_keywords,on='id')\n",
    "#join movies meta data and links\n",
    "df_full = df_full.merge(df_links,how='left',left_on='id',right_on='movieId')\n",
    "df_full.drop('movieId',axis=1,inplace=True)\n",
    "#join movie meta data and ratings\n",
    "df_full = df_full.merge(df_ratings,how='left',left_on='id',right_on='movieId')\n",
    "df_full.drop('movieId',axis=1,inplace=True)"
   ]
  },
  {
   "cell_type": "markdown",
   "metadata": {
    "deletable": false
   },
   "source": [
    "<h2>Question 3</h2>\n",
    "\n",
    "<p style=\"text-align: justify;\">Write and implement queries to answer all queries mentioned above under the \"Implementation\" Section on Details of the Production Company and Move Genre Details. Your function should write the results of the aforementioned queries in separate CSV files using the provided file names, respectively. Here are some samples of outputs (numbers and names are hypothetical).\n",
    "\n",
    "<img src=\"output_sample_b.png\" width=\"600\" \n",
    "     height=\"400\">\n",
    "    \n",
    "<img src=\"output_sample_r.png\" width=\"600\" \n",
    "     height=\"400\">\n",
    "    \n",
    "<img src=\"output_sample_p.png\" width=\"600\" \n",
    "     height=\"400\">\n",
    "\n",
    "<p style=\"text-align: justify;\">Make sure that you are using your designed database in Question 1 to answer these queries.</p>\n",
    "\n",
    "\n",
    "<p style=\"text-align: justify;\"><strong>Hint 3</strong>: Most of the data you need to answer the queries are in the “movies_metadata.csv” file. </p>\n"
   ]
  },
  {
   "cell_type": "code",
   "execution_count": 4,
   "metadata": {},
   "outputs": [],
   "source": [
    "# wrtie the code that you implemented to answer the queries here\n",
    "# you can insert more cells below, if needed\n",
    "#Revenue per year (rpy.csv)\n",
    "df_full.groupby(['companies','year']).agg({'revenue':'sum'}).to_csv('rpy.csv')\n",
    "#Budget per year (bpy.csv)\n",
    "df_full.groupby(['companies','year']).agg({'budget':'sum'}).to_csv('bpy.csv')\n",
    "#Profit per year (ppy.csv)\n",
    "df_full.groupby(['companies','year']).agg({'profit':'sum'}).to_csv('ppy.csv')\n",
    "#Average popularity of the produced movies per year (apy.csv)\n",
    "df_full.groupby(['companies','year']).agg({'popularity':'mean'}).to_csv('apy.csv')\n",
    "#Releases by genre per year (rgpy.csv)\n",
    "df_full.groupby(['companies','genre','year']).agg({'release_date':'count'}).to_csv('rgpy.csv')\n",
    "#Revenue by genre per year (regpy.csv)\n",
    "df_full.groupby(['genre','year']).agg({'revenue':'sum'}).to_csv('regpy.csv')\n",
    "#Budget by genre per year (bgpy.csv)\n",
    "df_full.groupby(['genre','year']).agg({'budget':'sum'}).to_csv('bgpy.csv')\n",
    "#Profit by genre per year (pgpy.csv)\n",
    "df_full.groupby(['genre','year']).agg({'profit':'sum'}).to_csv('pgpy.csv')\n",
    "#Most popular genre by year (mpgy.csv)\n",
    "df_full.groupby(['year','genre']).agg({'popularity':'max'}).to_csv('mgpy.csv')"
   ]
  },
  {
   "cell_type": "markdown",
   "metadata": {
    "deletable": false
   },
   "source": [
    "<h2>Question 4</h2>\n",
    "\n",
    "Implement the following two queries:"
   ]
  },
  {
   "cell_type": "markdown",
   "metadata": {
    "deletable": false
   },
   "source": [
    "<p><strong>a)</strong> Implement a function that takes a movie&rsquo;s IMDB id as an input and returns the following dictionary:</p>\n",
    "<ul>\n",
    "<li>Key: The number of users who voted for the movie</li>\n",
    "<li>Value: The average rating of the movie by those users</li>\n",
    "</ul>\n",
    "\n",
    "<p style=\"text-align: justify;\">Make sure that you are using your designed database in Question 1 here.</p>\n",
    "\n",
    "<p style=\"text-align: justify;\"><strong>Hint:</strong> To write the rating function, you need to work on links_small, rating_small files with the movies_metadata.csv to connect these tables.</p>"
   ]
  },
  {
   "cell_type": "code",
   "execution_count": 5,
   "metadata": {},
   "outputs": [],
   "source": [
    "# wrtie the code that you implemented to answer the query here\n",
    "# you can insert more cells below, if needed\n",
    "def find_count_mean_rating(imdb_id):\n",
    "    count_rate = df_full.loc[df_full.imdb_id==imdb_id].rating.count()\n",
    "    mean_rate = df_full.loc[df_full.imdb_id==imdb_id].rating.mean()\n",
    "    return {count_rate:mean_rate}"
   ]
  },
  {
   "cell_type": "markdown",
   "metadata": {
    "deletable": false,
    "editable": false
   },
   "source": [
    "<p style=\"text-align: justify;\"><strong>b)</strong> Implement a function that takes a list of movie IMDB ids (up to 20 movies at a time) and returns a CSV file with corresponding records in the following format: the movie id, movie name, number of users who rated that movie, and the average rating on each row. Your code should <em>efficiently</em> generate this report using the ratings.csv and links.csv files.</p>"
   ]
  },
  {
   "cell_type": "code",
   "execution_count": 6,
   "metadata": {},
   "outputs": [],
   "source": [
    "# wrtie the code that you implemented to answer the query here\n",
    "# you can insert more cells below, if needed\n",
    "def create_dataset_mean_count(imdb_id_list):\n",
    "    df = pd.DataFrame(columns=['movieId','movieName','number_of_rate','mean_of_rate'])\n",
    "    for imdb_id in imdb_id_list:\n",
    "        count_rate = df_full.loc[df_full.imdb_id==imdb_id].rating.count()\n",
    "        mean_rate = df_full.loc[df_full.imdb_id==imdb_id].rating.mean()\n",
    "        movie_name = df_full.loc[df_full.imdb_id==imdb_id].title.unique()[0]\n",
    "        movie_id = df_full.loc[df_full.imdb_id==imdb_id].id.unique()[0]\n",
    "        df = df.append({'movieId':movie_id,'movieName':movie_name,'number_of_rate':count_rate,'mean_of_rate':mean_rate},ignore_index=True)\n",
    "    df.to_csv('report.csv')"
   ]
  },
  {
   "cell_type": "markdown",
   "metadata": {
    "deletable": false,
    "editable": false
   },
   "source": [
    "<h3>Coding Considerations</h3>\n",
    "<p style=\"text-align: justify;\">You must consider the following in your implementations:</p>\n",
    "<ul>\n",
    "<li class=\"a\"><span> You are allowed to use your desired Python libraries in this assignment. </span>\n",
    "<li class=\"a\"><span> The output CSV files should be generated in the same directory of your code when you run it. Use the naming provided in the Implementation section. </span>\n",
    "<li class=\"a\"><span> You should write your code in this Jupyter Notebook (*.ipynb) file which can generate the required reports itself.</span>\n",
    "<li class=\"a\"><span> Your code should be self-explanatory. Make sure you add comments and your output files are formatted correctly. You might lose up to 30 points for bad code quality (readability, modularity, comments, efficiency, etc.) and formatting of the output files.</span></li>\n",
    "</ul>"
   ]
  },
  {
   "cell_type": "markdown",
   "metadata": {
    "deletable": false,
    "editable": false
   },
   "source": [
    "<h2>Submission</h2>\n",
    "<p style=\"text-align: justify;\">Your python file or Jupyter Notebook file must generate all the abovementioned reports when you run it. If you use any specific library to run your code, add documentation.</p>\n",
    "<p style=\"text-align: justify;\">You need to submit a Jupyter Notebook (*.ipynb) file of your code, meeting the above requirements, in Canvas. <span style=\"background-color: #ffff99;\">The file name should be in <strong>FirstName_LastName</strong> format</span>.</p>\n",
    "<p style=\"text-align: justify;\"><span style=\"background-color: #ffff99;\">DO NOT INCLUDE EXTRA FILES, SUCH AS THE INPUT DATASETS</span>, in your submission; Unless you are sending a picture for Question 1.</p>\n",
    "<p style=\"text-align: justify;\">Please download your assignment after submission and make sure it is not corrupted or empty! We will not be responsible for corrupted submissions and will not take a resubmission after the deadline.</p>"
   ]
  },
  {
   "cell_type": "markdown",
   "metadata": {
    "deletable": false,
    "editable": false
   },
   "source": [
    "<h2>Need Help?</h2>\n",
    "<p>If you need help with this assignment, please get in touch with Erfan (on MS Teams or via email at <a href=\"mailto:erfan.jafarikhademzavareh@ucdenver.edu\">Erfan.jafarikhademzavareh@ucdenver.edu</a>) or go to his office hours.</p>\n",
    "<p>&nbsp;</p>\n",
    "<p>You are highly encouraged to ask your question on the designated channel for Assignment 2 on Microsoft Teams (not necessarily monitored by the instructor/TA). Feel free to help other students with general questions. However, DO NOT share your solution.</p>"
   ]
  }
 ],
 "metadata": {
  "celltoolbar": "Edit Metadata",
  "kernelspec": {
   "display_name": "Python 3",
   "language": "python",
   "name": "python3"
  },
  "language_info": {
   "codemirror_mode": {
    "name": "ipython",
    "version": 3
   },
   "file_extension": ".py",
   "mimetype": "text/x-python",
   "name": "python",
   "nbconvert_exporter": "python",
   "pygments_lexer": "ipython3",
   "version": "3.8.8"
  }
 },
 "nbformat": 4,
 "nbformat_minor": 2
}
