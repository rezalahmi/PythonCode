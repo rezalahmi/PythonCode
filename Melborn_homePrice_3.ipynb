{
 "cells": [
  {
   "cell_type": "code",
   "execution_count": 1,
   "id": "1a669bf1",
   "metadata": {},
   "outputs": [],
   "source": [
    "import pandas as pd\n",
    "melborn_data = pd.read_csv(r'melb_data.csv')\n",
    "melborn_data.dropna(axis=0,inplace=True)"
   ]
  },
  {
   "cell_type": "code",
   "execution_count": 2,
   "id": "6c740d6f",
   "metadata": {},
   "outputs": [],
   "source": [
    "from sklearn.model_selection import train_test_split"
   ]
  },
  {
   "cell_type": "code",
   "execution_count": 3,
   "id": "eed3690a",
   "metadata": {},
   "outputs": [],
   "source": [
    "y = melborn_data.Price\n",
    "x = melborn_data[['Rooms','Bedroom2','Bathroom','Car','YearBuilt']]"
   ]
  },
  {
   "cell_type": "code",
   "execution_count": 4,
   "id": "f4177fa3",
   "metadata": {},
   "outputs": [],
   "source": [
    "train_X, val_X, train_y, val_y = train_test_split(x,y,random_state=1)"
   ]
  },
  {
   "cell_type": "code",
   "execution_count": 34,
   "id": "e945c220",
   "metadata": {},
   "outputs": [
    {
     "data": {
      "text/plain": [
       "42"
      ]
     },
     "execution_count": 34,
     "metadata": {},
     "output_type": "execute_result"
    }
   ],
   "source": [
    "allModel = {}\n",
    "for num in range(10,100):\n",
    "    myModel = DecisionTreeRegressor(max_leaf_nodes=num,random_state=1)\n",
    "    myModel.fit(train_X,train_y)\n",
    "    myModel_predict = myModel.predict(val_X)\n",
    "    allModel[num] = mean_absolute_error(val_y,myModel_predict)\n",
    "min(allModel,key=allModel.get)"
   ]
  },
  {
   "cell_type": "code",
   "execution_count": 5,
   "id": "e538e089",
   "metadata": {},
   "outputs": [
    {
     "data": {
      "text/plain": [
       "DecisionTreeRegressor(max_leaf_nodes=42, random_state=1)"
      ]
     },
     "execution_count": 5,
     "metadata": {},
     "output_type": "execute_result"
    }
   ],
   "source": [
    "from sklearn.tree import DecisionTreeRegressor\n",
    "myModel = DecisionTreeRegressor(max_leaf_nodes=42, random_state=1)\n",
    "myModel.fit(train_X,train_y)"
   ]
  },
  {
   "cell_type": "code",
   "execution_count": 6,
   "id": "a5a4551a",
   "metadata": {},
   "outputs": [
    {
     "data": {
      "text/plain": [
       "318560.0215716032"
      ]
     },
     "execution_count": 6,
     "metadata": {},
     "output_type": "execute_result"
    }
   ],
   "source": [
    "from sklearn.metrics import mean_absolute_error\n",
    "myModel_predict = myModel.predict(val_X)\n",
    "mean_absolute_error(val_y,myModel_predict)"
   ]
  },
  {
   "cell_type": "code",
   "execution_count": null,
   "id": "8d72ebc2",
   "metadata": {},
   "outputs": [],
   "source": []
  }
 ],
 "metadata": {
  "kernelspec": {
   "display_name": "Python 3",
   "language": "python",
   "name": "python3"
  },
  "language_info": {
   "codemirror_mode": {
    "name": "ipython",
    "version": 3
   },
   "file_extension": ".py",
   "mimetype": "text/x-python",
   "name": "python",
   "nbconvert_exporter": "python",
   "pygments_lexer": "ipython3",
   "version": "3.8.8"
  }
 },
 "nbformat": 4,
 "nbformat_minor": 5
}
