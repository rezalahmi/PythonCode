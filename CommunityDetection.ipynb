{
 "cells": [
  {
   "cell_type": "code",
   "execution_count": 2,
   "id": "6539dd08",
   "metadata": {},
   "outputs": [
    {
     "name": "stdout",
     "output_type": "stream",
     "text": [
      "Requirement already satisfied: networkx in c:\\users\\fourr\\anaconda3\\lib\\site-packages (2.5)\n",
      "Requirement already satisfied: decorator>=4.3.0 in c:\\users\\fourr\\anaconda3\\lib\\site-packages (from networkx) (5.0.6)\n",
      "Note: you may need to restart the kernel to use updated packages.\n"
     ]
    }
   ],
   "source": [
    "pip install networkx"
   ]
  },
  {
   "cell_type": "code",
   "execution_count": 1,
   "id": "470b5ea4",
   "metadata": {},
   "outputs": [],
   "source": [
    "import networkx as nx\n",
    "G = nx.Graph()"
   ]
  },
  {
   "cell_type": "code",
   "execution_count": 6,
   "id": "8ae2dfe7",
   "metadata": {},
   "outputs": [],
   "source": [
    "G.add_node(1)"
   ]
  },
  {
   "cell_type": "code",
   "execution_count": 8,
   "id": "c3f0eb06",
   "metadata": {},
   "outputs": [],
   "source": [
    "G.add_nodes_from([2,3])"
   ]
  },
  {
   "cell_type": "code",
   "execution_count": 11,
   "id": "48770a96",
   "metadata": {},
   "outputs": [
    {
     "data": {
      "text/plain": [
       "NodeView((1, 2, 3))"
      ]
     },
     "execution_count": 11,
     "metadata": {},
     "output_type": "execute_result"
    }
   ],
   "source": [
    "G.nodes"
   ]
  },
  {
   "cell_type": "code",
   "execution_count": 12,
   "id": "bd2f2e76",
   "metadata": {},
   "outputs": [
    {
     "data": {
      "text/plain": [
       "EdgeView([])"
      ]
     },
     "execution_count": 12,
     "metadata": {},
     "output_type": "execute_result"
    }
   ],
   "source": [
    "G.edges"
   ]
  },
  {
   "cell_type": "code",
   "execution_count": 18,
   "id": "4058b259",
   "metadata": {},
   "outputs": [],
   "source": [
    "G.add_edge(1,2)"
   ]
  },
  {
   "cell_type": "code",
   "execution_count": 19,
   "id": "e3593b62",
   "metadata": {},
   "outputs": [],
   "source": [
    "G.add_edges_from([(2,3),(1,3)])"
   ]
  },
  {
   "cell_type": "code",
   "execution_count": 20,
   "id": "883bae83",
   "metadata": {},
   "outputs": [
    {
     "data": {
      "text/plain": [
       "EdgeView([(1, 2), (1, 3), (2, 3)])"
      ]
     },
     "execution_count": 20,
     "metadata": {},
     "output_type": "execute_result"
    }
   ],
   "source": [
    "G.edges"
   ]
  },
  {
   "cell_type": "code",
   "execution_count": 13,
   "id": "06ea80aa",
   "metadata": {},
   "outputs": [],
   "source": [
    "H = nx.path_graph(5)"
   ]
  },
  {
   "cell_type": "code",
   "execution_count": 14,
   "id": "b0c758aa",
   "metadata": {},
   "outputs": [
    {
     "data": {
      "text/plain": [
       "NodeView((0, 1, 2, 3, 4))"
      ]
     },
     "execution_count": 14,
     "metadata": {},
     "output_type": "execute_result"
    }
   ],
   "source": [
    "H.nodes"
   ]
  },
  {
   "cell_type": "code",
   "execution_count": 15,
   "id": "8a59ff50",
   "metadata": {},
   "outputs": [
    {
     "data": {
      "text/plain": [
       "EdgeView([(0, 1), (1, 2), (2, 3), (3, 4)])"
      ]
     },
     "execution_count": 15,
     "metadata": {},
     "output_type": "execute_result"
    }
   ],
   "source": [
    "H.edges"
   ]
  },
  {
   "cell_type": "code",
   "execution_count": 22,
   "id": "7b369276",
   "metadata": {},
   "outputs": [
    {
     "data": {
      "text/plain": [
       "AtlasView({2: {}, 3: {}})"
      ]
     },
     "execution_count": 22,
     "metadata": {},
     "output_type": "execute_result"
    }
   ],
   "source": [
    "G.adj[1]"
   ]
  },
  {
   "cell_type": "code",
   "execution_count": 24,
   "id": "e5e0d819",
   "metadata": {},
   "outputs": [
    {
     "data": {
      "text/plain": [
       "AtlasView({0: {}, 2: {}})"
      ]
     },
     "execution_count": 24,
     "metadata": {},
     "output_type": "execute_result"
    }
   ],
   "source": [
    "H.adj[1]"
   ]
  },
  {
   "cell_type": "code",
   "execution_count": 26,
   "id": "891d61eb",
   "metadata": {},
   "outputs": [
    {
     "data": {
      "text/plain": [
       "[2, 3]"
      ]
     },
     "execution_count": 26,
     "metadata": {},
     "output_type": "execute_result"
    }
   ],
   "source": [
    "list(G.adj[1])"
   ]
  },
  {
   "cell_type": "code",
   "execution_count": 27,
   "id": "caf536ed",
   "metadata": {},
   "outputs": [],
   "source": [
    "import matplotlib.pyplot as plt"
   ]
  },
  {
   "cell_type": "markdown",
   "id": "6bf55031",
   "metadata": {},
   "source": [
    "### LFR"
   ]
  },
  {
   "cell_type": "code",
   "execution_count": 2,
   "id": "7806ded8",
   "metadata": {},
   "outputs": [],
   "source": [
    "from networkx.generators.community import LFR_benchmark_graph"
   ]
  },
  {
   "cell_type": "code",
   "execution_count": 3,
   "id": "0023f67d",
   "metadata": {},
   "outputs": [],
   "source": [
    "n = 250\n",
    "tau1 = 3\n",
    "tau2 = 1.5\n",
    "mu = 0.1\n",
    "G_lfr = LFR_benchmark_graph(n,tau1,tau2,mu,average_degree=5,min_community=20,seed=10)"
   ]
  },
  {
   "cell_type": "code",
   "execution_count": 9,
   "id": "ef333c67",
   "metadata": {},
   "outputs": [],
   "source": [
    "communities = {frozenset(G_lfr.nodes[v][\"community\"]) for v in G_lfr}"
   ]
  },
  {
   "cell_type": "code",
   "execution_count": 13,
   "id": "90e6a880",
   "metadata": {},
   "outputs": [
    {
     "name": "stdout",
     "output_type": "stream",
     "text": [
      "{frozenset({3, 7, 13, 14, 20, 23, 24, 27, 28, 29, 31, 36, 37, 39, 40, 46, 54, 55, 58, 63, 65, 69, 72, 75, 76, 78, 82, 83, 85, 89, 90, 93, 105, 106, 114, 117, 118, 122, 124, 125, 127, 129, 133, 134, 136, 142, 144, 153, 157, 158, 162, 167, 168, 169, 173, 175, 178, 180, 182, 184, 190, 193, 203, 209, 210, 216, 219, 224, 229, 239, 248, 249}), frozenset({0, 1, 2, 4, 5, 6, 9, 10, 11, 15, 17, 25, 26, 30, 32, 35, 41, 42, 43, 47, 48, 49, 50, 51, 52, 53, 56, 57, 59, 60, 62, 64, 66, 67, 68, 71, 73, 74, 77, 79, 81, 84, 86, 87, 88, 91, 92, 94, 95, 96, 97, 98, 99, 100, 101, 103, 104, 107, 108, 109, 110, 111, 112, 113, 115, 116, 119, 120, 123, 126, 128, 130, 131, 132, 135, 137, 138, 139, 140, 141, 143, 145, 146, 147, 148, 149, 150, 151, 152, 154, 155, 156, 159, 160, 161, 163, 164, 165, 166, 170, 171, 172, 174, 176, 177, 179, 181, 183, 185, 186, 187, 188, 189, 191, 192, 194, 195, 196, 197, 198, 199, 200, 201, 202, 204, 205, 206, 207, 208, 211, 212, 213, 214, 215, 217, 218, 220, 221, 222, 223, 227, 228, 230, 231, 232, 233, 234, 235, 236, 238, 240, 241, 242, 243, 244, 245, 246}), frozenset({70, 8, 12, 16, 80, 18, 19, 21, 22, 33, 34, 225, 226, 38, 102, 44, 45, 237, 247, 121, 61})}\n"
     ]
    }
   ],
   "source": [
    "print(communities)"
   ]
  },
  {
   "cell_type": "code",
   "execution_count": 20,
   "id": "539e54af",
   "metadata": {},
   "outputs": [],
   "source": [
    "G_lfr_1 = LFR_benchmark_graph(n=250,tau1=3,tau2=1.5,mu=0.1,average_degree=5,min_community=50,seed=10)"
   ]
  },
  {
   "cell_type": "code",
   "execution_count": 23,
   "id": "d711773d",
   "metadata": {},
   "outputs": [],
   "source": [
    "communities = {frozenset(G_lfr_1.nodes[v][\"community\"]) for v in G_lfr_1}"
   ]
  },
  {
   "cell_type": "code",
   "execution_count": 24,
   "id": "c7e26823",
   "metadata": {},
   "outputs": [
    {
     "name": "stdout",
     "output_type": "stream",
     "text": [
      "{frozenset({0, 2, 3, 4, 5, 6, 9, 10, 13, 14, 15, 18, 24, 25, 26, 27, 28, 31, 33, 34, 35, 40, 41, 46, 47, 51, 54, 55, 61, 64, 66, 68, 92, 100, 101, 104, 105, 113, 116, 120, 122, 123, 126, 128, 129, 130, 132, 133, 137, 138, 139, 141, 142, 145, 147, 149, 150, 152, 154, 155, 158, 161, 163, 164, 165, 169, 170, 171, 175, 176, 177, 178, 181, 183, 186, 187, 188, 190, 194, 196, 198, 201, 202, 203, 204, 207, 212, 215, 216, 220, 222, 223, 224, 225, 228, 229, 231, 233, 234, 236, 238, 245, 248}), frozenset({1, 7, 8, 11, 12, 16, 17, 19, 20, 21, 22, 23, 29, 30, 32, 36, 37, 38, 39, 42, 43, 44, 45, 48, 49, 50, 52, 53, 56, 57, 58, 59, 60, 62, 63, 65, 67, 69, 70, 71, 72, 73, 74, 75, 76, 77, 78, 79, 80, 81, 82, 83, 84, 85, 86, 87, 88, 89, 90, 91, 93, 94, 95, 96, 97, 98, 99, 102, 103, 106, 107, 108, 109, 110, 111, 112, 114, 115, 117, 118, 119, 121, 124, 125, 127, 131, 134, 135, 136, 140, 143, 144, 146, 148, 151, 153, 156, 157, 159, 160, 162, 166, 167, 168, 172, 173, 174, 179, 180, 182, 184, 185, 189, 191, 192, 193, 195, 197, 199, 200, 205, 206, 208, 209, 210, 211, 213, 214, 217, 218, 219, 221, 226, 227, 230, 232, 235, 237, 239, 240, 241, 242, 243, 244, 246, 247, 249})}\n"
     ]
    }
   ],
   "source": [
    "print(communities)"
   ]
  },
  {
   "cell_type": "code",
   "execution_count": 22,
   "id": "78221851",
   "metadata": {},
   "outputs": [],
   "source": [
    "G_lfr_2 = LFR_benchmark_graph(n=250,tau1=3,tau2=1.5,mu=0.1,average_degree=5,min_community=75,seed=10)"
   ]
  },
  {
   "cell_type": "code",
   "execution_count": 26,
   "id": "370cc13b",
   "metadata": {},
   "outputs": [],
   "source": [
    "communities = {frozenset(G_lfr_2.nodes[v][\"community\"]) for v in G_lfr_2}"
   ]
  },
  {
   "cell_type": "code",
   "execution_count": 27,
   "id": "8eb07322",
   "metadata": {},
   "outputs": [
    {
     "name": "stdout",
     "output_type": "stream",
     "text": [
      "{frozenset({1, 3, 4, 5, 6, 10, 13, 17, 18, 20, 21, 22, 23, 25, 26, 27, 28, 29, 30, 31, 33, 36, 37, 38, 40, 41, 43, 44, 47, 48, 51, 59, 65, 77, 78, 82, 88, 90, 92, 94, 95, 104, 109, 112, 113, 119, 121, 123, 132, 134, 135, 136, 142, 144, 153, 159, 163, 167, 172, 173, 176, 178, 180, 182, 186, 189, 192, 193, 195, 197, 198, 200, 204, 205, 208, 213, 214, 215, 219, 221, 222, 223, 225, 228, 230, 231, 232, 233, 237, 238, 244, 246, 249}), frozenset({0, 2, 7, 8, 9, 11, 12, 14, 15, 16, 19, 24, 32, 34, 35, 39, 42, 45, 46, 49, 50, 52, 53, 54, 55, 56, 57, 58, 60, 61, 62, 63, 64, 66, 67, 68, 69, 70, 71, 72, 73, 74, 75, 76, 79, 80, 81, 83, 84, 85, 86, 87, 89, 91, 93, 96, 97, 98, 99, 100, 101, 102, 103, 105, 106, 107, 108, 110, 111, 114, 115, 116, 117, 118, 120, 122, 124, 125, 126, 127, 128, 129, 130, 131, 133, 137, 138, 139, 140, 141, 143, 145, 146, 147, 148, 149, 150, 151, 152, 154, 155, 156, 157, 158, 160, 161, 162, 164, 165, 166, 168, 169, 170, 171, 174, 175, 177, 179, 181, 183, 184, 185, 187, 188, 190, 191, 194, 196, 199, 201, 202, 203, 206, 207, 209, 210, 211, 212, 216, 217, 218, 220, 224, 226, 227, 229, 234, 235, 236, 239, 240, 241, 242, 243, 245, 247, 248})}\n"
     ]
    }
   ],
   "source": [
    "print(communities)"
   ]
  },
  {
   "cell_type": "code",
   "execution_count": 42,
   "id": "0360b639",
   "metadata": {},
   "outputs": [],
   "source": [
    "G_lfr_3 = LFR_benchmark_graph(n=100,tau1=10,tau2=2,mu=0.2,min_degree=15,seed=62)"
   ]
  },
  {
   "cell_type": "code",
   "execution_count": 44,
   "id": "cb82444e",
   "metadata": {},
   "outputs": [],
   "source": [
    "G_lfr_4 = LFR_benchmark_graph(n=100,tau1=10,tau2=3,mu=0.2,min_degree=20,seed=62)"
   ]
  },
  {
   "cell_type": "code",
   "execution_count": 46,
   "id": "d712c113",
   "metadata": {},
   "outputs": [],
   "source": [
    "G_lfr_5 = LFR_benchmark_graph(n=100,tau1=10,tau2=4,mu=0.2,min_degree=30,seed=62)"
   ]
  },
  {
   "cell_type": "markdown",
   "id": "260c22c3",
   "metadata": {},
   "source": [
    "## community detection"
   ]
  },
  {
   "cell_type": "markdown",
   "id": "affc5092",
   "metadata": {},
   "source": [
    "### CNM"
   ]
  },
  {
   "cell_type": "code",
   "execution_count": 47,
   "id": "09c7a628",
   "metadata": {},
   "outputs": [],
   "source": [
    "from networkx.algorithms.community import greedy_modularity_communities"
   ]
  },
  {
   "cell_type": "code",
   "execution_count": 48,
   "id": "3d678ccb",
   "metadata": {},
   "outputs": [],
   "source": [
    "communities = list(greedy_modularity_communities(G_lfr_3))"
   ]
  },
  {
   "cell_type": "code",
   "execution_count": 49,
   "id": "6e19ace7",
   "metadata": {},
   "outputs": [
    {
     "data": {
      "text/plain": [
       "list"
      ]
     },
     "execution_count": 49,
     "metadata": {},
     "output_type": "execute_result"
    }
   ],
   "source": [
    "type(communities)"
   ]
  },
  {
   "cell_type": "code",
   "execution_count": 50,
   "id": "7ec04c30",
   "metadata": {},
   "outputs": [
    {
     "data": {
      "text/plain": [
       "5"
      ]
     },
     "execution_count": 50,
     "metadata": {},
     "output_type": "execute_result"
    }
   ],
   "source": [
    "len(communities)"
   ]
  },
  {
   "cell_type": "code",
   "execution_count": 51,
   "id": "50747cb2",
   "metadata": {},
   "outputs": [
    {
     "name": "stdout",
     "output_type": "stream",
     "text": [
      "frozenset({0, 4, 8, 9, 23, 37, 40, 41, 46, 48, 51, 55, 58, 60, 65, 69, 70, 73, 74, 76, 82, 86, 90, 91, 96, 98})\n",
      "frozenset({1, 7, 13, 15, 29, 31, 32, 38, 42, 47, 49, 52, 54, 61, 62, 64, 66, 67, 77, 84, 85, 93})\n",
      "frozenset({5, 6, 12, 17, 18, 19, 20, 27, 33, 34, 35, 39, 45, 57, 71, 72, 80, 81, 87, 88, 97})\n",
      "frozenset({2, 3, 75, 43, 44, 14, 79, 16, 78, 21, 22, 24, 25, 56, 92, 94})\n",
      "frozenset({99, 68, 36, 10, 11, 50, 83, 53, 95, 89, 26, 59, 28, 30, 63})\n"
     ]
    }
   ],
   "source": [
    "for c in communities:\n",
    "    print(c)"
   ]
  },
  {
   "cell_type": "code",
   "execution_count": 52,
   "id": "b8e47502",
   "metadata": {},
   "outputs": [
    {
     "data": {
      "text/plain": [
       "4"
      ]
     },
     "execution_count": 52,
     "metadata": {},
     "output_type": "execute_result"
    }
   ],
   "source": [
    "communities = greedy_modularity_communities(G_lfr_4)\n",
    "len(communities)"
   ]
  },
  {
   "cell_type": "code",
   "execution_count": 53,
   "id": "6776b058",
   "metadata": {},
   "outputs": [
    {
     "data": {
      "text/plain": [
       "3"
      ]
     },
     "execution_count": 53,
     "metadata": {},
     "output_type": "execute_result"
    }
   ],
   "source": [
    "communities = greedy_modularity_communities(G_lfr_5)\n",
    "len(communities)"
   ]
  },
  {
   "cell_type": "markdown",
   "id": "455c32c7",
   "metadata": {},
   "source": [
    "### Louvain Algorithm"
   ]
  },
  {
   "cell_type": "code",
   "execution_count": 56,
   "id": "63bb7d50",
   "metadata": {},
   "outputs": [
    {
     "name": "stdout",
     "output_type": "stream",
     "text": [
      "Collecting python-louvain\n",
      "  Downloading python-louvain-0.15.tar.gz (204 kB)\n",
      "Requirement already satisfied: networkx in c:\\users\\fourr\\anaconda3\\lib\\site-packages (from python-louvain) (2.5)\n",
      "Requirement already satisfied: numpy in c:\\users\\fourr\\anaconda3\\lib\\site-packages (from python-louvain) (1.20.1)\n",
      "Requirement already satisfied: decorator>=4.3.0 in c:\\users\\fourr\\anaconda3\\lib\\site-packages (from networkx->python-louvain) (4.3.0)\n",
      "Building wheels for collected packages: python-louvain\n",
      "  Building wheel for python-louvain (setup.py): started\n",
      "  Building wheel for python-louvain (setup.py): finished with status 'done'\n",
      "  Created wheel for python-louvain: filename=python_louvain-0.15-py3-none-any.whl size=9401 sha256=2edc69bd42076d75af7114ca1b241d122584f6f1014b508be4c8662ca71b325f\n",
      "  Stored in directory: c:\\users\\fourr\\appdata\\local\\pip\\cache\\wheels\\c8\\68\\21\\d04741956802581119d875a0d9fce6895e8f9ffae71223f3e3\n",
      "Successfully built python-louvain\n",
      "Installing collected packages: python-louvain\n",
      "Successfully installed python-louvain-0.15\n",
      "Note: you may need to restart the kernel to use updated packages.\n"
     ]
    }
   ],
   "source": [
    "pip install python-louvain"
   ]
  },
  {
   "cell_type": "code",
   "execution_count": 57,
   "id": "4bb2eca2",
   "metadata": {},
   "outputs": [],
   "source": [
    "from community import community_louvain\n",
    "communities = community_louvain.best_partition(G_lfr_3)"
   ]
  },
  {
   "cell_type": "code",
   "execution_count": 58,
   "id": "0b38d772",
   "metadata": {},
   "outputs": [
    {
     "data": {
      "text/plain": [
       "dict"
      ]
     },
     "execution_count": 58,
     "metadata": {},
     "output_type": "execute_result"
    }
   ],
   "source": [
    "type(communities)"
   ]
  },
  {
   "cell_type": "code",
   "execution_count": 66,
   "id": "f492d9b3",
   "metadata": {},
   "outputs": [
    {
     "data": {
      "text/plain": [
       "100"
      ]
     },
     "execution_count": 66,
     "metadata": {},
     "output_type": "execute_result"
    }
   ],
   "source": [
    "len(communities.values())"
   ]
  },
  {
   "cell_type": "code",
   "execution_count": 69,
   "id": "faf35108",
   "metadata": {},
   "outputs": [
    {
     "data": {
      "text/plain": [
       "5"
      ]
     },
     "execution_count": 69,
     "metadata": {},
     "output_type": "execute_result"
    }
   ],
   "source": [
    "c = set(val for val in list(communities.values()))\n",
    "len(c)"
   ]
  },
  {
   "cell_type": "code",
   "execution_count": 60,
   "id": "6fc6527c",
   "metadata": {},
   "outputs": [
    {
     "data": {
      "text/plain": [
       "dict_keys([0, 1, 2, 3, 4, 5, 6, 7, 8, 9, 10, 11, 12, 13, 14, 15, 16, 17, 18, 19, 20, 21, 22, 23, 24, 25, 26, 27, 28, 29, 30, 31, 32, 33, 34, 35, 36, 37, 38, 39, 40, 41, 42, 43, 44, 45, 46, 47, 48, 49, 50, 51, 52, 53, 54, 55, 56, 57, 58, 59, 60, 61, 62, 63, 64, 65, 66, 67, 68, 69, 70, 71, 72, 73, 74, 75, 76, 77, 78, 79, 80, 81, 82, 83, 84, 85, 86, 87, 88, 89, 90, 91, 92, 93, 94, 95, 96, 97, 98, 99])"
      ]
     },
     "execution_count": 60,
     "metadata": {},
     "output_type": "execute_result"
    }
   ],
   "source": [
    "communities.keys()"
   ]
  },
  {
   "cell_type": "code",
   "execution_count": 61,
   "id": "8eb1606b",
   "metadata": {},
   "outputs": [
    {
     "data": {
      "text/plain": [
       "dict_values([1, 2, 4, 0, 1, 3, 3, 2, 1, 1, 0, 0, 3, 2, 4, 2, 4, 3, 3, 3, 3, 4, 4, 1, 4, 4, 0, 3, 0, 2, 0, 2, 2, 3, 2, 3, 0, 1, 2, 3, 1, 1, 2, 4, 4, 3, 1, 2, 1, 2, 0, 1, 2, 0, 2, 1, 4, 3, 1, 0, 1, 2, 2, 0, 2, 1, 2, 2, 0, 1, 1, 2, 3, 1, 1, 4, 1, 2, 4, 4, 3, 3, 1, 0, 2, 2, 1, 3, 3, 0, 1, 1, 4, 2, 4, 0, 1, 1, 1, 0])"
      ]
     },
     "execution_count": 61,
     "metadata": {},
     "output_type": "execute_result"
    }
   ],
   "source": [
    "communities.values()"
   ]
  },
  {
   "cell_type": "code",
   "execution_count": null,
   "id": "9a401df0",
   "metadata": {},
   "outputs": [],
   "source": []
  }
 ],
 "metadata": {
  "kernelspec": {
   "display_name": "Python 3",
   "language": "python",
   "name": "python3"
  },
  "language_info": {
   "codemirror_mode": {
    "name": "ipython",
    "version": 3
   },
   "file_extension": ".py",
   "mimetype": "text/x-python",
   "name": "python",
   "nbconvert_exporter": "python",
   "pygments_lexer": "ipython3",
   "version": "3.8.8"
  }
 },
 "nbformat": 4,
 "nbformat_minor": 5
}
