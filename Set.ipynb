{
 "cells": [
  {
   "cell_type": "code",
   "execution_count": 1,
   "id": "0ab814dc",
   "metadata": {},
   "outputs": [
    {
     "data": {
      "text/plain": [
       "{1, 2, 3, 4, 5, 6}"
      ]
     },
     "execution_count": 1,
     "metadata": {},
     "output_type": "execute_result"
    }
   ],
   "source": [
    "#Sets are used to store multiple items in a single variable\n",
    "#A set is a collection which is both unordered and unindexed\n",
    "#Set items are unordered, unchangeable, and do not allow duplicate values.\n",
    "set_1 = {1,1,1,2,3,3,3,4,5,5,6,6}\n",
    "set_1"
   ]
  },
  {
   "cell_type": "code",
   "execution_count": 4,
   "id": "ef7a4d62",
   "metadata": {},
   "outputs": [
    {
     "name": "stdout",
     "output_type": "stream",
     "text": [
      "[1, 1, 1, 2, 3, 3, 3, 4, 5, 5, 6, 6]\n",
      "[1, 2, 3, 4, 5, 6]\n"
     ]
    }
   ],
   "source": [
    "#if you want to list without any duplicate, use set like this\n",
    "list_1 = [1,1,1,2,3,3,3,4,5,5,6,6]\n",
    "print(list_1)\n",
    "set_01 = set(list_1)\n",
    "list_1 = list(set_01)\n",
    "print(list_1)"
   ]
  },
  {
   "cell_type": "code",
   "execution_count": 5,
   "id": "c31a41f5",
   "metadata": {},
   "outputs": [
    {
     "data": {
      "text/plain": [
       "{2, 4, 7, 8, 9}"
      ]
     },
     "execution_count": 5,
     "metadata": {},
     "output_type": "execute_result"
    }
   ],
   "source": [
    "set_2 = {2,4,7,7,7,8,8,8,9,9}\n",
    "set_2"
   ]
  },
  {
   "cell_type": "code",
   "execution_count": 6,
   "id": "ee068774",
   "metadata": {},
   "outputs": [
    {
     "data": {
      "text/plain": [
       "{2, 4}"
      ]
     },
     "execution_count": 6,
     "metadata": {},
     "output_type": "execute_result"
    }
   ],
   "source": [
    "#you can retrive comman item of both set\n",
    "set_1 & set_2"
   ]
  },
  {
   "cell_type": "code",
   "execution_count": 7,
   "id": "9ac8ed40",
   "metadata": {},
   "outputs": [
    {
     "name": "stdout",
     "output_type": "stream",
     "text": [
      "{1, 2, 3, 4, 5, 6, 7, 8, 9}\n"
     ]
    }
   ],
   "source": [
    "#you can also create union of two set, but duplicate values are removed\n",
    "set_3 = set_1.union(set_2)\n",
    "print(set_3)"
   ]
  },
  {
   "cell_type": "code",
   "execution_count": 8,
   "id": "f6800a74",
   "metadata": {},
   "outputs": [
    {
     "data": {
      "text/plain": [
       "9"
      ]
     },
     "execution_count": 8,
     "metadata": {},
     "output_type": "execute_result"
    }
   ],
   "source": [
    "#To determine how many items a set has, use the len() method.\n",
    "len(set_3)"
   ]
  },
  {
   "cell_type": "code",
   "execution_count": 9,
   "id": "d9fe9fe9",
   "metadata": {},
   "outputs": [
    {
     "name": "stdout",
     "output_type": "stream",
     "text": [
      "{1, 2, 3.14, 'eli', 'reza', 'ali'}\n"
     ]
    }
   ],
   "source": [
    "#A set can contain different data types\n",
    "set_4 = {\"reza\",1,\"ali\",2,\"eli\",3.14}\n",
    "print(set_4)"
   ]
  },
  {
   "cell_type": "code",
   "execution_count": 10,
   "id": "42660a6a",
   "metadata": {},
   "outputs": [
    {
     "data": {
      "text/plain": [
       "set"
      ]
     },
     "execution_count": 10,
     "metadata": {},
     "output_type": "execute_result"
    }
   ],
   "source": [
    "#From Python's perspective, sets are defined as objects with the data type 'set'\n",
    "type(set_4)"
   ]
  },
  {
   "cell_type": "code",
   "execution_count": 11,
   "id": "7e65a72a",
   "metadata": {},
   "outputs": [
    {
     "name": "stdout",
     "output_type": "stream",
     "text": [
      "True\n"
     ]
    }
   ],
   "source": [
    "#You cannot access items in a set by referring to an index or a key\n",
    "print(\"reza\" in set_4)"
   ]
  },
  {
   "cell_type": "code",
   "execution_count": 12,
   "id": "7787bc5b",
   "metadata": {},
   "outputs": [
    {
     "data": {
      "text/plain": [
       "False"
      ]
     },
     "execution_count": 12,
     "metadata": {},
     "output_type": "execute_result"
    }
   ],
   "source": [
    "\"raheleh\" in set_4"
   ]
  },
  {
   "cell_type": "code",
   "execution_count": 13,
   "id": "bc87ee0a",
   "metadata": {},
   "outputs": [
    {
     "data": {
      "text/plain": [
       "True"
      ]
     },
     "execution_count": 13,
     "metadata": {},
     "output_type": "execute_result"
    }
   ],
   "source": [
    "#Once a set is created, you cannot change its items, but you can add new items.\n",
    "#To add one item to a set use the add() method.\n",
    "set_4.add(\"raheleh\")\n",
    "\"raheleh\" in set_4"
   ]
  },
  {
   "cell_type": "code",
   "execution_count": 17,
   "id": "61b6a15a",
   "metadata": {},
   "outputs": [
    {
     "name": "stdout",
     "output_type": "stream",
     "text": [
      "{1, 2, 3.14, 3, 4, 5, 6, 7, 8, 9, 'reza', 'ali', 'raheleh', 'eli'}\n"
     ]
    }
   ],
   "source": [
    "#To add items from another set into the current set, use the update() method\n",
    "set_4.update(set_3)\n",
    "print(set_4)\n",
    "#Both union() and update() will exclude any duplicate items."
   ]
  },
  {
   "cell_type": "code",
   "execution_count": 18,
   "id": "3db535c5",
   "metadata": {},
   "outputs": [
    {
     "data": {
      "text/plain": [
       "False"
      ]
     },
     "execution_count": 18,
     "metadata": {},
     "output_type": "execute_result"
    }
   ],
   "source": [
    "#To remove an item in a set, use the remove(), or the discard() method.\n",
    "set_4.remove(\"ali\")\n",
    "\"ali\" in set_4"
   ]
  },
  {
   "cell_type": "code",
   "execution_count": 19,
   "id": "5ca72f8b",
   "metadata": {},
   "outputs": [
    {
     "data": {
      "text/plain": [
       "False"
      ]
     },
     "execution_count": 19,
     "metadata": {},
     "output_type": "execute_result"
    }
   ],
   "source": [
    "set_4.discard(9)\n",
    "9 in set_4\n",
    "#If the item to remove does not exist, discard() will NOT raise an error."
   ]
  },
  {
   "cell_type": "code",
   "execution_count": 20,
   "id": "782ecf17",
   "metadata": {},
   "outputs": [
    {
     "name": "stdout",
     "output_type": "stream",
     "text": [
      "set()\n"
     ]
    }
   ],
   "source": [
    "#The clear() method empties the set\n",
    "set_4.clear()\n",
    "print(set_4)"
   ]
  },
  {
   "cell_type": "code",
   "execution_count": 21,
   "id": "f71d3f9e",
   "metadata": {},
   "outputs": [
    {
     "ename": "NameError",
     "evalue": "name 'set_4' is not defined",
     "output_type": "error",
     "traceback": [
      "\u001b[1;31m---------------------------------------------------------------------------\u001b[0m",
      "\u001b[1;31mNameError\u001b[0m                                 Traceback (most recent call last)",
      "\u001b[1;32m<ipython-input-21-ab3d555155db>\u001b[0m in \u001b[0;36m<module>\u001b[1;34m\u001b[0m\n\u001b[0;32m      1\u001b[0m \u001b[1;31m#The del keyword will delete the set completely\u001b[0m\u001b[1;33m\u001b[0m\u001b[1;33m\u001b[0m\u001b[1;33m\u001b[0m\u001b[0m\n\u001b[0;32m      2\u001b[0m \u001b[1;32mdel\u001b[0m \u001b[0mset_4\u001b[0m\u001b[1;33m\u001b[0m\u001b[1;33m\u001b[0m\u001b[0m\n\u001b[1;32m----> 3\u001b[1;33m \u001b[0mprint\u001b[0m\u001b[1;33m(\u001b[0m\u001b[0mset_4\u001b[0m\u001b[1;33m)\u001b[0m\u001b[1;33m\u001b[0m\u001b[1;33m\u001b[0m\u001b[0m\n\u001b[0m",
      "\u001b[1;31mNameError\u001b[0m: name 'set_4' is not defined"
     ]
    }
   ],
   "source": [
    "#The del keyword will delete the set completely\n",
    "del set_4\n",
    "print(set_4)"
   ]
  },
  {
   "cell_type": "code",
   "execution_count": 22,
   "id": "59b69919",
   "metadata": {},
   "outputs": [
    {
     "name": "stdout",
     "output_type": "stream",
     "text": [
      "{2, 4}\n"
     ]
    }
   ],
   "source": [
    "#The intersection_update() method will keep only the items that are present in both sets.\n",
    "set_1.intersection_update(set_2)\n",
    "print(set_1)"
   ]
  },
  {
   "cell_type": "code",
   "execution_count": 26,
   "id": "08b02c8a",
   "metadata": {},
   "outputs": [
    {
     "name": "stdout",
     "output_type": "stream",
     "text": [
      "set1:  {1, 2}\n",
      "set3:  {1, 2}\n"
     ]
    }
   ],
   "source": [
    "#The intersection() method will return a new set, \n",
    "#that only contains the items that are present in both sets\n",
    "set_1 = {1,2,3}\n",
    "set_2 = {1,2,4}\n",
    "set_3 = set_1.intersection(set_2)\n",
    "set_1.intersection_update(set_2)\n",
    "print(\"set1: \",set_1)\n",
    "print(\"set3: \",set_3)\n",
    "#intersection_update don't return any set"
   ]
  },
  {
   "cell_type": "code",
   "execution_count": 28,
   "id": "f2f04a3f",
   "metadata": {},
   "outputs": [
    {
     "name": "stdout",
     "output_type": "stream",
     "text": [
      "{1, 2}\n",
      "{1, 2, 4}\n",
      "{4}\n"
     ]
    }
   ],
   "source": [
    "#The symmetric_difference_update() method will keep only \n",
    "#the elements that are NOT present in both sets.\n",
    "print(set_1)\n",
    "print(set_2)\n",
    "set_2.symmetric_difference_update(set_1)\n",
    "print(set_2)"
   ]
  },
  {
   "cell_type": "code",
   "execution_count": 29,
   "id": "466b942c",
   "metadata": {},
   "outputs": [
    {
     "name": "stdout",
     "output_type": "stream",
     "text": [
      "{1, 2}\n",
      "{4}\n",
      "{1, 2, 4}\n"
     ]
    }
   ],
   "source": [
    "#The symmetric_difference() method will return a new set, \n",
    "#that contains only the elements that are NOT present in both sets.\n",
    "print(set_1)\n",
    "print(set_2)\n",
    "set_3 = set_1.symmetric_difference(set_2)\n",
    "print(set_3)"
   ]
  },
  {
   "cell_type": "code",
   "execution_count": 30,
   "id": "95e129fb",
   "metadata": {},
   "outputs": [
    {
     "name": "stdout",
     "output_type": "stream",
     "text": [
      "{1, 2}\n"
     ]
    }
   ],
   "source": [
    "set_2 = set_1\n",
    "print(set_2)"
   ]
  },
  {
   "cell_type": "code",
   "execution_count": 31,
   "id": "9ffc4846",
   "metadata": {},
   "outputs": [
    {
     "name": "stdout",
     "output_type": "stream",
     "text": [
      "{1, 2, 4}\n"
     ]
    }
   ],
   "source": [
    "set_2 = set_3.copy()\n",
    "print(set_2)"
   ]
  },
  {
   "cell_type": "code",
   "execution_count": 32,
   "id": "c137b0c4",
   "metadata": {},
   "outputs": [
    {
     "name": "stdout",
     "output_type": "stream",
     "text": [
      "{2, 3}\n"
     ]
    }
   ],
   "source": [
    "#Return a set that contains the items that only exist in set x, and not in set y:\n",
    "x = {1,2,3}\n",
    "y = {-1,0,1}\n",
    "\n",
    "z = x.difference(y)\n",
    "\n",
    "print(z)"
   ]
  },
  {
   "cell_type": "code",
   "execution_count": 34,
   "id": "402b394b",
   "metadata": {},
   "outputs": [
    {
     "name": "stdout",
     "output_type": "stream",
     "text": [
      "True\n"
     ]
    }
   ],
   "source": [
    "#The isdisjoint() method returns True if none of the items are present in both sets, \n",
    "#otherwise it returns False.\n",
    "x = {1,2,3}\n",
    "y = {-1,-2,-3}\n",
    "\n",
    "z = x.isdisjoint(y)\n",
    "\n",
    "print(z)"
   ]
  },
  {
   "cell_type": "code",
   "execution_count": 37,
   "id": "81a0177d",
   "metadata": {},
   "outputs": [
    {
     "name": "stdout",
     "output_type": "stream",
     "text": [
      "True\n",
      "True\n"
     ]
    }
   ],
   "source": [
    "#The issubset() method returns True if all items in the set exists in the specified set, \n",
    "#otherwise it retuns False.\n",
    "x = {\"a\", \"b\", \"c\"}\n",
    "y = {\"f\", \"e\", \"d\", \"c\", \"b\", \"a\"}\n",
    "\n",
    "z = x.issubset(y)\n",
    "\n",
    "print(z)\n",
    "#The issuperset() method returns True if all items in the specified set exists in the original set, \n",
    "#otherwise it retuns False.\n",
    "z = y.issuperset(x)\n",
    "\n",
    "print(z)"
   ]
  }
 ],
 "metadata": {
  "kernelspec": {
   "display_name": "Python 3",
   "language": "python",
   "name": "python3"
  },
  "language_info": {
   "codemirror_mode": {
    "name": "ipython",
    "version": 3
   },
   "file_extension": ".py",
   "mimetype": "text/x-python",
   "name": "python",
   "nbconvert_exporter": "python",
   "pygments_lexer": "ipython3",
   "version": "3.8.8"
  }
 },
 "nbformat": 4,
 "nbformat_minor": 5
}
