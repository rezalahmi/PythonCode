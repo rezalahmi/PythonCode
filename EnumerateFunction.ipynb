{
 "cells": [
  {
   "cell_type": "code",
   "execution_count": 1,
   "id": "294e04ee",
   "metadata": {},
   "outputs": [
    {
     "name": "stdout",
     "output_type": "stream",
     "text": [
      "0 reza\n",
      "1 raheleh\n",
      "2 eli\n",
      "3 emad\n",
      "4 sadra\n",
      "5 taha\n"
     ]
    }
   ],
   "source": [
    "#if you want to have iterator on list, etc, you can use enumerate function like this\n",
    "my_list = [\"reza\",\"raheleh\",\"eli\",\"emad\",\"sadra\",\"taha\"]\n",
    "for i,item in enumerate(my_list):\n",
    "    print(i,item)"
   ]
  },
  {
   "cell_type": "code",
   "execution_count": 2,
   "id": "b1bfbb7f",
   "metadata": {},
   "outputs": [
    {
     "name": "stdout",
     "output_type": "stream",
     "text": [
      "reza _ 62 _ 38\n",
      "raheleh _ 62 _ 38\n",
      "parisa _ 61 _ 39\n",
      "eli _ 59 _ 41\n"
     ]
    }
   ],
   "source": [
    "#if you have item like tuple with three elment in each item, you can use three iterator in the for\n",
    "#like here\n",
    "my_list = (\"reza\",62,38),(\"raheleh\",62,38),(\"parisa\",61,39),(\"eli\",59,41)]\n",
    "for i,j,k in my_list:\n",
    "    print(i,\"_\",j,\"_\",k)"
   ]
  },
  {
   "cell_type": "code",
   "execution_count": 5,
   "id": "8b9acf1e",
   "metadata": {},
   "outputs": [
    {
     "name": "stdout",
     "output_type": "stream",
     "text": [
      "reza\n",
      "raheleh\n",
      "parisa\n",
      "eli\n"
     ]
    }
   ],
   "source": [
    "#if you run one iterator on dictunary, iterator operate like keys\n",
    "my_dic = {\"reza\":62,\"raheleh\":62,\"parisa\":61,\"eli\":59}\n",
    "for i in my_dic:\n",
    "    print(i)"
   ]
  },
  {
   "cell_type": "code",
   "execution_count": 6,
   "id": "015be3ee",
   "metadata": {},
   "outputs": [
    {
     "name": "stdout",
     "output_type": "stream",
     "text": [
      "('reza', 62)\n",
      "('raheleh', 62)\n",
      "('parisa', 61)\n",
      "('eli', 59)\n"
     ]
    }
   ],
   "source": [
    "#if you want to access items of dictunary, use items\n",
    "my_dic = {\"reza\":62,\"raheleh\":62,\"parisa\":61,\"eli\":59}\n",
    "for i in my_dic.items():\n",
    "    print(i)"
   ]
  },
  {
   "cell_type": "code",
   "execution_count": 10,
   "id": "b39560e2",
   "metadata": {},
   "outputs": [
    {
     "name": "stdout",
     "output_type": "stream",
     "text": [
      "reza have 38  years old\n",
      "raheleh have 38  years old\n",
      "parisa have 39  years old\n",
      "eli have 41  years old\n"
     ]
    }
   ],
   "source": [
    "my_dic = {\"reza\":62,\"raheleh\":62,\"parisa\":61,\"eli\":59}\n",
    "items = my_dic.items()\n",
    "for i,j in items:\n",
    "    print(i, \"have\", 100 - j,\" years old\")"
   ]
  },
  {
   "cell_type": "code",
   "execution_count": 11,
   "id": "0bd91222",
   "metadata": {},
   "outputs": [
    {
     "name": "stdout",
     "output_type": "stream",
     "text": [
      "reza have 38  years old\n",
      "raheleh have 38  years old\n",
      "parisa have 39  years old\n",
      "eli have 41  years old\n"
     ]
    }
   ],
   "source": [
    "my_dic = {\"reza\":62,\"raheleh\":62,\"parisa\":61,\"eli\":59}\n",
    "for i in my_dic:\n",
    "    print(i, \"have\", 100 - my_dic[i],\" years old\")"
   ]
  },
  {
   "cell_type": "code",
   "execution_count": 13,
   "id": "009bf13b",
   "metadata": {},
   "outputs": [
    {
     "name": "stdout",
     "output_type": "stream",
     "text": [
      "[1, 2, 3, 4, 5, 6, 7, 8, 9, 10]\n"
     ]
    }
   ],
   "source": [
    "#comprehension\n",
    "first_list = range(0,10)\n",
    "result_list = [i+1 for i in first_list]\n",
    "print(result_list)"
   ]
  },
  {
   "cell_type": "code",
   "execution_count": 15,
   "id": "54a3d17c",
   "metadata": {},
   "outputs": [
    {
     "name": "stdout",
     "output_type": "stream",
     "text": [
      "[1, 2, 3, 4, 5, 6, 7, 8, 9, 10]\n"
     ]
    }
   ],
   "source": [
    "my_list = [i+1 for i in range(0,10)]\n",
    "print(my_list)"
   ]
  },
  {
   "cell_type": "code",
   "execution_count": 16,
   "id": "460c6ef6",
   "metadata": {},
   "outputs": [
    {
     "name": "stdout",
     "output_type": "stream",
     "text": [
      "[2, 4, 6, 8, 10]\n"
     ]
    }
   ],
   "source": [
    "my_list = [i+1 for i in range(0,10) if i%2 != 0]\n",
    "print(my_list)"
   ]
  },
  {
   "cell_type": "code",
   "execution_count": 17,
   "id": "efb83c72",
   "metadata": {},
   "outputs": [
    {
     "name": "stdout",
     "output_type": "stream",
     "text": [
      "[2280000, 1026000, 524400, 1527600]\n"
     ]
    }
   ],
   "source": [
    "dollar_list = [100,45,23,67]\n",
    "riall_list = [i * 22800 for i in dollar_list]\n",
    "print(riall_list)"
   ]
  },
  {
   "cell_type": "code",
   "execution_count": 18,
   "id": "15b7c4f1",
   "metadata": {},
   "outputs": [
    {
     "name": "stdout",
     "output_type": "stream",
     "text": [
      "[2, 8, 14, 20]\n"
     ]
    }
   ],
   "source": [
    "my_list = [j*2 for j in[i+1 for i in range(0,10) if i%3==0]]\n",
    "print(my_list)"
   ]
  },
  {
   "cell_type": "code",
   "execution_count": 20,
   "id": "7e743d8f",
   "metadata": {},
   "outputs": [
    {
     "name": "stdout",
     "output_type": "stream",
     "text": [
      "[-9, -18, -27, -36, -45]\n"
     ]
    }
   ],
   "source": [
    "#zip function allow you to have corresponding element in list\n",
    "first_list = [1,2,3,4,5]\n",
    "second_list = [10,20,30,40,50]\n",
    "result = [i-j for i,j in zip(first_list,second_list)]\n",
    "print(result)"
   ]
  },
  {
   "cell_type": "code",
   "execution_count": null,
   "id": "82524228",
   "metadata": {},
   "outputs": [],
   "source": []
  }
 ],
 "metadata": {
  "kernelspec": {
   "display_name": "Python 3",
   "language": "python",
   "name": "python3"
  },
  "language_info": {
   "codemirror_mode": {
    "name": "ipython",
    "version": 3
   },
   "file_extension": ".py",
   "mimetype": "text/x-python",
   "name": "python",
   "nbconvert_exporter": "python",
   "pygments_lexer": "ipython3",
   "version": "3.8.8"
  }
 },
 "nbformat": 4,
 "nbformat_minor": 5
}
