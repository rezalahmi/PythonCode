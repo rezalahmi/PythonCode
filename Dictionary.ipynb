{
 "cells": [
  {
   "cell_type": "code",
   "execution_count": 1,
   "id": "bfa3b2b1",
   "metadata": {},
   "outputs": [
    {
     "data": {
      "text/plain": [
       "{'k1': 1, 'k2': 2, 'k3': 3}"
      ]
     },
     "execution_count": 1,
     "metadata": {},
     "output_type": "execute_result"
    }
   ],
   "source": [
    "#Dictionaries are used to store data values in key:value pairs.\n",
    "#A dictionary is a collection which is ordered*, changeable and does not allow duplicates.\n",
    "dic_1 = {\"k1\":1,\"k2\":2,\"k3\":3}\n",
    "dic_1"
   ]
  },
  {
   "cell_type": "code",
   "execution_count": 2,
   "id": "e7513eee",
   "metadata": {},
   "outputs": [
    {
     "data": {
      "text/plain": [
       "2"
      ]
     },
     "execution_count": 2,
     "metadata": {},
     "output_type": "execute_result"
    }
   ],
   "source": [
    "dic_1[\"k2\"]"
   ]
  },
  {
   "cell_type": "code",
   "execution_count": 4,
   "id": "923e0b9f",
   "metadata": {},
   "outputs": [
    {
     "data": {
      "text/plain": [
       "5"
      ]
     },
     "execution_count": 4,
     "metadata": {},
     "output_type": "execute_result"
    }
   ],
   "source": [
    "dic_1[\"k2\"]+3"
   ]
  },
  {
   "cell_type": "code",
   "execution_count": 5,
   "id": "4ee8eb72",
   "metadata": {},
   "outputs": [
    {
     "data": {
      "text/plain": [
       "4"
      ]
     },
     "execution_count": 5,
     "metadata": {},
     "output_type": "execute_result"
    }
   ],
   "source": [
    "#changeable\n",
    "dic_1[\"k3\"]=4\n",
    "dic_1[\"k3\"]"
   ]
  },
  {
   "cell_type": "code",
   "execution_count": 6,
   "id": "4b396b50",
   "metadata": {},
   "outputs": [
    {
     "name": "stdout",
     "output_type": "stream",
     "text": [
      "{'k1': 1, 'k2': 2, 'k3': 4, 'k4': 4}\n"
     ]
    }
   ],
   "source": [
    "#add new key:value to dictionary\n",
    "dic_1[\"k4\"] = 4\n",
    "print(dic_1)"
   ]
  },
  {
   "cell_type": "code",
   "execution_count": 7,
   "id": "9e747436",
   "metadata": {},
   "outputs": [
    {
     "name": "stdout",
     "output_type": "stream",
     "text": [
      "4\n"
     ]
    }
   ],
   "source": [
    "#To determine how many items a dictionary has, use the len() function\n",
    "print(len(dic_1))"
   ]
  },
  {
   "cell_type": "code",
   "execution_count": 8,
   "id": "ccdc6410",
   "metadata": {},
   "outputs": [
    {
     "data": {
      "text/plain": [
       "dict"
      ]
     },
     "execution_count": 8,
     "metadata": {},
     "output_type": "execute_result"
    }
   ],
   "source": [
    "#From Python's perspective, dictionaries are defined as objects with the data type 'dict'\n",
    "type(dic_1)"
   ]
  },
  {
   "cell_type": "code",
   "execution_count": 12,
   "id": "0e221980",
   "metadata": {},
   "outputs": [
    {
     "data": {
      "text/plain": [
       "dict_keys(['k1', 'k2', 'k3', 'k4'])"
      ]
     },
     "execution_count": 12,
     "metadata": {},
     "output_type": "execute_result"
    }
   ],
   "source": [
    "#The keys() method will return a list of all the keys in the dictionary.\n",
    "dic_1.keys()"
   ]
  },
  {
   "cell_type": "code",
   "execution_count": 13,
   "id": "45fcf50d",
   "metadata": {},
   "outputs": [
    {
     "data": {
      "text/plain": [
       "dict_values([1, 2, 4, 4])"
      ]
     },
     "execution_count": 13,
     "metadata": {},
     "output_type": "execute_result"
    }
   ],
   "source": [
    "#The values() method will return a list of all the values in the dictionary.\n",
    "dic_1.values()"
   ]
  },
  {
   "cell_type": "code",
   "execution_count": 15,
   "id": "65566471",
   "metadata": {},
   "outputs": [
    {
     "data": {
      "text/plain": [
       "1"
      ]
     },
     "execution_count": 15,
     "metadata": {},
     "output_type": "execute_result"
    }
   ],
   "source": [
    "#There is also a method called get() that will give you the same result:\n",
    "dic_1.get(\"k1\")"
   ]
  },
  {
   "cell_type": "code",
   "execution_count": 16,
   "id": "d6013b04",
   "metadata": {},
   "outputs": [
    {
     "data": {
      "text/plain": [
       "dict_items([('k1', 1), ('k2', 2), ('k3', 4), ('k4', 4)])"
      ]
     },
     "execution_count": 16,
     "metadata": {},
     "output_type": "execute_result"
    }
   ],
   "source": [
    "#The items() method will return each item in a dictionary, as tuples in a list.\n",
    "dic_1.items()"
   ]
  },
  {
   "cell_type": "code",
   "execution_count": 17,
   "id": "75cd2338",
   "metadata": {},
   "outputs": [
    {
     "name": "stdout",
     "output_type": "stream",
     "text": [
      "yes\n"
     ]
    }
   ],
   "source": [
    "if \"k1\" in dic_1:\n",
    "    print(\"yes\")"
   ]
  },
  {
   "cell_type": "code",
   "execution_count": 18,
   "id": "69e2235f",
   "metadata": {},
   "outputs": [
    {
     "name": "stdout",
     "output_type": "stream",
     "text": [
      "dict_values([1, 2, 4, 4])\n",
      "dict_values([1, 2, 4, 4, 5])\n"
     ]
    }
   ],
   "source": [
    "#The returned list is a view of the items(key or values or key:value) of the dictionary, meaning that \n",
    "#any changes done to the dictionary will be reflected in the items list.\n",
    "value_dic = dic_1.values()\n",
    "print(value_dic)\n",
    "dic_1[\"k5\"]=5\n",
    "print(value_dic)"
   ]
  },
  {
   "cell_type": "code",
   "execution_count": 20,
   "id": "833d7057",
   "metadata": {},
   "outputs": [
    {
     "data": {
      "text/plain": [
       "{'k1': 1, 'k2': 2, 'k3': 3, 'k4': 4, 'k5': 5}"
      ]
     },
     "execution_count": 20,
     "metadata": {},
     "output_type": "execute_result"
    }
   ],
   "source": [
    "#The update() method will update the dictionary with the items from the given argument.\n",
    "#The argument must be a dictionary, or an iterable object with key:value pairs.\n",
    "dic_1.update({\"k3\":3})\n",
    "dic_1"
   ]
  },
  {
   "cell_type": "code",
   "execution_count": 21,
   "id": "11b2b8c0",
   "metadata": {},
   "outputs": [
    {
     "data": {
      "text/plain": [
       "5"
      ]
     },
     "execution_count": 21,
     "metadata": {},
     "output_type": "execute_result"
    }
   ],
   "source": [
    "#The pop() method removes the item with the specified key name\n",
    "x = dic_1.pop(\"k5\")\n",
    "x"
   ]
  },
  {
   "cell_type": "code",
   "execution_count": 22,
   "id": "789c6fc9",
   "metadata": {},
   "outputs": [
    {
     "data": {
      "text/plain": [
       "('k4', 4)"
      ]
     },
     "execution_count": 22,
     "metadata": {},
     "output_type": "execute_result"
    }
   ],
   "source": [
    "#The popitem() method removes the last inserted item\n",
    "x = dic_1.popitem()\n",
    "x"
   ]
  },
  {
   "cell_type": "code",
   "execution_count": 26,
   "id": "bdd9885f",
   "metadata": {},
   "outputs": [],
   "source": [
    "#The del keyword removes the item with the specified key name\n",
    "del dic_1[\"k3\"]"
   ]
  },
  {
   "cell_type": "code",
   "execution_count": 27,
   "id": "beafb9a0",
   "metadata": {},
   "outputs": [
    {
     "data": {
      "text/plain": [
       "{'k1': 1, 'k2': 2}"
      ]
     },
     "execution_count": 27,
     "metadata": {},
     "output_type": "execute_result"
    }
   ],
   "source": [
    "dic_1"
   ]
  },
  {
   "cell_type": "code",
   "execution_count": 28,
   "id": "6e321bc0",
   "metadata": {},
   "outputs": [
    {
     "name": "stdout",
     "output_type": "stream",
     "text": [
      "{}\n"
     ]
    }
   ],
   "source": [
    "#The clear() method empties the dictionary\n",
    "dic_1.clear()\n",
    "print(dic_1)"
   ]
  },
  {
   "cell_type": "code",
   "execution_count": 29,
   "id": "30f76e22",
   "metadata": {},
   "outputs": [
    {
     "data": {
      "text/plain": [
       "{'k1': 1, 'k2': 2, 'k3': 3}"
      ]
     },
     "execution_count": 29,
     "metadata": {},
     "output_type": "execute_result"
    }
   ],
   "source": [
    "#Make a copy of a dictionary with the copy() method\n",
    "dic_1 = {\"k1\":1,\"k2\":2,\"k3\":3}\n",
    "dic_2 = dic_1.copy()\n",
    "dic_2"
   ]
  },
  {
   "cell_type": "code",
   "execution_count": 31,
   "id": "72ffa4d1",
   "metadata": {},
   "outputs": [
    {
     "data": {
      "text/plain": [
       "{'k1': 1, 'k2': 2, 'k3': 3}"
      ]
     },
     "execution_count": 31,
     "metadata": {},
     "output_type": "execute_result"
    }
   ],
   "source": [
    "#Another way to make a copy is to use the built-in function dict()\n",
    "dic_3 = dict(dic_2)\n",
    "dic_3"
   ]
  },
  {
   "cell_type": "code",
   "execution_count": 32,
   "id": "490e6bf8",
   "metadata": {},
   "outputs": [
    {
     "data": {
      "text/plain": [
       "{'k1': 1, 'k2': 2, 'k3': 3, 'k4': {'l1': 5, 'l2': 6}}"
      ]
     },
     "execution_count": 32,
     "metadata": {},
     "output_type": "execute_result"
    }
   ],
   "source": [
    "#nested Dictionary:A dictionary can contain dictionaries, this is called nested dictionaries.\n",
    "dic_4 = {\"k1\":1,\"k2\":2,\"k3\":3,\"k4\":{\"l1\":5,\"l2\":6}}\n",
    "dic_4"
   ]
  },
  {
   "cell_type": "code",
   "execution_count": 33,
   "id": "54799061",
   "metadata": {},
   "outputs": [
    {
     "data": {
      "text/plain": [
       "{'l1': 5, 'l2': 6}"
      ]
     },
     "execution_count": 33,
     "metadata": {},
     "output_type": "execute_result"
    }
   ],
   "source": [
    "dic_4[\"k4\"]"
   ]
  },
  {
   "cell_type": "code",
   "execution_count": 34,
   "id": "00b7b090",
   "metadata": {},
   "outputs": [
    {
     "data": {
      "text/plain": [
       "5"
      ]
     },
     "execution_count": 34,
     "metadata": {},
     "output_type": "execute_result"
    }
   ],
   "source": [
    "dic_4[\"k4\"][\"l1\"]"
   ]
  },
  {
   "cell_type": "code",
   "execution_count": 36,
   "id": "284c9e41",
   "metadata": {},
   "outputs": [
    {
     "data": {
      "text/plain": [
       "{'k1': 1, 'k2': 1, 'k3': 1}"
      ]
     },
     "execution_count": 36,
     "metadata": {},
     "output_type": "execute_result"
    }
   ],
   "source": [
    "#The fromkeys() method returns a dictionary with the specified keys and the specified value.\n",
    "k = (\"k1\",\"k2\",\"k3\")\n",
    "v = 1\n",
    "dic_5 = dict.fromkeys(k,v)\n",
    "dic_5"
   ]
  },
  {
   "cell_type": "code",
   "execution_count": null,
   "id": "71cf575c",
   "metadata": {},
   "outputs": [],
   "source": []
  }
 ],
 "metadata": {
  "kernelspec": {
   "display_name": "Python 3",
   "language": "python",
   "name": "python3"
  },
  "language_info": {
   "codemirror_mode": {
    "name": "ipython",
    "version": 3
   },
   "file_extension": ".py",
   "mimetype": "text/x-python",
   "name": "python",
   "nbconvert_exporter": "python",
   "pygments_lexer": "ipython3",
   "version": "3.8.8"
  }
 },
 "nbformat": 4,
 "nbformat_minor": 5
}
